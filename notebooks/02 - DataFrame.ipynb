{
 "cells": [
  {
   "attachments": {},
   "cell_type": "markdown",
   "id": "47439dbd-4e54-4954-8b16-edc4bcd4f855",
   "metadata": {},
   "source": [
    "# Demo to Show DataFrame Operations"
   ]
  },
  {
   "cell_type": "code",
   "execution_count": 1,
   "id": "72ebb083-f06b-4408-b24d-f349bd0851e3",
   "metadata": {},
   "outputs": [],
   "source": [
    "# On the instance where you are running jupyter,\n",
    "# authenticate with gcloud first:\n",
    "#\n",
    "#     gcloud auth application-default login\n",
    "\n",
    "import bigframes as bf\n",
    "\n",
    "conn = bf.connect()"
   ]
  },
  {
   "cell_type": "code",
   "execution_count": 2,
   "id": "96757c59-fc22-420e-a42f-c6cb956110ec",
   "metadata": {},
   "outputs": [],
   "source": [
    "df = conn.read_gbq(\"garrettwu-test-project-2.bigframes.scalars\")"
   ]
  },
  {
   "attachments": {},
   "cell_type": "markdown",
   "id": "13861abc-120c-4db6-ad0c-e414b85d3443",
   "metadata": {},
   "source": [
    "### Select a subset of the DF"
   ]
  },
  {
   "cell_type": "code",
   "execution_count": 3,
   "id": "05cb36e9-bb75-4f6f-8eb6-e4219df6e1d2",
   "metadata": {},
   "outputs": [],
   "source": [
    "df = df[[\"bool_col\", \"int64_col\", \"int64_too\", \"rowindex\", \"string_col\"]]"
   ]
  },
  {
   "cell_type": "code",
   "execution_count": 4,
   "id": "f124234c-d292-4520-b9cc-a162e2b16d91",
   "metadata": {},
   "outputs": [
    {
     "data": {
      "text/plain": [
       "   bool_col   int64_col  int64_too  rowindex     string_col\n",
       "0      <NA>        <NA>          1         3           None\n",
       "1     False  -987654321          1         1          こんにちは\n",
       "2      True   123456789          0         0  Hello, World!\n",
       "3      True      314159          0         2   ¡Hola Mundo!\n",
       "\n",
       "[4 rows x 5 columns]"
      ]
     },
     "execution_count": 4,
     "metadata": {},
     "output_type": "execute_result"
    }
   ],
   "source": [
    "df\n",
    "# Here starts real execution, may take a while"
   ]
  },
  {
   "cell_type": "code",
   "execution_count": 5,
   "id": "a6b8b3ac-1df8-46ff-ac4f-d6e7657fc80c",
   "metadata": {},
   "outputs": [
    {
     "data": {
      "text/plain": [
       "(4, 5)"
      ]
     },
     "execution_count": 5,
     "metadata": {},
     "output_type": "execute_result"
    }
   ],
   "source": [
    "df.shape"
   ]
  },
  {
   "attachments": {},
   "cell_type": "markdown",
   "id": "efc9ccb5-4dee-4fb8-a95f-3a654421cec4",
   "metadata": {},
   "source": [
    "### Retrieve properties of the DF."
   ]
  },
  {
   "cell_type": "code",
   "execution_count": 6,
   "id": "34457cc7-e734-4e3f-9f2b-34cdd4e2aba4",
   "metadata": {
    "tags": []
   },
   "outputs": [
    {
     "data": {
      "text/plain": [
       "bool_col      boolean\n",
       "int64_col       Int64\n",
       "int64_too       Int64\n",
       "rowindex        Int64\n",
       "string_col     string\n",
       "dtype: object"
      ]
     },
     "execution_count": 6,
     "metadata": {},
     "output_type": "execute_result"
    }
   ],
   "source": [
    "df.dtypes"
   ]
  },
  {
   "cell_type": "code",
   "execution_count": 7,
   "id": "b4f4383f-f596-41d8-aad2-2fd68d261cfd",
   "metadata": {},
   "outputs": [
    {
     "data": {
      "text/plain": [
       "Index(['bool_col', 'int64_col', 'int64_too', 'rowindex', 'string_col'], dtype='object')"
      ]
     },
     "execution_count": 7,
     "metadata": {},
     "output_type": "execute_result"
    }
   ],
   "source": [
    "df.columns"
   ]
  },
  {
   "attachments": {},
   "cell_type": "markdown",
   "id": "70e0a637-52ac-47cd-93e2-75d06d7a6170",
   "metadata": {},
   "source": [
    "### Add a new column"
   ]
  },
  {
   "cell_type": "code",
   "execution_count": 8,
   "id": "c7017f3d-869d-42e3-bbd8-b3fbc408c2d0",
   "metadata": {
    "tags": []
   },
   "outputs": [
    {
     "data": {
      "text/plain": [
       "   bool_col   int64_col  int64_too  rowindex     string_col  int64_col3\n",
       "0      <NA>        <NA>          1         3           None        <NA>\n",
       "1     False  -987654321          1         1          こんにちは  -987654320\n",
       "2      True   123456789          0         0  Hello, World!   123456789\n",
       "3      True      314159          0         2   ¡Hola Mundo!      314159\n",
       "\n",
       "[4 rows x 6 columns]"
      ]
     },
     "execution_count": 8,
     "metadata": {},
     "output_type": "execute_result"
    }
   ],
   "source": [
    "df = df.assign(int64_col3=df['int64_col'] + df['int64_too'])\n",
    "df"
   ]
  },
  {
   "attachments": {},
   "cell_type": "markdown",
   "id": "a4f9c18c-865e-4057-9e9a-85564f940c82",
   "metadata": {},
   "source": [
    "### Manipulate the column"
   ]
  },
  {
   "cell_type": "code",
   "execution_count": 9,
   "id": "8bbe000a-36f0-4b6f-b403-b9ec28dd608b",
   "metadata": {},
   "outputs": [
    {
     "data": {
      "text/plain": [
       "   bool_col   int64_col  int64_too  rowindex     string_col     int_new\n",
       "0      <NA>        <NA>          1         3           None        <NA>\n",
       "1     False  -987654321          1         1          こんにちは  -987654320\n",
       "2      True   123456789          0         0  Hello, World!   123456789\n",
       "3      True      314159          0         2   ¡Hola Mundo!      314159\n",
       "\n",
       "[4 rows x 6 columns]"
      ]
     },
     "execution_count": 9,
     "metadata": {},
     "output_type": "execute_result"
    }
   ],
   "source": [
    "df = df.rename(columns={\"int64_col3\": \"int_new\"})\n",
    "df"
   ]
  },
  {
   "cell_type": "code",
   "execution_count": 10,
   "id": "87eee643-28ac-4f4b-ac61-1f3de9c08a9d",
   "metadata": {},
   "outputs": [],
   "source": [
    "df = df.drop(columns=\"int_new\")"
   ]
  },
  {
   "cell_type": "code",
   "execution_count": 11,
   "id": "fad6d3da-1f40-4c5f-94ec-0bdfe21ca5b6",
   "metadata": {},
   "outputs": [
    {
     "data": {
      "text/plain": [
       "   bool_col   int64_col  int64_too  rowindex     string_col\n",
       "0      <NA>        <NA>          1         3           None\n",
       "1     False  -987654321          1         1          こんにちは\n",
       "2      True   123456789          0         0  Hello, World!\n",
       "3      True      314159          0         2   ¡Hola Mundo!\n",
       "\n",
       "[4 rows x 5 columns]"
      ]
     },
     "execution_count": 11,
     "metadata": {},
     "output_type": "execute_result"
    }
   ],
   "source": [
    "df"
   ]
  },
  {
   "attachments": {},
   "cell_type": "markdown",
   "id": "218b3d0f-ee0d-4a8a-8c7d-cf24825f3d3e",
   "metadata": {},
   "source": [
    "### Drop Nan values"
   ]
  },
  {
   "cell_type": "code",
   "execution_count": 12,
   "id": "67a7c35f-80cf-4482-80f9-7f01c7743807",
   "metadata": {},
   "outputs": [
    {
     "data": {
      "text/plain": [
       "   bool_col   int64_col  int64_too  rowindex     string_col\n",
       "0     False  -987654321          1         1          こんにちは\n",
       "1      True   123456789          0         0  Hello, World!\n",
       "2      True      314159          0         2   ¡Hola Mundo!\n",
       "\n",
       "[3 rows x 5 columns]"
      ]
     },
     "execution_count": 12,
     "metadata": {},
     "output_type": "execute_result"
    }
   ],
   "source": [
    "df = df.dropna()\n",
    "df"
   ]
  },
  {
   "attachments": {},
   "cell_type": "markdown",
   "id": "80e9a2e2-c4c9-4c17-bbd0-06882d7657fe",
   "metadata": {},
   "source": [
    "### Join two DFs"
   ]
  },
  {
   "cell_type": "code",
   "execution_count": 13,
   "id": "3f09ff32-ef43-4fab-a86b-8868afc34363",
   "metadata": {},
   "outputs": [
    {
     "data": {
      "text/plain": [
       "   rowindex  bool_col\n",
       "0         1     False\n",
       "1         0      True\n",
       "2         2      True\n",
       "\n",
       "[3 rows x 2 columns]"
      ]
     },
     "execution_count": 13,
     "metadata": {},
     "output_type": "execute_result"
    }
   ],
   "source": [
    "df1 = df[\"rowindex\", \"bool_col\"]\n",
    "df1"
   ]
  },
  {
   "cell_type": "code",
   "execution_count": 14,
   "id": "5331d2c8-7912-4d96-8da1-f64b57374df3",
   "metadata": {},
   "outputs": [
    {
     "data": {
      "text/plain": [
       "   rowindex     string_col\n",
       "0         1          こんにちは\n",
       "1         0  Hello, World!\n",
       "\n",
       "[2 rows x 2 columns]"
      ]
     },
     "execution_count": 14,
     "metadata": {},
     "output_type": "execute_result"
    }
   ],
   "source": [
    "df2 = df[\"rowindex\", \"string_col\"].head(2)\n",
    "df2"
   ]
  },
  {
   "cell_type": "code",
   "execution_count": 15,
   "id": "a574ad3e-a219-454c-8bb5-c5ed6627f2c6",
   "metadata": {},
   "outputs": [
    {
     "data": {
      "text/plain": [
       "   rowindex  bool_col     string_col\n",
       "0         1     False          こんにちは\n",
       "1         0      True  Hello, World!\n",
       "\n",
       "[2 rows x 3 columns]"
      ]
     },
     "execution_count": 15,
     "metadata": {},
     "output_type": "execute_result"
    }
   ],
   "source": [
    "df1.merge(df2, on=\"rowindex\", how=\"inner\")"
   ]
  },
  {
   "cell_type": "code",
   "execution_count": 16,
   "id": "288e7a95-a077-46c4-8fe6-802474c01f8b",
   "metadata": {},
   "outputs": [
    {
     "data": {
      "text/plain": [
       "   rowindex  bool_col     string_col\n",
       "0         0      True  Hello, World!\n",
       "1         2      True           None\n",
       "2         1     False          こんにちは\n",
       "\n",
       "[3 rows x 3 columns]"
      ]
     },
     "execution_count": 16,
     "metadata": {},
     "output_type": "execute_result"
    }
   ],
   "source": [
    "df1.merge(df2, on=\"rowindex\", how=\"outer\")"
   ]
  },
  {
   "cell_type": "code",
   "execution_count": 17,
   "id": "7ee87a01-2ff5-4021-855d-44b71cf2a225",
   "metadata": {},
   "outputs": [
    {
     "data": {
      "text/plain": [
       "   rowindex  bool_col     string_col\n",
       "0         1     False          こんにちは\n",
       "1         0      True  Hello, World!\n",
       "2         2      True           None\n",
       "\n",
       "[3 rows x 3 columns]"
      ]
     },
     "execution_count": 17,
     "metadata": {},
     "output_type": "execute_result"
    }
   ],
   "source": [
    "df1.merge(df2, on=\"rowindex\", how=\"left\")"
   ]
  },
  {
   "cell_type": "code",
   "execution_count": 18,
   "id": "330ed69c-f122-4af9-bf5e-96e309d3fa0c",
   "metadata": {},
   "outputs": [
    {
     "data": {
      "text/plain": [
       "   rowindex  bool_col     string_col\n",
       "0         1     False          こんにちは\n",
       "1         0      True  Hello, World!\n",
       "\n",
       "[2 rows x 3 columns]"
      ]
     },
     "execution_count": 18,
     "metadata": {},
     "output_type": "execute_result"
    }
   ],
   "source": [
    "df1.merge(df2, on=\"rowindex\", how=\"right\")"
   ]
  },
  {
   "attachments": {},
   "cell_type": "markdown",
   "id": "ea42b463-f37b-4ea4-805f-a16a84b656e4",
   "metadata": {},
   "source": [
    "### Concat two DFs"
   ]
  },
  {
   "cell_type": "code",
   "execution_count": 19,
   "id": "5181231e-8a2a-4ac5-a379-6aa5ad4fee89",
   "metadata": {},
   "outputs": [
    {
     "data": {
      "text/plain": [
       "   bool_col   int64_col  int64_too  rowindex     string_col\n",
       "0     False  -987654321          1         1          こんにちは\n",
       "1      True   123456789          0         0  Hello, World!\n",
       "2      True      314159          0         2   ¡Hola Mundo!\n",
       "3     False  -987654321          1         1          こんにちは\n",
       "4      True   123456789          0         0  Hello, World!\n",
       "5      True      314159          0         2   ¡Hola Mundo!\n",
       "\n",
       "[6 rows x 5 columns]"
      ]
     },
     "execution_count": 19,
     "metadata": {},
     "output_type": "execute_result"
    }
   ],
   "source": [
    "bf.concat([df, df])"
   ]
  },
  {
   "attachments": {},
   "cell_type": "markdown",
   "id": "dcddbc12-3f17-43f5-a829-84d8093c7760",
   "metadata": {},
   "source": [
    "### Access column through property"
   ]
  },
  {
   "cell_type": "code",
   "execution_count": 20,
   "id": "ad1f86f1-890b-462b-b408-b94c073371ff",
   "metadata": {},
   "outputs": [
    {
     "data": {
      "text/plain": [
       "0    False\n",
       "1     True\n",
       "2     True\n",
       "Name: bool_col, dtype: boolean"
      ]
     },
     "execution_count": 20,
     "metadata": {},
     "output_type": "execute_result"
    }
   ],
   "source": [
    "df.bool_col"
   ]
  },
  {
   "attachments": {},
   "cell_type": "markdown",
   "id": "4ae2e978-ac96-4c6a-8be8-9df9424c3544",
   "metadata": {},
   "source": [
    "### Retrieve SQL"
   ]
  },
  {
   "cell_type": "code",
   "execution_count": 21,
   "id": "2ae4924b-37a9-4327-81d4-4f2afb66cb37",
   "metadata": {},
   "outputs": [
    {
     "name": "stdout",
     "output_type": "stream",
     "text": [
      "WITH t0 AS (\n",
      "  SELECT t8.`rowindex` AS `rowindex`, t8.`string_col` AS `string_col`,\n",
      "         ((((t8.`bool_col` IS NOT NULL) AND (t8.`int64_col` IS NOT NULL)) AND (t8.`int64_too` IS NOT NULL)) AND (t8.`rowindex` IS NOT NULL)) AND (t8.`string_col` IS NOT NULL) AS `bigframes_predicate`\n",
      "  FROM `garrettwu-test-project-2.bigframes.scalars` t8\n",
      "),\n",
      "t1 AS (\n",
      "  SELECT t0.*\n",
      "  FROM t0\n",
      "  WHERE t0.`bigframes_predicate`\n",
      "),\n",
      "t2 AS (\n",
      "  SELECT t8.`rowindex` AS `rowindex`, t8.`bool_col` AS `bool_col`,\n",
      "         ((((t8.`bool_col` IS NOT NULL) AND (t8.`int64_col` IS NOT NULL)) AND (t8.`int64_too` IS NOT NULL)) AND (t8.`rowindex` IS NOT NULL)) AND (t8.`string_col` IS NOT NULL) AS `bigframes_predicate`\n",
      "  FROM `garrettwu-test-project-2.bigframes.scalars` t8\n",
      "),\n",
      "t3 AS (\n",
      "  SELECT t2.*\n",
      "  FROM t2\n",
      "  WHERE t2.`bigframes_predicate`\n",
      "),\n",
      "t4 AS (\n",
      "  SELECT t8.*\n",
      "  FROM (\n",
      "    SELECT t1.`rowindex`, t1.`string_col`\n",
      "    FROM t1\n",
      "  ) t8\n",
      "  LIMIT 2\n",
      "),\n",
      "t5 AS (\n",
      "  SELECT t3.`rowindex`, t3.`bool_col`\n",
      "  FROM t3\n",
      "),\n",
      "t6 AS (\n",
      "  SELECT t4.`rowindex`, t4.`string_col`\n",
      "  FROM t4\n",
      ")\n",
      "SELECT t7.`rowindex`, t7.`bool_col`, t7.`string_col`\n",
      "FROM (\n",
      "  SELECT t5.`rowindex`, t5.`bool_col`, t6.`string_col`\n",
      "  FROM t5\n",
      "    INNER JOIN t6\n",
      "      ON t5.`rowindex` = t6.`rowindex`\n",
      ") t7\n"
     ]
    }
   ],
   "source": [
    "print(df1.merge(df2, on=\"rowindex\", how=\"inner\").sql)"
   ]
  },
  {
   "attachments": {},
   "cell_type": "markdown",
   "id": "cec555be-0773-45e0-9008-86cd3e645285",
   "metadata": {},
   "source": [
    "### Special Column Names"
   ]
  },
  {
   "cell_type": "code",
   "execution_count": 22,
   "id": "5adc7bbf-2c58-4924-964c-ed1b18dc9268",
   "metadata": {},
   "outputs": [
    {
     "data": {
      "text/plain": [
       "   bool_col   int64_col  int64    col  rowindex     string_col\n",
       "0     False  -987654321             1         1          こんにちは\n",
       "1      True   123456789             0         0  Hello, World!\n",
       "2      True      314159             0         2   ¡Hola Mundo!\n",
       "\n",
       "[3 rows x 5 columns]"
      ]
     },
     "execution_count": 22,
     "metadata": {},
     "output_type": "execute_result"
    }
   ],
   "source": [
    "df.rename(columns={\"int64_too\": \"int64    col\"})"
   ]
  },
  {
   "cell_type": "code",
   "execution_count": 23,
   "id": "ac3ceabe-4317-453c-9418-826de5094454",
   "metadata": {},
   "outputs": [
    {
     "data": {
      "text/plain": [
       "   bool_col   int64_col  int64!@#$%col  rowindex     string_col\n",
       "0     False  -987654321              1         1          こんにちは\n",
       "1      True   123456789              0         0  Hello, World!\n",
       "2      True      314159              0         2   ¡Hola Mundo!\n",
       "\n",
       "[3 rows x 5 columns]"
      ]
     },
     "execution_count": 23,
     "metadata": {},
     "output_type": "execute_result"
    }
   ],
   "source": [
    "df.rename(columns={\"int64_too\": \"int64!@#$%col\"})"
   ]
  },
  {
   "cell_type": "code",
   "execution_count": 24,
   "id": "e73704c9-7aa9-4f10-b414-3417c3ad9eb8",
   "metadata": {},
   "outputs": [
    {
     "data": {
      "text/plain": [
       "   bool_col   int64_col  int64_col  rowindex     string_col\n",
       "0     False  -987654321          1         1          こんにちは\n",
       "1      True   123456789          0         0  Hello, World!\n",
       "2      True      314159          0         2   ¡Hola Mundo!\n",
       "\n",
       "[3 rows x 5 columns]"
      ]
     },
     "execution_count": 24,
     "metadata": {},
     "output_type": "execute_result"
    }
   ],
   "source": [
    "df3 = df.rename(columns={\"int64_too\": \"int64_col\"})\n",
    "df3"
   ]
  },
  {
   "cell_type": "code",
   "execution_count": 25,
   "id": "1a80f6f8-a172-4d7d-a2f5-e10871da7224",
   "metadata": {},
   "outputs": [
    {
     "data": {
      "text/plain": [
       "    int64_col  int64_col\n",
       "0  -987654321          1\n",
       "1   123456789          0\n",
       "2      314159          0\n",
       "\n",
       "[3 rows x 2 columns]"
      ]
     },
     "execution_count": 25,
     "metadata": {},
     "output_type": "execute_result"
    }
   ],
   "source": [
    "df3[\"int64_col\"]"
   ]
  },
  {
   "attachments": {},
   "cell_type": "markdown",
   "id": "8e1a4dc8-de23-466e-8ead-df4af82a8085",
   "metadata": {},
   "source": [
    "### Binary Operation"
   ]
  },
  {
   "cell_type": "code",
   "execution_count": 26,
   "id": "2414a095-37df-4755-b86c-2031a6cb9d4a",
   "metadata": {},
   "outputs": [
    {
     "data": {
      "text/plain": [
       "    int64_col  int64_too\n",
       "0  -987654321          1\n",
       "1   123456789          0\n",
       "2      314159          0\n",
       "\n",
       "[3 rows x 2 columns]"
      ]
     },
     "execution_count": 26,
     "metadata": {},
     "output_type": "execute_result"
    }
   ],
   "source": [
    "df4 = df[[\"int64_col\", \"int64_too\"]]\n",
    "df4"
   ]
  },
  {
   "cell_type": "code",
   "execution_count": 27,
   "id": "7d437c7c-ae74-4f0d-a4f8-10a133f4b61e",
   "metadata": {},
   "outputs": [
    {
     "data": {
      "text/plain": [
       "    int64_col  int64_too\n",
       "0  -987654320          2\n",
       "1   123456790          1\n",
       "2      314160          1\n",
       "\n",
       "[3 rows x 2 columns]"
      ]
     },
     "execution_count": 27,
     "metadata": {},
     "output_type": "execute_result"
    }
   ],
   "source": [
    "df4 + 1"
   ]
  },
  {
   "cell_type": "code",
   "execution_count": null,
   "id": "f8b0af57-4641-4c9b-aabe-0e00767ac6fa",
   "metadata": {},
   "outputs": [],
   "source": []
  }
 ],
 "metadata": {
  "kernelspec": {
   "display_name": "Python 3 (ipykernel)",
   "language": "python",
   "name": "python3"
  },
  "language_info": {
   "codemirror_mode": {
    "name": "ipython",
    "version": 3
   },
   "file_extension": ".py",
   "mimetype": "text/x-python",
   "name": "python",
   "nbconvert_exporter": "python",
   "pygments_lexer": "ipython3",
   "version": "3.10.9"
  }
 },
 "nbformat": 4,
 "nbformat_minor": 5
}
