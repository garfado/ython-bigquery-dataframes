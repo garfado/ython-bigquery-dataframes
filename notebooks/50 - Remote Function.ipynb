{
 "cells": [
  {
   "cell_type": "code",
   "execution_count": 2,
   "id": "3613b1cd",
   "metadata": {},
   "outputs": [],
   "source": [
    "TABLE='bigquery-public-data.stackoverflow.comments'\n",
    "MAX_ROWS=1000000 # 1 Million"
   ]
  },
  {
   "cell_type": "code",
   "execution_count": 4,
   "id": "f1175247",
   "metadata": {},
   "outputs": [
    {
     "name": "stdout",
     "output_type": "stream",
     "text": [
      "    id                                               text  score\n",
      "0   10  It will help if you give some details of which...      6\n",
      "1   25  infact it does. Look a the first lines of your...     10\n",
      "2   27  \"Currently + is implemented using StringBuffer...      7\n",
      "3   41  I don't think that's the magic number he was r...     18\n",
      "4   59  It's still very useful to know that magic numb...     12\n",
      "5   96  This implementation is also nice if you wish t...      9\n",
      "6  108  That's not full text searching, it's searching...      6\n",
      "7  109  That's not full text searching, it's searching...      6\n",
      "8  137  In vim you can open > 1 buffer. :e filename. T...      9\n",
      "9  154  Sure, but what about a solution using O(1) mem...      8\n",
      "CPU times: user 25.4 s, sys: 2.07 s, total: 27.4 s\n",
      "Wall time: 1min 47s\n"
     ]
    }
   ],
   "source": [
    "%%time\n",
    "\n",
    "##############################\n",
    "#       Pandas World         #\n",
    "##############################\n",
    "\n",
    "import pandas as pd\n",
    "df = pd.read_gbq(TABLE, max_results=MAX_ROWS)[['id', 'text', 'score']]\n",
    "print(df.head(10))"
   ]
  },
  {
   "cell_type": "code",
   "execution_count": 5,
   "id": "fd8a04a3",
   "metadata": {},
   "outputs": [],
   "source": [
    "# User defined function\n",
    "# https://www.codespeedy.com/find-nth-prime-number-in-python/\n",
    "def nth_prime(n):\n",
    "    prime_numbers = [2,3]\n",
    "    i=3\n",
    "    if(0<n<=2):\n",
    "        return prime_numbers[n-1]\n",
    "    elif(n>2):\n",
    "        while (True):\n",
    "            i+=1\n",
    "            status = True\n",
    "            for j in range(2,int(i/2)+1):\n",
    "                if(i%j==0):\n",
    "                    status = False\n",
    "                    break\n",
    "            if(status==True):\n",
    "                prime_numbers.append(i)\n",
    "            if(len(prime_numbers)==n):\n",
    "                break\n",
    "        return prime_numbers[n-1]\n",
    "    else:\n",
    "        return -1"
   ]
  },
  {
   "cell_type": "code",
   "execution_count": 6,
   "id": "2b5e4568",
   "metadata": {},
   "outputs": [
    {
     "name": "stdout",
     "output_type": "stream",
     "text": [
      "    id                                               text  score  n_prime\n",
      "0   10  It will help if you give some details of which...      6       13\n",
      "1   25  infact it does. Look a the first lines of your...     10       29\n",
      "2   27  \"Currently + is implemented using StringBuffer...      7       17\n",
      "3   41  I don't think that's the magic number he was r...     18       61\n",
      "4   59  It's still very useful to know that magic numb...     12       37\n",
      "5   96  This implementation is also nice if you wish t...      9       23\n",
      "6  108  That's not full text searching, it's searching...      6       13\n",
      "7  109  That's not full text searching, it's searching...      6       13\n",
      "8  137  In vim you can open > 1 buffer. :e filename. T...      9       23\n",
      "9  154  Sure, but what about a solution using O(1) mem...      8       19\n",
      "CPU times: user 5.42 s, sys: 4.21 ms, total: 5.42 s\n",
      "Wall time: 5.43 s\n"
     ]
    }
   ],
   "source": [
    "%%time\n",
    "\n",
    "df = df.assign(n_prime=df['score'].apply(nth_prime))\n",
    "print(df.head(10))"
   ]
  },
  {
   "cell_type": "code",
   "execution_count": 7,
   "id": "b81feaef",
   "metadata": {},
   "outputs": [
    {
     "name": "stdout",
     "output_type": "stream",
     "text": [
      "                id                                               text  score\n",
      "1042755  103979625  Also, if you've got VS configured to sort usin...      0\n",
      "1047568   59900587  A clean and maintainable way to calculate this...      0\n",
      "1060459    2383118   The next question is \"what use is this, really?\"      1\n",
      "1065436  111394474  I have finished this by using Nios II, after a...      0\n",
      "1066265   89483681  This seems to be an XY problem. Why do you wan...      1\n",
      "1070760   31147709  Ah, but the question is Uri, not URI. People h...      5\n",
      "1076662   58094982                              Perfect ! Thank you !      0\n",
      "1078346   80801724  Yes, i need to invoke a partikular function of...      0\n",
      "1078756   52600144  i am lost, not in sandbox mode, verified domai...      5\n",
      "1083546   36765535  add it as a possibility and set the default va...      0\n",
      "\n",
      "[10 rows x 3 columns]\n",
      "CPU times: user 754 ms, sys: 53.1 ms, total: 807 ms\n",
      "Wall time: 38.3 s\n"
     ]
    }
   ],
   "source": [
    "%%time\n",
    "\n",
    "##############################\n",
    "#     BigFrames World        #\n",
    "##############################\n",
    "\n",
    "import bigframes\n",
    "pd = bigframes.connect()\n",
    "\n",
    "df = pd.read_gbq(TABLE).head(MAX_ROWS)[['id', 'text', 'score']]\n",
    "print(df.head(10))"
   ]
  },
  {
   "cell_type": "code",
   "execution_count": 8,
   "id": "55ed241e",
   "metadata": {},
   "outputs": [
    {
     "name": "stdout",
     "output_type": "stream",
     "text": [
      "Help on function remote_function in module bigframes.remote_function:\n",
      "\n",
      "remote_function(input_types: 'typing.List[ibis_data_type]', output_type: 'ibis_data_type', session: 'typing.Optional[Session]' = None, bigquery_client: 'typing.Optional[bigquery.Client]' = None, dataset: 'typing.Optional[str]' = None, bigquery_connection: 'typing.Optional[str]' = None, reuse: 'bool' = True)\n",
      "    Decorator to turn a user defined function into a BigQuery remote function.\n",
      "    \n",
      "    Parameters\n",
      "    ----------\n",
      "    input_types : list(ibis.expr.datatypes)\n",
      "        List of input data types in the user defined function.\n",
      "    output_type : ibis.expr.datatypes\n",
      "        Data type of the output in the user defined function.\n",
      "    session : bigframes.Session, Optional\n",
      "        BigFrames session to use for getting default project, dataset and\n",
      "        bigquery connection.\n",
      "    bigquery_client : google.cloud.bigquery.Client, Optional\n",
      "        Client to use for BigQuery operations. If this param is not provided\n",
      "        then bigquery client from the session would be used.\n",
      "    dataset : str, Optional\n",
      "        Dataset to use to create a BigQuery function. It should be in\n",
      "        `<project_id>.<dataset_name>` or `<dataset_name>` format. If this\n",
      "        param is not provided then session dataset id would be used.\n",
      "    bigquery_connection : str, Optional\n",
      "        Name of the BigQuery connection. If it is pre created in the same\n",
      "        location as the `bigquery_client.location` then it would be used,\n",
      "        otherwise it would be created dynamically assuming the user has\n",
      "        necessary priviliges. If this param is not provided then the\n",
      "        bigquery connection from the session would be used.\n",
      "    reuse : bool, Optional\n",
      "        Reuse the remote function if already exists.\n",
      "        `True` by default, which will result in reusing an existing remote\n",
      "        function (if any) that was previously created for the same udf.\n",
      "        Setting it to false would force creating a unique remote function.\n",
      "        If the required remote function does not exist then it would be\n",
      "        created irrespective of this param.\n",
      "    \n",
      "    Prerequisites\n",
      "    -------------\n",
      "    Please make sure following is setup before using this API:\n",
      "    \n",
      "    1. Have the below APIs enabled for your project:\n",
      "          a. Cloud Build API\n",
      "          b. Artifact Registry API\n",
      "          c. Cloud Functions API\n",
      "          d. BigQuery Connection API\n",
      "    \n",
      "       This can be done from the cloud console (change PROJECT_ID to yours):\n",
      "          https://console.cloud.google.com/apis/enableflow?apiid=cloudbuild.googleapis.com,artifactregistry.googleapis.com,cloudfunctions.googleapis.com,bigqueryconnection.googleapis.com&project=PROJECT_ID\n",
      "       Or from the gcloud CLI:\n",
      "          gcloud services enable cloudbuild.googleapis.com artifactregistry.googleapis.com cloudfunctions.googleapis.com bigqueryconnection.googleapis.com\n",
      "    \n",
      "    2. Have following IAM roles enabled for you:\n",
      "        a. BigQuery Job User (roles/bigquery.jobUser)\n",
      "        b. BigQuery Connection User (roles/bigquery.connectionUser)\n",
      "        c. Cloud Functions Developer (roles/cloudfunctions.developer)\n",
      "    \n",
      "    3. Either the user has setIamPolicy privilege on the project, or a\n",
      "       BigQuery connection is pre-created with necessary IAM role set:\n",
      "        a. To create a connection, follow https://cloud.google.com/bigquery/docs/reference/standard-sql/remote-functions#create_a_connection\n",
      "        b. To set up IAM, follow https://cloud.google.com/bigquery/docs/reference/standard-sql/remote-functions#grant_permission_on_function\n",
      "            Alternatively, the IAM could also be setup via the gcloud CLI:\n",
      "            gcloud projects add-iam-policy-binding PROJECT_ID --member=\"serviceAccount:CONNECTION_SERVICE_ACCOUNT_ID\" --role=\"roles/run.invoker\"\n",
      "\n"
     ]
    }
   ],
   "source": [
    "# User simply imports the remote_function decorator and uses it on their udf\n",
    "from bigframes import remote_function\n",
    "\n",
    "# Tell the user what needs to be done offline before using BigFrames remote functions\n",
    "help(remote_function)"
   ]
  },
  {
   "cell_type": "code",
   "execution_count": 9,
   "id": "c9a8d03d",
   "metadata": {},
   "outputs": [],
   "source": [
    "# BigFrames requires user to annotate the udf with input and output data types\n",
    "# Here we are using ibis datatypes, but ideally we would adapt to go/bigframes-dtypes\n",
    "import ibis.expr.datatypes as dt\n",
    "\n",
    "# BigFrames requires user to specify a dataset where the BQ function would be persisted\n",
    "# We are discussing if this can be avoided in go/bigframes-transient-data\n",
    "dataset_id = 'my-first-project-331618.bigframes_dev'\n",
    "\n",
    "# BigFrames user is a data scientist and may not have privileges to create a BQ connector\n",
    "# and set it up for invoking a cloud function. They should get such a connector created\n",
    "# from their cloud admin and use it with BigFrames remote functions.\n",
    "bq_connector_name = 'bigframes-rf-conn'\n"
   ]
  },
  {
   "cell_type": "code",
   "execution_count": 11,
   "id": "fbc27f81",
   "metadata": {},
   "outputs": [
    {
     "name": "stderr",
     "output_type": "stream",
     "text": [
      "[INFO][2023-05-09 20:47:30,804][bigframes.remote_function] Existing cloud functions\n"
     ]
    },
    {
     "name": "stdout",
     "output_type": "stream",
     "text": [
      "NAME                               STATE   TRIGGER       REGION       ENVIRONMENT\n",
      "batch-add                          ACTIVE  HTTP Trigger  us-central1  2nd gen\n",
      "bigframes-find-team-5toiyt1g       ACTIVE  HTTP Trigger  us-central1  2nd gen\n",
      "bigframes-find-team-dbq6wkfr       ACTIVE  HTTP Trigger  us-central1  2nd gen\n",
      "python-chicago-map-from-web-http   ACTIVE  HTTP Trigger  us-central1  2nd gen\n",
      "python-chicago-map-hardcoded-http  ACTIVE  HTTP Trigger  us-central1  2nd gen\n",
      "python-example-udf-num-num-http    ACTIVE  HTTP Trigger  us-central1  2nd gen\n",
      "python-http-add-one                ACTIVE  HTTP Trigger  us-east1     2nd gen\n",
      "python-http-function               ACTIVE  HTTP Trigger  us-central1  2nd gen\n",
      "python-http-function-1             ACTIVE  HTTP Trigger  us-central1  2nd gen\n",
      "python-mul2-http                   ACTIVE  HTTP Trigger  us-central1  2nd gen\n",
      "python-multiply-http               ACTIVE  HTTP Trigger  us-central1  2nd gen\n",
      "python-mysquare-http               ACTIVE  HTTP Trigger  us-central1  2nd gen\n",
      "python-mysquare2-http              ACTIVE  HTTP Trigger  us-central1  2nd gen\n",
      "python-nth-prime-http              ACTIVE  HTTP Trigger  us-central1  2nd gen\n",
      "python-square-http                 ACTIVE  HTTP Trigger  us-central1  2nd gen\n",
      "python-stringify-http              ACTIVE  HTTP Trigger  us-central1  2nd gen\n",
      "square                             ACTIVE  HTTP Trigger  us-central1  2nd gen\n"
     ]
    },
    {
     "name": "stderr",
     "output_type": "stream",
     "text": [
      "[INFO][2023-05-09 20:47:36,050][bigframes.remote_function] Creating new cloud function: gcloud functions deploy bigframes-nth-prime --gen2 --runtime=python310 --project=my-first-project-331618 --region=us-central1 --source=/tmp/tmpm0jjryey --entry-point=udf_http --trigger-http --no-allow-unauthenticated\n",
      "Preparing function...\n",
      ".done.\n",
      "Deploying function...\n",
      "[Build]...................................................................................................................................................................................................................................................................................................................................................................................................................................................................done\n",
      "[Service].........................................................................................................................................................................................................done\n",
      "Done.\n",
      "You can view your function in the Cloud Console here: https://console.cloud.google.com/functions/details/us-central1/bigframes-nth-prime?project=my-first-project-331618\n",
      "\n"
     ]
    },
    {
     "name": "stdout",
     "output_type": "stream",
     "text": [
      "buildConfig:\n",
      "  build: projects/371300922916/locations/us-central1/builds/90cfeb12-bbce-4bcc-a83d-624d220f3484\n",
      "  entryPoint: udf_http\n",
      "  runtime: python310\n",
      "  source:\n",
      "    storageSource:\n",
      "      bucket: gcf-v2-sources-371300922916-us-central1\n",
      "      object: bigframes-nth-prime/function-source.zip\n",
      "  sourceProvenance:\n",
      "    resolvedStorageSource:\n",
      "      bucket: gcf-v2-sources-371300922916-us-central1\n",
      "      generation: '1683665261099867'\n",
      "      object: bigframes-nth-prime/function-source.zip\n",
      "environment: GEN_2\n",
      "labels:\n",
      "  deployment-tool: cli-gcloud\n",
      "name: projects/my-first-project-331618/locations/us-central1/functions/bigframes-nth-prime\n",
      "serviceConfig:\n",
      "  allTrafficOnLatestRevision: true\n",
      "  availableCpu: '0.1666'\n",
      "  availableMemory: 256M\n",
      "  ingressSettings: ALLOW_ALL\n",
      "  maxInstanceCount: 100\n",
      "  maxInstanceRequestConcurrency: 1\n",
      "  revision: bigframes-nth-prime-00001-piw\n",
      "  service: projects/my-first-project-331618/locations/us-central1/services/bigframes-nth-prime\n",
      "  serviceAccountEmail: 371300922916-compute@developer.gserviceaccount.com\n",
      "  timeoutSeconds: 60\n",
      "  uri: https://bigframes-nth-prime-76sbkhjuiq-uc.a.run.app\n",
      "state: ACTIVE\n",
      "updateTime: '2023-05-09T20:48:44.249099156Z'\n"
     ]
    },
    {
     "name": "stderr",
     "output_type": "stream",
     "text": [
      "[INFO][2023-05-09 20:48:45,843][bigframes.remote_function] Existing cloud functions\n"
     ]
    },
    {
     "name": "stdout",
     "output_type": "stream",
     "text": [
      "NAME                               STATE   TRIGGER       REGION       ENVIRONMENT\n",
      "batch-add                          ACTIVE  HTTP Trigger  us-central1  2nd gen\n",
      "bigframes-find-team-5toiyt1g       ACTIVE  HTTP Trigger  us-central1  2nd gen\n",
      "bigframes-find-team-dbq6wkfr       ACTIVE  HTTP Trigger  us-central1  2nd gen\n",
      "bigframes-nth-prime                ACTIVE  HTTP Trigger  us-central1  2nd gen\n",
      "python-chicago-map-from-web-http   ACTIVE  HTTP Trigger  us-central1  2nd gen\n",
      "python-chicago-map-hardcoded-http  ACTIVE  HTTP Trigger  us-central1  2nd gen\n",
      "python-example-udf-num-num-http    ACTIVE  HTTP Trigger  us-central1  2nd gen\n",
      "python-http-add-one                ACTIVE  HTTP Trigger  us-east1     2nd gen\n",
      "python-http-function               ACTIVE  HTTP Trigger  us-central1  2nd gen\n",
      "python-http-function-1             ACTIVE  HTTP Trigger  us-central1  2nd gen\n",
      "python-mul2-http                   ACTIVE  HTTP Trigger  us-central1  2nd gen\n",
      "python-multiply-http               ACTIVE  HTTP Trigger  us-central1  2nd gen\n",
      "python-mysquare-http               ACTIVE  HTTP Trigger  us-central1  2nd gen\n",
      "python-mysquare2-http              ACTIVE  HTTP Trigger  us-central1  2nd gen\n",
      "python-nth-prime-http              ACTIVE  HTTP Trigger  us-central1  2nd gen\n",
      "python-square-http                 ACTIVE  HTTP Trigger  us-central1  2nd gen\n",
      "python-stringify-http              ACTIVE  HTTP Trigger  us-central1  2nd gen\n",
      "square                             ACTIVE  HTTP Trigger  us-central1  2nd gen\n"
     ]
    },
    {
     "name": "stderr",
     "output_type": "stream",
     "text": [
      "[INFO][2023-05-09 20:48:49,858][bigframes.remote_function] Successfully created cloud function bigframes-nth-prime with uri (https://bigframes-nth-prime-76sbkhjuiq-uc.a.run.app)\n",
      "[INFO][2023-05-09 20:48:50,105][bigframes.remote_function] Remote function bigframes_nth_prime already exists.\n"
     ]
    },
    {
     "name": "stdout",
     "output_type": "stream",
     "text": [
      "\n",
      "Wall time: 80.9254 s\n"
     ]
    }
   ],
   "source": [
    "from time import perf_counter\n",
    "start = perf_counter()\n",
    "#-------------------------------------------------------------------------------------\n",
    "\n",
    "# User defined function\n",
    "# https://www.codespeedy.com/find-nth-prime-number-in-python/\n",
    "@remote_function([dt.int64()], dt.int64(), session=pd, dataset=dataset_id, bigquery_connection=bq_connector_name)\n",
    "def nth_prime(n):\n",
    "    prime_numbers = [2,3]\n",
    "    i=3\n",
    "    if(0<n<=2):\n",
    "        return prime_numbers[n-1]\n",
    "    elif(n>2):\n",
    "        while (True):\n",
    "            i+=1\n",
    "            status = True\n",
    "            for j in range(2,int(i/2)+1):\n",
    "                if(i%j==0):\n",
    "                    status = False\n",
    "                    break\n",
    "            if(status==True):\n",
    "                prime_numbers.append(i)\n",
    "            if(len(prime_numbers)==n):\n",
    "                break\n",
    "        return prime_numbers[n-1]\n",
    "    else:\n",
    "        return -1\n",
    "\n",
    "#-------------------------------------------------------------------------------------\n",
    "print(f\"\\nWall time: {(perf_counter()-start):.4f} s\")"
   ]
  },
  {
   "cell_type": "code",
   "execution_count": 12,
   "id": "c1c9355f",
   "metadata": {},
   "outputs": [
    {
     "name": "stdout",
     "output_type": "stream",
     "text": [
      "                id                                               text  score  \\\n",
      "1042755  103979625  Also, if you've got VS configured to sort usin...      0   \n",
      "1047568   59900587  A clean and maintainable way to calculate this...      0   \n",
      "1060459    2383118   The next question is \"what use is this, really?\"      1   \n",
      "1065436  111394474  I have finished this by using Nios II, after a...      0   \n",
      "1066265   89483681  This seems to be an XY problem. Why do you wan...      1   \n",
      "1070760   31147709  Ah, but the question is Uri, not URI. People h...      5   \n",
      "1076662   58094982                              Perfect ! Thank you !      0   \n",
      "1078346   80801724  Yes, i need to invoke a partikular function of...      0   \n",
      "1078756   52600144  i am lost, not in sandbox mode, verified domai...      5   \n",
      "1083546   36765535  add it as a possibility and set the default va...      0   \n",
      "\n",
      "         n_prime  \n",
      "1042755       -1  \n",
      "1047568       -1  \n",
      "1060459        2  \n",
      "1065436       -1  \n",
      "1066265        2  \n",
      "1070760       11  \n",
      "1076662       -1  \n",
      "1078346       -1  \n",
      "1078756       11  \n",
      "1083546       -1  \n",
      "\n",
      "[10 rows x 4 columns]\n",
      "CPU times: user 68.8 ms, sys: 0 ns, total: 68.8 ms\n",
      "Wall time: 7.96 s\n"
     ]
    }
   ],
   "source": [
    "%%time\n",
    "\n",
    "df = df.assign(n_prime=df['score'].apply(nth_prime))\n",
    "print(df.head(10))"
   ]
  },
  {
   "cell_type": "code",
   "execution_count": 13,
   "id": "3755a43d",
   "metadata": {},
   "outputs": [
    {
     "name": "stderr",
     "output_type": "stream",
     "text": [
      "[INFO][2023-05-09 20:52:34,593][bigframes.remote_function] Cloud function bigframes-nth-prime already exists.\n",
      "[INFO][2023-05-09 20:52:34,761][bigframes.remote_function] Remote function bigframes_nth_prime already exists.\n"
     ]
    },
    {
     "name": "stdout",
     "output_type": "stream",
     "text": [
      "\n",
      "Wall time: 1.6284 s\n"
     ]
    }
   ],
   "source": [
    "# This time the previously created remote function with the exact same source\n",
    "# code should be found and reused\n",
    "\n",
    "from time import perf_counter\n",
    "start = perf_counter()\n",
    "#-------------------------------------------------------------------------------------\n",
    "\n",
    "# User defined function\n",
    "# https://www.codespeedy.com/find-nth-prime-number-in-python/\n",
    "@remote_function([dt.int64()], dt.int64(), session=pd, dataset=dataset_id, bigquery_connection=bq_connector_name)\n",
    "def nth_prime(n):\n",
    "    prime_numbers = [2,3]\n",
    "    i=3\n",
    "    if(0<n<=2):\n",
    "        return prime_numbers[n-1]\n",
    "    elif(n>2):\n",
    "        while (True):\n",
    "            i+=1\n",
    "            status = True\n",
    "            for j in range(2,int(i/2)+1):\n",
    "                if(i%j==0):\n",
    "                    status = False\n",
    "                    break\n",
    "            if(status==True):\n",
    "                prime_numbers.append(i)\n",
    "            if(len(prime_numbers)==n):\n",
    "                break\n",
    "        return prime_numbers[n-1]\n",
    "    else:\n",
    "        return -1\n",
    "\n",
    "#-------------------------------------------------------------------------------------\n",
    "print(f\"\\nWall time: {(perf_counter()-start):.4f} s\")"
   ]
  },
  {
   "cell_type": "code",
   "execution_count": 15,
   "id": "f239d00f",
   "metadata": {},
   "outputs": [
    {
     "name": "stdout",
     "output_type": "stream",
     "text": [
      "                id                                               text  score  \\\n",
      "1042755  103979625  Also, if you've got VS configured to sort usin...      0   \n",
      "1047568   59900587  A clean and maintainable way to calculate this...      0   \n",
      "1060459    2383118   The next question is \"what use is this, really?\"      1   \n",
      "1065436  111394474  I have finished this by using Nios II, after a...      0   \n",
      "1066265   89483681  This seems to be an XY problem. Why do you wan...      1   \n",
      "1070760   31147709  Ah, but the question is Uri, not URI. People h...      5   \n",
      "1076662   58094982                              Perfect ! Thank you !      0   \n",
      "1078346   80801724  Yes, i need to invoke a partikular function of...      0   \n",
      "1078756   52600144  i am lost, not in sandbox mode, verified domai...      5   \n",
      "1083546   36765535  add it as a possibility and set the default va...      0   \n",
      "\n",
      "         n_prime  \n",
      "1042755       -1  \n",
      "1047568       -1  \n",
      "1060459        2  \n",
      "1065436       -1  \n",
      "1066265        2  \n",
      "1070760       11  \n",
      "1076662       -1  \n",
      "1078346       -1  \n",
      "1078756       11  \n",
      "1083546       -1  \n",
      "\n",
      "[10 rows x 4 columns]\n",
      "CPU times: user 68.9 ms, sys: 269 µs, total: 69.2 ms\n",
      "Wall time: 9.27 s\n"
     ]
    }
   ],
   "source": [
    "%%time\n",
    "\n",
    "# Usage of the remote function continues to work\n",
    "\n",
    "df = df.assign(n_prime=df['score'].apply(nth_prime))\n",
    "print(df.head(10))"
   ]
  }
 ],
 "metadata": {
  "kernelspec": {
   "display_name": "Python 3 (ipykernel)",
   "language": "python",
   "name": "python3"
  },
  "language_info": {
   "codemirror_mode": {
    "name": "ipython",
    "version": 3
   },
   "file_extension": ".py",
   "mimetype": "text/x-python",
   "name": "python",
   "nbconvert_exporter": "python",
   "pygments_lexer": "ipython3",
   "version": "3.10.9"
  }
 },
 "nbformat": 4,
 "nbformat_minor": 5
}
