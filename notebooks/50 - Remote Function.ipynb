{
 "cells": [
  {
   "cell_type": "code",
   "execution_count": 1,
   "id": "3613b1cd",
   "metadata": {},
   "outputs": [],
   "source": [
    "TABLE='bigquery-public-data.stackoverflow.comments'\n",
    "MAX_ROWS=1000000 # 1 Million"
   ]
  },
  {
   "cell_type": "code",
   "execution_count": 2,
   "id": "f1175247",
   "metadata": {},
   "outputs": [
    {
     "name": "stdout",
     "output_type": "stream",
     "text": [
      "    id                                               text  score\n",
      "0   10  It will help if you give some details of which...      6\n",
      "1   25  infact it does. Look a the first lines of your...     10\n",
      "2   27  \"Currently + is implemented using StringBuffer...      7\n",
      "3   41  I don't think that's the magic number he was r...     18\n",
      "4   59  It's still very useful to know that magic numb...     12\n",
      "5   96  This implementation is also nice if you wish t...      9\n",
      "6  108  That's not full text searching, it's searching...      6\n",
      "7  109  That's not full text searching, it's searching...      6\n",
      "8  137  In vim you can open > 1 buffer. :e filename. T...      9\n",
      "9  154  Sure, but what about a solution using O(1) mem...      8\n",
      "CPU times: user 30.7 s, sys: 4.99 s, total: 35.7 s\n",
      "Wall time: 1min 39s\n"
     ]
    }
   ],
   "source": [
    "%%time\n",
    "\n",
    "##############################\n",
    "#       Pandas World         #\n",
    "##############################\n",
    "\n",
    "import pandas as pd\n",
    "df = pd.read_gbq(TABLE, max_results=MAX_ROWS)[['id', 'text', 'score']]\n",
    "print(df.head(10))"
   ]
  },
  {
   "cell_type": "code",
   "execution_count": 3,
   "id": "fd8a04a3",
   "metadata": {},
   "outputs": [],
   "source": [
    "# User defined function\n",
    "# https://www.codespeedy.com/find-nth-prime-number-in-python/\n",
    "def nth_prime(n):\n",
    "    prime_numbers = [2,3]\n",
    "    i=3\n",
    "    if(0<n<=2):\n",
    "        return prime_numbers[n-1]\n",
    "    elif(n>2):\n",
    "        while (True):\n",
    "            i+=1\n",
    "            status = True\n",
    "            for j in range(2,int(i/2)+1):\n",
    "                if(i%j==0):\n",
    "                    status = False\n",
    "                    break\n",
    "            if(status==True):\n",
    "                prime_numbers.append(i)\n",
    "            if(len(prime_numbers)==n):\n",
    "                break\n",
    "        return prime_numbers[n-1]\n",
    "    else:\n",
    "        return -1"
   ]
  },
  {
   "cell_type": "code",
   "execution_count": 4,
   "id": "2b5e4568",
   "metadata": {},
   "outputs": [
    {
     "name": "stdout",
     "output_type": "stream",
     "text": [
      "    id                                               text  score  n_prime\n",
      "0   10  It will help if you give some details of which...      6       13\n",
      "1   25  infact it does. Look a the first lines of your...     10       29\n",
      "2   27  \"Currently + is implemented using StringBuffer...      7       17\n",
      "3   41  I don't think that's the magic number he was r...     18       61\n",
      "4   59  It's still very useful to know that magic numb...     12       37\n",
      "5   96  This implementation is also nice if you wish t...      9       23\n",
      "6  108  That's not full text searching, it's searching...      6       13\n",
      "7  109  That's not full text searching, it's searching...      6       13\n",
      "8  137  In vim you can open > 1 buffer. :e filename. T...      9       23\n",
      "9  154  Sure, but what about a solution using O(1) mem...      8       19\n",
      "CPU times: user 5.91 s, sys: 42.4 ms, total: 5.95 s\n",
      "Wall time: 5.94 s\n"
     ]
    }
   ],
   "source": [
    "%%time\n",
    "\n",
    "df = df.assign(n_prime=df['score'].apply(nth_prime))\n",
    "print(df.head(10))"
   ]
  },
  {
   "cell_type": "code",
   "execution_count": 5,
   "id": "b81feaef",
   "metadata": {},
   "outputs": [
    {
     "name": "stdout",
     "output_type": "stream",
     "text": [
      "         id                                               text  score\n",
      "0  41014003        Can you provide more details ?how exactly ?      0\n",
      "1  41015675  this is tricky. some employer likes to ask thi...      0\n",
      "2  41016624  Sorry was just being picky. int columns can be...      0\n",
      "3  41017045  In the code above, you check ddLoc.SelectedVal...      0\n",
      "4  41017803  I have not used myself, but every CCNode , hen...      0\n",
      "5  41018325  @DanielStanley I didn't know this was a thing!...      0\n",
      "6  41019358                           Thanks for theese infos!      0\n",
      "7  41020018                              but yes you are right      0\n",
      "8  41025209  Were you able to find a solution here?  What w...      0\n",
      "9  41027340  As far as I know, `text_pattern_ops` should no...      0\n",
      "\n",
      "[10 rows x 3 columns]\n",
      "CPU times: user 1.17 s, sys: 119 ms, total: 1.29 s\n",
      "Wall time: 1min 38s\n"
     ]
    }
   ],
   "source": [
    "%%time\n",
    "\n",
    "##############################\n",
    "#     BigFrames World        #\n",
    "##############################\n",
    "\n",
    "import bigframes\n",
    "pd = bigframes.connect()\n",
    "\n",
    "df = pd.read_gbq(TABLE).head(MAX_ROWS)[['id', 'text', 'score']]\n",
    "print(df.head(10))"
   ]
  },
  {
   "cell_type": "code",
   "execution_count": 6,
   "id": "55ed241e",
   "metadata": {},
   "outputs": [
    {
     "name": "stdout",
     "output_type": "stream",
     "text": [
      "Help on function remote_function in module bigframes.remote_function:\n",
      "\n",
      "remote_function(input_types: 'typing.Sequence[type]', output_type: 'type', session: 'typing.Optional[Session]' = None, bigquery_client: 'typing.Optional[bigquery.Client]' = None, dataset: 'typing.Optional[str]' = None, bigquery_connection: 'typing.Optional[str]' = None, reuse: 'bool' = True)\n",
      "    Decorator to turn a user defined function into a BigQuery remote function.\n",
      "    \n",
      "    Args:\n",
      "        input_types : list(type)\n",
      "            List of input data types in the user defined function.\n",
      "        output_type : type\n",
      "            Data type of the output in the user defined function.\n",
      "        session : bigframes.Session, Optional\n",
      "            BigFrames session to use for getting default project, dataset and\n",
      "            bigquery connection.\n",
      "        bigquery_client : google.cloud.bigquery.Client, Optional\n",
      "            Client to use for BigQuery operations. If this param is not provided\n",
      "            then bigquery client from the session would be used.\n",
      "        dataset : str, Optional\n",
      "            Dataset to use to create a BigQuery function. It should be in\n",
      "            `<project_id>.<dataset_name>` or `<dataset_name>` format. If this\n",
      "            param is not provided then session dataset id would be used.\n",
      "        bigquery_connection : str, Optional\n",
      "            Name of the BigQuery connection. If it is pre created in the same\n",
      "            location as the `bigquery_client.location` then it would be used,\n",
      "            otherwise it would be created dynamically assuming the user has\n",
      "            necessary priviliges. If this param is not provided then the\n",
      "            bigquery connection from the session would be used.\n",
      "        reuse : bool, Optional\n",
      "            Reuse the remote function if already exists.\n",
      "            `True` by default, which will result in reusing an existing remote\n",
      "            function (if any) that was previously created for the same udf.\n",
      "            Setting it to false would force creating a unique remote function.\n",
      "            If the required remote function does not exist then it would be\n",
      "            created irrespective of this param.\n",
      "    \n",
      "    **Prerequisites:**\n",
      "        Please make sure following is setup before using this API:\n",
      "    \n",
      "        1. Have the below APIs enabled for your project:\n",
      "              a. BigQuery Connection API\n",
      "              b. Cloud Functions API\n",
      "              c. Cloud Run API\n",
      "              d. Cloud Build API\n",
      "              e. Artifact Registry API\n",
      "              f. Cloud Resource Manager API\n",
      "    \n",
      "           This can be done from the cloud console (change PROJECT_ID to yours):\n",
      "              https://console.cloud.google.com/apis/enableflow?apiid=bigqueryconnection.googleapis.com,cloudfunctions.googleapis.com,run.googleapis.com,cloudbuild.googleapis.com,artifactregistry.googleapis.com,cloudresourcemanager.googleapis.com&project=PROJECT_ID\n",
      "           Or from the gcloud CLI:\n",
      "              $ gcloud services enable bigqueryconnection.googleapis.com cloudfunctions.googleapis.com run.googleapis.com cloudbuild.googleapis.com artifactregistry.googleapis.com cloudresourcemanager.googleapis.com\n",
      "    \n",
      "        2. Have following IAM roles enabled for you:\n",
      "              a. BigQuery Data Editor (roles/bigquery.dataEditor)\n",
      "              b. BigQuery Connection Admin (roles/bigquery.connectionAdmin)\n",
      "              c. Cloud Functions Developer (roles/cloudfunctions.developer)\n",
      "              d. Service Account User (roles/iam.serviceAccountUser)\n",
      "              e. Storage Object Viewer (roles/storage.objectViewer)\n",
      "              f. Project IAM Admin (roles/resourcemanager.projectIamAdmin)\n",
      "                 (Only required if the bigquery connection being used is not pre-created and is created dynamically with user credentials.)\n",
      "    \n",
      "        3. Either the user has setIamPolicy privilege on the project, or a BigQuery connection is pre-created with necessary IAM role set:\n",
      "              a. To create a connection, follow https://cloud.google.com/bigquery/docs/reference/standard-sql/remote-functions#create_a_connection\n",
      "              b. To set up IAM, follow https://cloud.google.com/bigquery/docs/reference/standard-sql/remote-functions#grant_permission_on_function\n",
      "           Alternatively, the IAM could also be setup via the gcloud CLI:\n",
      "              $ gcloud projects add-iam-policy-binding PROJECT_ID --member=\"serviceAccount:CONNECTION_SERVICE_ACCOUNT_ID\" --role=\"roles/run.invoker\"\n",
      "\n"
     ]
    }
   ],
   "source": [
    "# User simply imports the remote_function decorator and uses it on their udf\n",
    "from bigframes import remote_function\n",
    "\n",
    "# Tell the user what needs to be done offline before using BigFrames remote functions\n",
    "help(remote_function)"
   ]
  },
  {
   "cell_type": "code",
   "execution_count": 7,
   "id": "c9a8d03d",
   "metadata": {},
   "outputs": [],
   "source": [
    "# BigFrames requires user to specify a dataset where the BQ function would be persisted\n",
    "# We are discussing if this can be avoided in go/bigframes-transient-data\n",
    "dataset_id = 'my-first-project-331618.bigframes_dev'\n",
    "\n",
    "# BigFrames user is a data scientist and may not have privileges to create a BQ connector\n",
    "# and set it up for invoking a cloud function. They should get such a connector created\n",
    "# from their cloud admin and use it with BigFrames remote functions.\n",
    "bq_connector_name = 'bigframes-rf-conn'"
   ]
  },
  {
   "cell_type": "code",
   "execution_count": 8,
   "id": "fbc27f81",
   "metadata": {},
   "outputs": [
    {
     "name": "stderr",
     "output_type": "stream",
     "text": [
      "[INFO][2023-06-23 06:35:15,552][bigframes.remote_function] Creating new cloud function: gcloud functions deploy bigframes-f5d95bee351fbf2cc6386f60f4d193ba --gen2 --runtime=python310 --project=my-first-project-331618 --region=us-central1 --source=/tmp/tmp80eo8lva --entry-point=udf_http --trigger-http --no-allow-unauthenticated\n",
      "Preparing function...\n",
      ".done.\n",
      "Deploying function...\n",
      "[Build].................................................................................................................................................................................................................................................................................................................................................................................................................done\n",
      "[Service]..........................................................................................................................................................................................done\n",
      "Done.\n",
      "You can view your function in the Cloud Console here: https://console.cloud.google.com/functions/details/us-central1/bigframes-f5d95bee351fbf2cc6386f60f4d193ba?project=my-first-project-331618\n",
      "\n"
     ]
    },
    {
     "name": "stdout",
     "output_type": "stream",
     "text": [
      "buildConfig:\n",
      "  build: projects/371300922916/locations/us-central1/builds/7dcc3ada-d010-4e5b-bd71-bcb9d95e6f69\n",
      "  entryPoint: udf_http\n",
      "  runtime: python310\n",
      "  source:\n",
      "    storageSource:\n",
      "      bucket: gcf-v2-sources-371300922916-us-central1\n",
      "      object: bigframes-f5d95bee351fbf2cc6386f60f4d193ba/function-source.zip\n",
      "  sourceProvenance:\n",
      "    resolvedStorageSource:\n",
      "      bucket: gcf-v2-sources-371300922916-us-central1\n",
      "      generation: '1687502118787781'\n",
      "      object: bigframes-f5d95bee351fbf2cc6386f60f4d193ba/function-source.zip\n",
      "environment: GEN_2\n",
      "labels:\n",
      "  deployment-tool: cli-gcloud\n",
      "name: projects/my-first-project-331618/locations/us-central1/functions/bigframes-f5d95bee351fbf2cc6386f60f4d193ba\n",
      "serviceConfig:\n",
      "  allTrafficOnLatestRevision: true\n",
      "  availableCpu: '0.1666'\n",
      "  availableMemory: 256M\n",
      "  ingressSettings: ALLOW_ALL\n",
      "  maxInstanceCount: 100\n",
      "  maxInstanceRequestConcurrency: 1\n",
      "  revision: bigframes-f5d95bee351fbf2cc6386f60f4d193ba-00001-nav\n",
      "  service: projects/my-first-project-331618/locations/us-central1/services/bigframes-f5d95bee351fbf2cc6386f60f4d193ba\n",
      "  serviceAccountEmail: 371300922916-compute@developer.gserviceaccount.com\n",
      "  timeoutSeconds: 60\n",
      "  uri: https://bigframes-f5d95bee351fbf2cc6386f60f4d193ba-76sbkhjuiq-uc.a.run.app\n",
      "state: ACTIVE\n",
      "updateTime: '2023-06-23T06:36:17.634395873Z'\n",
      "url: https://us-central1-my-first-project-331618.cloudfunctions.net/bigframes-f5d95bee351fbf2cc6386f60f4d193ba\n"
     ]
    },
    {
     "name": "stderr",
     "output_type": "stream",
     "text": [
      "[INFO][2023-06-23 06:36:20,572][bigframes.remote_function] Successfully created cloud function bigframes-f5d95bee351fbf2cc6386f60f4d193ba with uri (https://bigframes-f5d95bee351fbf2cc6386f60f4d193ba-76sbkhjuiq-uc.a.run.app)\n",
      "[INFO][2023-06-23 06:36:22,241][bigframes.remote_function] Connector bigframes-rf-conn already exists\n",
      "[INFO][2023-06-23 06:36:22,242][bigframes.remote_function] Creating BQ remote function: \n",
      "    CREATE OR REPLACE FUNCTION `my-first-project-331618.bigframes_dev`.bigframes_f5d95bee351fbf2cc6386f60f4d193ba(n INT64)\n",
      "    RETURNS INT64\n",
      "    REMOTE WITH CONNECTION `my-first-project-331618.us.bigframes-rf-conn`\n",
      "    OPTIONS (\n",
      "      endpoint = \"https://bigframes-f5d95bee351fbf2cc6386f60f4d193ba-76sbkhjuiq-uc.a.run.app\"\n",
      "    )\n",
      "[INFO][2023-06-23 06:36:23,224][bigframes.remote_function] Created remote function my-first-project-331618.bigframes_dev.bigframes_f5d95bee351fbf2cc6386f60f4d193ba\n"
     ]
    },
    {
     "name": "stdout",
     "output_type": "stream",
     "text": [
      "\n",
      "Wall time: 70.7487 s\n"
     ]
    }
   ],
   "source": [
    "from time import perf_counter\n",
    "start = perf_counter()\n",
    "#-------------------------------------------------------------------------------------\n",
    "\n",
    "# User defined function\n",
    "# https://www.codespeedy.com/find-nth-prime-number-in-python/\n",
    "@remote_function([int], int, session=pd, dataset=dataset_id, bigquery_connection=bq_connector_name)\n",
    "def nth_prime(n):\n",
    "    prime_numbers = [2,3]\n",
    "    i=3\n",
    "    if(0<n<=2):\n",
    "        return prime_numbers[n-1]\n",
    "    elif(n>2):\n",
    "        while (True):\n",
    "            i+=1\n",
    "            status = True\n",
    "            for j in range(2,int(i/2)+1):\n",
    "                if(i%j==0):\n",
    "                    status = False\n",
    "                    break\n",
    "            if(status==True):\n",
    "                prime_numbers.append(i)\n",
    "            if(len(prime_numbers)==n):\n",
    "                break\n",
    "        return prime_numbers[n-1]\n",
    "    else:\n",
    "        return -1\n",
    "\n",
    "#-------------------------------------------------------------------------------------\n",
    "print(f\"\\nWall time: {(perf_counter()-start):.4f} s\")"
   ]
  },
  {
   "cell_type": "code",
   "execution_count": 9,
   "id": "c1c9355f",
   "metadata": {},
   "outputs": [
    {
     "name": "stdout",
     "output_type": "stream",
     "text": [
      "         id                                               text  score  n_prime\n",
      "0  41014003        Can you provide more details ?how exactly ?      0       -1\n",
      "1  41015675  this is tricky. some employer likes to ask thi...      0       -1\n",
      "2  41016624  Sorry was just being picky. int columns can be...      0       -1\n",
      "3  41017045  In the code above, you check ddLoc.SelectedVal...      0       -1\n",
      "4  41017803  I have not used myself, but every CCNode , hen...      0       -1\n",
      "5  41018325  @DanielStanley I didn't know this was a thing!...      0       -1\n",
      "6  41019358                           Thanks for theese infos!      0       -1\n",
      "7  41020018                              but yes you are right      0       -1\n",
      "8  41025209  Were you able to find a solution here?  What w...      0       -1\n",
      "9  41027340  As far as I know, `text_pattern_ops` should no...      0       -1\n",
      "\n",
      "[10 rows x 4 columns]\n",
      "CPU times: user 302 ms, sys: 12.1 ms, total: 314 ms\n",
      "Wall time: 1min 34s\n"
     ]
    }
   ],
   "source": [
    "%%time\n",
    "\n",
    "df = df.assign(n_prime=df['score'].apply(nth_prime))\n",
    "print(df.head(10))"
   ]
  }
 ],
 "metadata": {
  "kernelspec": {
   "display_name": "Python 3 (ipykernel)",
   "language": "python",
   "name": "python3"
  },
  "language_info": {
   "codemirror_mode": {
    "name": "ipython",
    "version": 3
   },
   "file_extension": ".py",
   "mimetype": "text/x-python",
   "name": "python",
   "nbconvert_exporter": "python",
   "pygments_lexer": "ipython3",
   "version": "3.10.9"
  }
 },
 "nbformat": 4,
 "nbformat_minor": 5
}
