{
 "cells": [
  {
   "cell_type": "code",
   "execution_count": 12,
   "id": "3613b1cd",
   "metadata": {},
   "outputs": [],
   "source": [
    "TABLE='bigquery-public-data.stackoverflow.comments'\n",
    "MAX_ROWS=1000000 # 1 Million"
   ]
  },
  {
   "cell_type": "code",
   "execution_count": 13,
   "id": "f1175247",
   "metadata": {},
   "outputs": [
    {
     "name": "stdout",
     "output_type": "stream",
     "text": [
      "    id                                               text  score\n",
      "0   10  It will help if you give some details of which...      6\n",
      "1   25  infact it does. Look a the first lines of your...     10\n",
      "2   27  \"Currently + is implemented using StringBuffer...      7\n",
      "3   41  I don't think that's the magic number he was r...     18\n",
      "4   59  It's still very useful to know that magic numb...     12\n",
      "5   96  This implementation is also nice if you wish t...      9\n",
      "6  108  That's not full text searching, it's searching...      6\n",
      "7  109  That's not full text searching, it's searching...      6\n",
      "8  137  In vim you can open > 1 buffer. :e filename. T...      9\n",
      "9  154  Sure, but what about a solution using O(1) mem...      8\n",
      "CPU times: user 24.8 s, sys: 2.02 s, total: 26.9 s\n",
      "Wall time: 1min 30s\n"
     ]
    }
   ],
   "source": [
    "%%time\n",
    "\n",
    "##############################\n",
    "#       Pandas World         #\n",
    "##############################\n",
    "\n",
    "import pandas as pd\n",
    "df = pd.read_gbq(TABLE, max_results=MAX_ROWS)[['id', 'text', 'score']]\n",
    "print(df.head(10))"
   ]
  },
  {
   "cell_type": "code",
   "execution_count": 14,
   "id": "fd8a04a3",
   "metadata": {},
   "outputs": [],
   "source": [
    "# User defined function\n",
    "# https://www.codespeedy.com/find-nth-prime-number-in-python/\n",
    "def nth_prime(n):\n",
    "    prime_numbers = [2,3]\n",
    "    i=3\n",
    "    if(0<n<=2):\n",
    "        return prime_numbers[n-1]\n",
    "    elif(n>2):\n",
    "        while (True):\n",
    "            i+=1\n",
    "            status = True\n",
    "            for j in range(2,int(i/2)+1):\n",
    "                if(i%j==0):\n",
    "                    status = False\n",
    "                    break\n",
    "            if(status==True):\n",
    "                prime_numbers.append(i)\n",
    "            if(len(prime_numbers)==n):\n",
    "                break\n",
    "        return prime_numbers[n-1]\n",
    "    else:\n",
    "        return -1"
   ]
  },
  {
   "cell_type": "code",
   "execution_count": 15,
   "id": "2b5e4568",
   "metadata": {},
   "outputs": [
    {
     "name": "stdout",
     "output_type": "stream",
     "text": [
      "    id                                               text  score  n_prime\n",
      "0   10  It will help if you give some details of which...      6       13\n",
      "1   25  infact it does. Look a the first lines of your...     10       29\n",
      "2   27  \"Currently + is implemented using StringBuffer...      7       17\n",
      "3   41  I don't think that's the magic number he was r...     18       61\n",
      "4   59  It's still very useful to know that magic numb...     12       37\n",
      "5   96  This implementation is also nice if you wish t...      9       23\n",
      "6  108  That's not full text searching, it's searching...      6       13\n",
      "7  109  That's not full text searching, it's searching...      6       13\n",
      "8  137  In vim you can open > 1 buffer. :e filename. T...      9       23\n",
      "9  154  Sure, but what about a solution using O(1) mem...      8       19\n",
      "CPU times: user 5.12 s, sys: 6.33 ms, total: 5.12 s\n",
      "Wall time: 5.13 s\n"
     ]
    }
   ],
   "source": [
    "%%time\n",
    "\n",
    "df = df.assign(n_prime=df['score'].apply(nth_prime))\n",
    "print(df.head(10))"
   ]
  },
  {
   "cell_type": "code",
   "execution_count": 16,
   "id": "b81feaef",
   "metadata": {},
   "outputs": [
    {
     "name": "stdout",
     "output_type": "stream",
     "text": [
      "        id                                               text  score\n",
      "0  5397100  Is there any proof that \"F# is faster than C#\"...      8\n",
      "1  5404973  Times change, and this question's answer is no...     10\n",
      "2  5406997  And while we're at it: Rename it to `xs`, the ...      8\n",
      "3  5413268  Let me know if you get any leads on the \"elimi...      7\n",
      "4  5421911  Correct, but how does this relate to the quest...      5\n",
      "5  5422815  @user477399: Do those input documents have a p...      5\n",
      "6  5422907  Also, parens are not needed (and not recommend...      6\n",
      "7  5432203  @Riduidel At least you get to know if the cat ...      6\n",
      "\n",
      "[10 rows x 3 columns]\n",
      "CPU times: user 151 ms, sys: 39.5 ms, total: 191 ms\n",
      "Wall time: 2.73 s\n"
     ]
    }
   ],
   "source": [
    "%%time\n",
    "\n",
    "##############################\n",
    "#     BigFrames World        #\n",
    "##############################\n",
    "\n",
    "import bigframes\n",
    "pd = bigframes.connect()\n",
    "\n",
    "df = pd.read_gbq(TABLE).head(MAX_ROWS)[['id', 'text', 'score']]\n",
    "print(df.head(10))"
   ]
  },
  {
   "cell_type": "code",
   "execution_count": 17,
   "id": "55ed241e",
   "metadata": {},
   "outputs": [
    {
     "name": "stdout",
     "output_type": "stream",
     "text": [
      "Help on function remote_function in module bigframes.remote_function:\n",
      "\n",
      "remote_function(input_type, output_type, bigquery_client: google.cloud.bigquery.client.Client, dataset: str, bigquery_connection: str)\n",
      "    Decorator to turn a user defined function into a BigQuery remote function.\n",
      "    \n",
      "    Parameters\n",
      "    ----------\n",
      "    input_type : list(ibis.expr.datatypes)\n",
      "        List of input data types in the user defined function.\n",
      "    output_type : ibis.expr.datatypes\n",
      "        Data type of the output in the user defined function.\n",
      "    bigquery_client : google.cloud.bigquery.client.Client\n",
      "        Client to use for BigQuery operations.\n",
      "    dataset : str\n",
      "        Dataset to use to create a BigQuery function. It should be in\n",
      "        `project_id.dataset_name` format\n",
      "    bigquery_connection : str\n",
      "        Name of the BigQuery connection. It should be pre created in the same\n",
      "        location as the `bigquery_client.location`.\n",
      "    \n",
      "    Prerequisites\n",
      "    -------------\n",
      "    Please make sure following is setup before using this API:\n",
      "    \n",
      "    1. Have below APIs enabled for your project:\n",
      "      a. Cloud Build API\n",
      "      b. Artifact Registry API\n",
      "      c. Cloud Functions API\n",
      "      d. BigQuery Connection API\n",
      "    \n",
      "      This can be done from the cloud console (change PROJECT_ID to yours):\n",
      "        https://console.cloud.google.com/apis/enableflow?apiid=cloudbuild.googleapis.com,artifactregistry.googleapis.com,cloudfunctions.googleapis.com,bigqueryconnection.googleapis.com&project=PROJECT_ID\n",
      "      Or from the gcloud CLI:\n",
      "        gcloud services enable cloudbuild.googleapis.com artifactregistry.googleapis.com cloudfunctions.googleapis.com bigqueryconnection.googleapis.com\n",
      "    \n",
      "    2. Have a BigQuery connection created and IAM role set up.\n",
      "      a. To create a connection, follow https://cloud.google.com/bigquery/docs/reference/standard-sql/remote-functions#create_a_connection\n",
      "      b. To set up IAM, follow https://cloud.google.com/bigquery/docs/reference/standard-sql/remote-functions#grant_permission_on_function\n",
      "        Alternatively, the IAM could also be setup via the gcloud CLI:\n",
      "          gcloud projects add-iam-policy-binding PROJECT_ID --member=CONNECTION_SERVICE_ACCOUNT_ID --role=\"roles/run.invoker\"\n",
      "\n"
     ]
    }
   ],
   "source": [
    "# User simply imports the remote_function decorator and uses it on their udf\n",
    "from bigframes import remote_function\n",
    "\n",
    "# Tell the user what needs to be done offline before using BigFrames remote functions\n",
    "help(remote_function)"
   ]
  },
  {
   "cell_type": "code",
   "execution_count": 18,
   "id": "c9a8d03d",
   "metadata": {},
   "outputs": [],
   "source": [
    "# BigFrames requires user to annotate the udf with input and output data types\n",
    "# Here we are using ibis datatypes, but ideally we would adapt to go/bigframes-dtypes\n",
    "import ibis.expr.datatypes as dt\n",
    "\n",
    "# BigFrames requires user to specify a dataset where the BQ function would be persisted\n",
    "# We are discussing if this can be avoided in go/bigframes-transient-data\n",
    "dataset_id = 'my-first-project-331618.bigframes_dev'\n",
    "\n",
    "# BigFrames user is a data scientist and may not have privileges to create a BQ connector\n",
    "# and set it up for invoking a cloud function. They should get such a connector created\n",
    "# from their cloud admin and use it with BigFrames remote functions.\n",
    "bq_connector_name = 'bigframes-rf-conn'\n"
   ]
  },
  {
   "cell_type": "code",
   "execution_count": 19,
   "id": "fbc27f81",
   "metadata": {},
   "outputs": [
    {
     "name": "stdout",
     "output_type": "stream",
     "text": [
      "\n",
      "===> Remote function nth_prime already exists, reusing ... <===\n",
      "\n",
      "\n",
      "Wall time: 0.1849 s\n"
     ]
    }
   ],
   "source": [
    "from time import perf_counter\n",
    "start = perf_counter()\n",
    "#-------------------------------------------------------------------------------------\n",
    "\n",
    "# User defined function\n",
    "# https://www.codespeedy.com/find-nth-prime-number-in-python/\n",
    "@remote_function([dt.int64()], dt.int64(), pd.bqclient, dataset_id, bq_connector_name)\n",
    "def nth_prime(n):\n",
    "    prime_numbers = [2,3]\n",
    "    i=3\n",
    "    if(0<n<=2):\n",
    "        return prime_numbers[n-1]\n",
    "    elif(n>2):\n",
    "        while (True):\n",
    "            i+=1\n",
    "            status = True\n",
    "            for j in range(2,int(i/2)+1):\n",
    "                if(i%j==0):\n",
    "                    status = False\n",
    "                    break\n",
    "            if(status==True):\n",
    "                prime_numbers.append(i)\n",
    "            if(len(prime_numbers)==n):\n",
    "                break\n",
    "        return prime_numbers[n-1]\n",
    "    else:\n",
    "        return -1\n",
    "\n",
    "#-------------------------------------------------------------------------------------\n",
    "print(f\"\\nWall time: {(perf_counter()-start):.4f} s\")"
   ]
  },
  {
   "cell_type": "code",
   "execution_count": 21,
   "id": "c1c9355f",
   "metadata": {},
   "outputs": [
    {
     "name": "stdout",
     "output_type": "stream",
     "text": [
      "        id                                               text  score  n_prime\n",
      "0  5397100  Is there any proof that \"F# is faster than C#\"...      8       19\n",
      "1  5404973  Times change, and this question's answer is no...     10       29\n",
      "2  5406997  And while we're at it: Rename it to `xs`, the ...      8       19\n",
      "3  5413268  Let me know if you get any leads on the \"elimi...      7       17\n",
      "4  5421911  Correct, but how does this relate to the quest...      5       11\n",
      "5  5422815  @user477399: Do those input documents have a p...      5       11\n",
      "6  5422907  Also, parens are not needed (and not recommend...      6       13\n",
      "7  5432203  @Riduidel At least you get to know if the cat ...      6       13\n",
      "\n",
      "[10 rows x 4 columns]\n",
      "CPU times: user 82.8 ms, sys: 308 µs, total: 83.1 ms\n",
      "Wall time: 13.4 s\n"
     ]
    }
   ],
   "source": [
    "%%time\n",
    "\n",
    "df = df.assign(n_prime=df['score'].apply(nth_prime))\n",
    "print(df.head(10))"
   ]
  },
  {
   "cell_type": "code",
   "execution_count": null,
   "id": "3755a43d",
   "metadata": {},
   "outputs": [],
   "source": []
  }
 ],
 "metadata": {
  "kernelspec": {
   "display_name": "Python 3 (ipykernel)",
   "language": "python",
   "name": "python3"
  },
  "language_info": {
   "codemirror_mode": {
    "name": "ipython",
    "version": 3
   },
   "file_extension": ".py",
   "mimetype": "text/x-python",
   "name": "python",
   "nbconvert_exporter": "python",
   "pygments_lexer": "ipython3",
   "version": "3.10.9"
  }
 },
 "nbformat": 4,
 "nbformat_minor": 5
}
