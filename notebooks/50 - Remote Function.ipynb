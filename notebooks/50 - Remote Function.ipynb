{
 "cells": [
  {
   "cell_type": "code",
   "execution_count": 1,
   "id": "3613b1cd",
   "metadata": {},
   "outputs": [],
   "source": [
    "TABLE='bigquery-public-data.stackoverflow.comments'\n",
    "MAX_ROWS=1000000 # 1 Million"
   ]
  },
  {
   "cell_type": "code",
   "execution_count": 2,
   "id": "f1175247",
   "metadata": {},
   "outputs": [
    {
     "name": "stdout",
     "output_type": "stream",
     "text": [
      "    id                                               text  score\n",
      "0   10  It will help if you give some details of which...      6\n",
      "1   25  infact it does. Look a the first lines of your...     10\n",
      "2   27  \"Currently + is implemented using StringBuffer...      7\n",
      "3   41  I don't think that's the magic number he was r...     18\n",
      "4   59  It's still very useful to know that magic numb...     12\n",
      "5   96  This implementation is also nice if you wish t...      9\n",
      "6  108  That's not full text searching, it's searching...      6\n",
      "7  109  That's not full text searching, it's searching...      6\n",
      "8  137  In vim you can open > 1 buffer. :e filename. T...      9\n",
      "9  154  Sure, but what about a solution using O(1) mem...      8\n",
      "CPU times: user 28.9 s, sys: 5.24 s, total: 34.2 s\n",
      "Wall time: 1min 37s\n"
     ]
    }
   ],
   "source": [
    "%%time\n",
    "\n",
    "##############################\n",
    "#       Pandas World         #\n",
    "##############################\n",
    "\n",
    "import pandas as pd\n",
    "df = pd.read_gbq(TABLE, max_results=MAX_ROWS)[['id', 'text', 'score']]\n",
    "print(df.head(10))"
   ]
  },
  {
   "cell_type": "code",
   "execution_count": 3,
   "id": "fd8a04a3",
   "metadata": {},
   "outputs": [],
   "source": [
    "# User defined function\n",
    "# https://www.codespeedy.com/find-nth-prime-number-in-python/\n",
    "def nth_prime(n):\n",
    "    prime_numbers = [2,3]\n",
    "    i=3\n",
    "    if(0<n<=2):\n",
    "        return prime_numbers[n-1]\n",
    "    elif(n>2):\n",
    "        while (True):\n",
    "            i+=1\n",
    "            status = True\n",
    "            for j in range(2,int(i/2)+1):\n",
    "                if(i%j==0):\n",
    "                    status = False\n",
    "                    break\n",
    "            if(status==True):\n",
    "                prime_numbers.append(i)\n",
    "            if(len(prime_numbers)==n):\n",
    "                break\n",
    "        return prime_numbers[n-1]\n",
    "    else:\n",
    "        return -1"
   ]
  },
  {
   "cell_type": "code",
   "execution_count": 4,
   "id": "2b5e4568",
   "metadata": {},
   "outputs": [
    {
     "name": "stdout",
     "output_type": "stream",
     "text": [
      "    id                                               text  score  n_prime\n",
      "0   10  It will help if you give some details of which...      6       13\n",
      "1   25  infact it does. Look a the first lines of your...     10       29\n",
      "2   27  \"Currently + is implemented using StringBuffer...      7       17\n",
      "3   41  I don't think that's the magic number he was r...     18       61\n",
      "4   59  It's still very useful to know that magic numb...     12       37\n",
      "5   96  This implementation is also nice if you wish t...      9       23\n",
      "6  108  That's not full text searching, it's searching...      6       13\n",
      "7  109  That's not full text searching, it's searching...      6       13\n",
      "8  137  In vim you can open > 1 buffer. :e filename. T...      9       23\n",
      "9  154  Sure, but what about a solution using O(1) mem...      8       19\n",
      "CPU times: user 5.31 s, sys: 38.7 ms, total: 5.35 s\n",
      "Wall time: 5.34 s\n"
     ]
    }
   ],
   "source": [
    "%%time\n",
    "\n",
    "df = df.assign(n_prime=df['score'].apply(nth_prime))\n",
    "print(df.head(10))"
   ]
  },
  {
   "cell_type": "code",
   "execution_count": 5,
   "id": "b81feaef",
   "metadata": {},
   "outputs": [
    {
     "name": "stdout",
     "output_type": "stream",
     "text": [
      "               id                                               text  score\n",
      "340      78648826  @richardb: that's because you're using order=7...      0\n",
      "2002     84989443  I believe that's trying to find the Ruby \"ruby...      0\n",
      "31800    53115380  Can you confirm that you don't see this issue ...      0\n",
      "41033    34963916  Not should, must. You can not create managed o...      0\n",
      "79660   119256298  @AbhishekMane - It's a generic frog -- a super...      1\n",
      "101604   91852998  ```'branch_name'=>'required|max:255|unique:bra...      0\n",
      "117199    4483403  I've experimented with things that ended up pr...      0\n",
      "143485   24460060  @sadmicrowave could you provide how do you cre...      0\n",
      "159450  104558415  I hate that this solved my problem, because it...      0\n",
      "174563   90970217  That is right, but he is conditionally adding ...      0\n",
      "\n",
      "[10 rows x 3 columns]\n",
      "CPU times: user 796 ms, sys: 163 ms, total: 959 ms\n",
      "Wall time: 4min 49s\n"
     ]
    }
   ],
   "source": [
    "%%time\n",
    "\n",
    "##############################\n",
    "#     BigFrames World        #\n",
    "##############################\n",
    "\n",
    "import bigframes\n",
    "pd = bigframes.connect()\n",
    "\n",
    "df = pd.read_gbq(TABLE).head(MAX_ROWS)[['id', 'text', 'score']]\n",
    "print(df.head(10))"
   ]
  },
  {
   "cell_type": "code",
   "execution_count": 6,
   "id": "55ed241e",
   "metadata": {},
   "outputs": [
    {
     "name": "stdout",
     "output_type": "stream",
     "text": [
      "Help on function remote_function in module bigframes.remote_function:\n",
      "\n",
      "remote_function(input_types: 'typing.Sequence[type]', output_type: 'type', session: 'typing.Optional[Session]' = None, bigquery_client: 'typing.Optional[bigquery.Client]' = None, dataset: 'typing.Optional[str]' = None, bigquery_connection: 'typing.Optional[str]' = None, reuse: 'bool' = True)\n",
      "    Decorator to turn a user defined function into a BigQuery remote function.\n",
      "    \n",
      "    Args:\n",
      "        input_types : list(type)\n",
      "            List of input data types in the user defined function.\n",
      "        output_type : type\n",
      "            Data type of the output in the user defined function.\n",
      "        session : bigframes.Session, Optional\n",
      "            BigFrames session to use for getting default project, dataset and\n",
      "            bigquery connection.\n",
      "        bigquery_client : google.cloud.bigquery.Client, Optional\n",
      "            Client to use for BigQuery operations. If this param is not provided\n",
      "            then bigquery client from the session would be used.\n",
      "        dataset : str, Optional\n",
      "            Dataset to use to create a BigQuery function. It should be in\n",
      "            `<project_id>.<dataset_name>` or `<dataset_name>` format. If this\n",
      "            param is not provided then session dataset id would be used.\n",
      "        bigquery_connection : str, Optional\n",
      "            Name of the BigQuery connection. If it is pre created in the same\n",
      "            location as the `bigquery_client.location` then it would be used,\n",
      "            otherwise it would be created dynamically assuming the user has\n",
      "            necessary priviliges. If this param is not provided then the\n",
      "            bigquery connection from the session would be used.\n",
      "        reuse : bool, Optional\n",
      "            Reuse the remote function if already exists.\n",
      "            `True` by default, which will result in reusing an existing remote\n",
      "            function (if any) that was previously created for the same udf.\n",
      "            Setting it to false would force creating a unique remote function.\n",
      "            If the required remote function does not exist then it would be\n",
      "            created irrespective of this param.\n",
      "    \n",
      "    **Prerequisites:**\n",
      "        Please make sure following is setup before using this API:\n",
      "    \n",
      "        1. Have the below APIs enabled for your project:\n",
      "              a. Cloud Build API\n",
      "              b. Artifact Registry API\n",
      "              c. Cloud Functions API\n",
      "              d. BigQuery Connection API\n",
      "    \n",
      "           This can be done from the cloud console (change PROJECT_ID to yours):\n",
      "              https://console.cloud.google.com/apis/enableflow?apiid=cloudbuild.googleapis.com,artifactregistry.googleapis.com,cloudfunctions.googleapis.com,bigqueryconnection.googleapis.com&project=PROJECT_ID\n",
      "           Or from the gcloud CLI:\n",
      "              $ gcloud services enable cloudbuild.googleapis.com artifactregistry.googleapis.com cloudfunctions.googleapis.com bigqueryconnection.googleapis.com\n",
      "    \n",
      "        2. Have following IAM roles enabled for you:\n",
      "              a. BigQuery Job User (roles/bigquery.jobUser)\n",
      "              b. BigQuery Connection User (roles/bigquery.connectionUser)\n",
      "              c. Cloud Functions Developer (roles/cloudfunctions.developer)\n",
      "    \n",
      "        3. Either the user has setIamPolicy privilege on the project, or a BigQuery connection is pre-created with necessary IAM role set:\n",
      "              a. To create a connection, follow https://cloud.google.com/bigquery/docs/reference/standard-sql/remote-functions#create_a_connection\n",
      "              b. To set up IAM, follow https://cloud.google.com/bigquery/docs/reference/standard-sql/remote-functions#grant_permission_on_function\n",
      "           Alternatively, the IAM could also be setup via the gcloud CLI:\n",
      "              $ gcloud projects add-iam-policy-binding PROJECT_ID --member=\"serviceAccount:CONNECTION_SERVICE_ACCOUNT_ID\" --role=\"roles/run.invoker\"\n",
      "\n"
     ]
    }
   ],
   "source": [
    "# User simply imports the remote_function decorator and uses it on their udf\n",
    "from bigframes import remote_function\n",
    "\n",
    "# Tell the user what needs to be done offline before using BigFrames remote functions\n",
    "help(remote_function)"
   ]
  },
  {
   "cell_type": "code",
   "execution_count": 7,
   "id": "c9a8d03d",
   "metadata": {},
   "outputs": [],
   "source": [
    "# BigFrames requires user to specify a dataset where the BQ function would be persisted\n",
    "# We are discussing if this can be avoided in go/bigframes-transient-data\n",
    "dataset_id = 'my-first-project-331618.bigframes_dev'\n",
    "\n",
    "# BigFrames user is a data scientist and may not have privileges to create a BQ connector\n",
    "# and set it up for invoking a cloud function. They should get such a connector created\n",
    "# from their cloud admin and use it with BigFrames remote functions.\n",
    "bq_connector_name = 'bigframes-rf-conn'"
   ]
  },
  {
   "cell_type": "code",
   "execution_count": 8,
   "id": "fbc27f81",
   "metadata": {},
   "outputs": [
    {
     "name": "stderr",
     "output_type": "stream",
     "text": [
      "[INFO][2023-05-16 17:35:40,162][bigframes.remote_function] Existing cloud functions\n"
     ]
    },
    {
     "name": "stdout",
     "output_type": "stream",
     "text": [
      "NAME                               STATE   TRIGGER       REGION       ENVIRONMENT\n",
      "batch-add                          ACTIVE  HTTP Trigger  us-central1  2nd gen\n",
      "bigframes-find-team-5toiyt1g       ACTIVE  HTTP Trigger  us-central1  2nd gen\n",
      "bigframes-find-team-dbq6wkfr       ACTIVE  HTTP Trigger  us-central1  2nd gen\n",
      "bigframes-nth-prime                ACTIVE  HTTP Trigger  us-central1  2nd gen\n",
      "python-chicago-map-from-web-http   ACTIVE  HTTP Trigger  us-central1  2nd gen\n",
      "python-chicago-map-hardcoded-http  ACTIVE  HTTP Trigger  us-central1  2nd gen\n",
      "python-example-udf-num-num-http    ACTIVE  HTTP Trigger  us-central1  2nd gen\n",
      "python-http-add-one                ACTIVE  HTTP Trigger  us-east1     2nd gen\n",
      "python-http-function               ACTIVE  HTTP Trigger  us-central1  2nd gen\n",
      "python-http-function-1             ACTIVE  HTTP Trigger  us-central1  2nd gen\n",
      "python-mul2-http                   ACTIVE  HTTP Trigger  us-central1  2nd gen\n",
      "python-multiply-http               ACTIVE  HTTP Trigger  us-central1  2nd gen\n",
      "python-mysquare-http               ACTIVE  HTTP Trigger  us-central1  2nd gen\n",
      "python-mysquare2-http              ACTIVE  HTTP Trigger  us-central1  2nd gen\n",
      "python-nth-prime-http              ACTIVE  HTTP Trigger  us-central1  2nd gen\n",
      "python-square-http                 ACTIVE  HTTP Trigger  us-central1  2nd gen\n",
      "python-stringify-http              ACTIVE  HTTP Trigger  us-central1  2nd gen\n",
      "square                             ACTIVE  HTTP Trigger  us-central1  2nd gen\n"
     ]
    },
    {
     "name": "stderr",
     "output_type": "stream",
     "text": [
      "[INFO][2023-05-16 17:35:44,339][bigframes.remote_function] Creating new cloud function: gcloud functions deploy bigframes-1fa7febb712b7e7f9f4cb62ac3175d04 --gen2 --runtime=python310 --project=my-first-project-331618 --region=us-central1 --source=/tmp/tmpdz30hn5u --entry-point=udf_http --trigger-http --no-allow-unauthenticated\n",
      "Preparing function...\n",
      ".done.\n",
      "Deploying function...\n",
      "[Build]..................................................................................................................................................................................................................................................................................................................................................................................................................................done\n",
      "[Service].....................................................................................................................................................done\n",
      "Done.\n",
      "You can view your function in the Cloud Console here: https://console.cloud.google.com/functions/details/us-central1/bigframes-1fa7febb712b7e7f9f4cb62ac3175d04?project=my-first-project-331618\n",
      "\n"
     ]
    },
    {
     "name": "stdout",
     "output_type": "stream",
     "text": [
      "buildConfig:\n",
      "  build: projects/371300922916/locations/us-central1/builds/45faa208-c7eb-4ade-a349-4f3f2e91609e\n",
      "  entryPoint: udf_http\n",
      "  runtime: python310\n",
      "  source:\n",
      "    storageSource:\n",
      "      bucket: gcf-v2-sources-371300922916-us-central1\n",
      "      object: bigframes-1fa7febb712b7e7f9f4cb62ac3175d04/function-source.zip\n",
      "  sourceProvenance:\n",
      "    resolvedStorageSource:\n",
      "      bucket: gcf-v2-sources-371300922916-us-central1\n",
      "      generation: '1684258547710868'\n",
      "      object: bigframes-1fa7febb712b7e7f9f4cb62ac3175d04/function-source.zip\n",
      "environment: GEN_2\n",
      "labels:\n",
      "  deployment-tool: cli-gcloud\n",
      "name: projects/my-first-project-331618/locations/us-central1/functions/bigframes-1fa7febb712b7e7f9f4cb62ac3175d04\n",
      "serviceConfig:\n",
      "  allTrafficOnLatestRevision: true\n",
      "  availableCpu: '0.1666'\n",
      "  availableMemory: 256M\n",
      "  ingressSettings: ALLOW_ALL\n",
      "  maxInstanceCount: 100\n",
      "  maxInstanceRequestConcurrency: 1\n",
      "  revision: bigframes-1fa7febb712b7e7f9f4cb62ac3175d04-00001-lel\n",
      "  service: projects/my-first-project-331618/locations/us-central1/services/bigframes-1fa7febb712b7e7f9f4cb62ac3175d04\n",
      "  serviceAccountEmail: 371300922916-compute@developer.gserviceaccount.com\n",
      "  timeoutSeconds: 60\n",
      "  uri: https://bigframes-1fa7febb712b7e7f9f4cb62ac3175d04-76sbkhjuiq-uc.a.run.app\n",
      "state: ACTIVE\n",
      "updateTime: '2023-05-16T17:36:43.738421352Z'\n"
     ]
    },
    {
     "name": "stderr",
     "output_type": "stream",
     "text": [
      "[INFO][2023-05-16 17:36:46,533][bigframes.remote_function] Existing cloud functions\n"
     ]
    },
    {
     "name": "stdout",
     "output_type": "stream",
     "text": [
      "NAME                                        STATE   TRIGGER       REGION       ENVIRONMENT\n",
      "batch-add                                   ACTIVE  HTTP Trigger  us-central1  2nd gen\n",
      "bigframes-1fa7febb712b7e7f9f4cb62ac3175d04  ACTIVE  HTTP Trigger  us-central1  2nd gen\n",
      "bigframes-find-team-5toiyt1g                ACTIVE  HTTP Trigger  us-central1  2nd gen\n",
      "bigframes-find-team-dbq6wkfr                ACTIVE  HTTP Trigger  us-central1  2nd gen\n",
      "bigframes-nth-prime                         ACTIVE  HTTP Trigger  us-central1  2nd gen\n",
      "python-chicago-map-from-web-http            ACTIVE  HTTP Trigger  us-central1  2nd gen\n",
      "python-chicago-map-hardcoded-http           ACTIVE  HTTP Trigger  us-central1  2nd gen\n",
      "python-example-udf-num-num-http             ACTIVE  HTTP Trigger  us-central1  2nd gen\n",
      "python-http-add-one                         ACTIVE  HTTP Trigger  us-east1     2nd gen\n",
      "python-http-function                        ACTIVE  HTTP Trigger  us-central1  2nd gen\n",
      "python-http-function-1                      ACTIVE  HTTP Trigger  us-central1  2nd gen\n",
      "python-mul2-http                            ACTIVE  HTTP Trigger  us-central1  2nd gen\n",
      "python-multiply-http                        ACTIVE  HTTP Trigger  us-central1  2nd gen\n",
      "python-mysquare-http                        ACTIVE  HTTP Trigger  us-central1  2nd gen\n",
      "python-mysquare2-http                       ACTIVE  HTTP Trigger  us-central1  2nd gen\n",
      "python-nth-prime-http                       ACTIVE  HTTP Trigger  us-central1  2nd gen\n",
      "python-square-http                          ACTIVE  HTTP Trigger  us-central1  2nd gen\n",
      "python-stringify-http                       ACTIVE  HTTP Trigger  us-central1  2nd gen\n",
      "square                                      ACTIVE  HTTP Trigger  us-central1  2nd gen\n"
     ]
    },
    {
     "name": "stderr",
     "output_type": "stream",
     "text": [
      "[INFO][2023-05-16 17:36:50,310][bigframes.remote_function] Successfully created cloud function bigframes-1fa7febb712b7e7f9f4cb62ac3175d04 with uri (https://bigframes-1fa7febb712b7e7f9f4cb62ac3175d04-76sbkhjuiq-uc.a.run.app)\n",
      "[INFO][2023-05-16 17:36:50,513][bigframes.remote_function] List of existing connections\n",
      "/usr/lib/google-cloud-sdk/platform/bq/bq.py:42: DeprecationWarning: the imp module is deprecated in favour of importlib; see the module's documentation for alternative uses\n",
      "  import imp\n",
      "I0516 17:36:51.718043 140263356673088 bigquery_client.py:730] There is no apilog flag so non-critical logging is disabled.\n"
     ]
    },
    {
     "name": "stdout",
     "output_type": "stream",
     "text": [
      "                    name                     friendlyName   description    Last modified         type        hasCredential                                            properties                                            \n",
      " ------------------------------------------ -------------- ------------- ----------------- ---------------- --------------- ----------------------------------------------------------------------------------------------- \n",
      "  371300922916.us.batch-add-conn                                          01 Mar 09:50:24   CLOUD_RESOURCE   False           {\"serviceAccountId\": \"bqcx-371300922916-yrnm@gcp-sa-bigquery-condel.iam.gserviceaccount.com\"}  \n",
      "  371300922916.us.bigframes-rf-conn                                       08 Mar 08:28:37   CLOUD_RESOURCE   False           {\"serviceAccountId\": \"bqcx-371300922916-x5q0@gcp-sa-bigquery-condel.iam.gserviceaccount.com\"}  \n",
      "  371300922916.us.python-mul2-http-conn                                   07 Mar 08:11:25   CLOUD_RESOURCE   False           {\"serviceAccountId\": \"bqcx-371300922916-md41@gcp-sa-bigquery-condel.iam.gserviceaccount.com\"}  \n",
      "  371300922916.us.shobs-bigframes-rf-conn1                                20 Mar 01:12:15   CLOUD_RESOURCE   False           {\"serviceAccountId\": \"bqcx-371300922916-ps9d@gcp-sa-bigquery-condel.iam.gserviceaccount.com\"}  \n",
      "/usr/lib/google-cloud-sdk/platform/bq/bq.py:42: DeprecationWarning: the imp module is deprecated in favour of importlib; see the module's documentation for alternative uses\n",
      "  import imp\n",
      "I0516 17:36:53.386298 139860785454144 bigquery_client.py:730] There is no apilog flag so non-critical logging is disabled.\n"
     ]
    },
    {
     "name": "stderr",
     "output_type": "stream",
     "text": [
      "[INFO][2023-05-16 17:36:53,893][bigframes.remote_function] Connector bigframes-rf-conn already exists\n",
      "[INFO][2023-05-16 17:36:53,895][bigframes.remote_function] Creating BQ remote function: bq query --use_legacy_sql=false '\n",
      "    CREATE OR REPLACE FUNCTION `my-first-project-331618.bigframes_dev`.bigframes_1fa7febb712b7e7f9f4cb62ac3175d04(n INT64)\n",
      "    RETURNS INT64\n",
      "    REMOTE WITH CONNECTION `my-first-project-331618.us.bigframes-rf-conn`\n",
      "    OPTIONS (\n",
      "      endpoint = \"https://bigframes-1fa7febb712b7e7f9f4cb62ac3175d04-76sbkhjuiq-uc.a.run.app\"\n",
      "    )'\n",
      "/usr/lib/google-cloud-sdk/platform/bq/bq.py:42: DeprecationWarning: the imp module is deprecated in favour of importlib; see the module's documentation for alternative uses\n",
      "  import imp\n",
      "I0516 17:36:55.045917 139711291608128 bigquery_client.py:730] There is no apilog flag so non-critical logging is disabled.\n",
      "Waiting on bqjob_r227b1308df1d8f21_0000018825a2ef09_1 ... (0s) Current status: DONE   \n"
     ]
    },
    {
     "name": "stdout",
     "output_type": "stream",
     "text": [
      "Created my-first-project-331618.bigframes_dev.bigframes_1fa7febb712b7e7f9f4cb62ac3175d04\n"
     ]
    },
    {
     "name": "stderr",
     "output_type": "stream",
     "text": [
      "[INFO][2023-05-16 17:36:57,200][bigframes.remote_function] Created remote function `my-first-project-331618.bigframes_dev`.bigframes_1fa7febb712b7e7f9f4cb62ac3175d04\n"
     ]
    },
    {
     "name": "stdout",
     "output_type": "stream",
     "text": [
      "\n",
      "Wall time: 78.7236 s\n"
     ]
    }
   ],
   "source": [
    "from time import perf_counter\n",
    "start = perf_counter()\n",
    "#-------------------------------------------------------------------------------------\n",
    "\n",
    "# User defined function\n",
    "# https://www.codespeedy.com/find-nth-prime-number-in-python/\n",
    "@remote_function([int], int, session=pd, dataset=dataset_id, bigquery_connection=bq_connector_name)\n",
    "def nth_prime(n):\n",
    "    prime_numbers = [2,3]\n",
    "    i=3\n",
    "    if(0<n<=2):\n",
    "        return prime_numbers[n-1]\n",
    "    elif(n>2):\n",
    "        while (True):\n",
    "            i+=1\n",
    "            status = True\n",
    "            for j in range(2,int(i/2)+1):\n",
    "                if(i%j==0):\n",
    "                    status = False\n",
    "                    break\n",
    "            if(status==True):\n",
    "                prime_numbers.append(i)\n",
    "            if(len(prime_numbers)==n):\n",
    "                break\n",
    "        return prime_numbers[n-1]\n",
    "    else:\n",
    "        return -1\n",
    "\n",
    "#-------------------------------------------------------------------------------------\n",
    "print(f\"\\nWall time: {(perf_counter()-start):.4f} s\")"
   ]
  },
  {
   "cell_type": "code",
   "execution_count": 9,
   "id": "c1c9355f",
   "metadata": {},
   "outputs": [
    {
     "name": "stdout",
     "output_type": "stream",
     "text": [
      "               id                                               text  score  \\\n",
      "340      78648826  @richardb: that's because you're using order=7...      0   \n",
      "2002     84989443  I believe that's trying to find the Ruby \"ruby...      0   \n",
      "31800    53115380  Can you confirm that you don't see this issue ...      0   \n",
      "41033    34963916  Not should, must. You can not create managed o...      0   \n",
      "79660   119256298  @AbhishekMane - It's a generic frog -- a super...      1   \n",
      "101604   91852998  ```'branch_name'=>'required|max:255|unique:bra...      0   \n",
      "117199    4483403  I've experimented with things that ended up pr...      0   \n",
      "143485   24460060  @sadmicrowave could you provide how do you cre...      0   \n",
      "159450  104558415  I hate that this solved my problem, because it...      0   \n",
      "174563   90970217  That is right, but he is conditionally adding ...      0   \n",
      "\n",
      "        n_prime  \n",
      "340          -1  \n",
      "2002         -1  \n",
      "31800        -1  \n",
      "41033        -1  \n",
      "79660         2  \n",
      "101604       -1  \n",
      "117199       -1  \n",
      "143485       -1  \n",
      "159450       -1  \n",
      "174563       -1  \n",
      "\n",
      "[10 rows x 4 columns]\n",
      "CPU times: user 65.3 ms, sys: 3.6 ms, total: 68.9 ms\n",
      "Wall time: 6.46 s\n"
     ]
    }
   ],
   "source": [
    "%%time\n",
    "\n",
    "df = df.assign(n_prime=df['score'].apply(nth_prime))\n",
    "print(df.head(10))"
   ]
  },
  {
   "cell_type": "code",
   "execution_count": 10,
   "id": "3755a43d",
   "metadata": {},
   "outputs": [
    {
     "name": "stderr",
     "output_type": "stream",
     "text": [
      "[INFO][2023-05-16 17:37:05,234][bigframes.remote_function] Existing cloud functions\n"
     ]
    },
    {
     "name": "stdout",
     "output_type": "stream",
     "text": [
      "NAME                                        STATE   TRIGGER       REGION       ENVIRONMENT\n",
      "batch-add                                   ACTIVE  HTTP Trigger  us-central1  2nd gen\n",
      "bigframes-1fa7febb712b7e7f9f4cb62ac3175d04  ACTIVE  HTTP Trigger  us-central1  2nd gen\n",
      "bigframes-find-team-5toiyt1g                ACTIVE  HTTP Trigger  us-central1  2nd gen\n",
      "bigframes-find-team-dbq6wkfr                ACTIVE  HTTP Trigger  us-central1  2nd gen\n",
      "bigframes-nth-prime                         ACTIVE  HTTP Trigger  us-central1  2nd gen\n",
      "python-chicago-map-from-web-http            ACTIVE  HTTP Trigger  us-central1  2nd gen\n",
      "python-chicago-map-hardcoded-http           ACTIVE  HTTP Trigger  us-central1  2nd gen\n",
      "python-example-udf-num-num-http             ACTIVE  HTTP Trigger  us-central1  2nd gen\n",
      "python-http-add-one                         ACTIVE  HTTP Trigger  us-east1     2nd gen\n",
      "python-http-function                        ACTIVE  HTTP Trigger  us-central1  2nd gen\n",
      "python-http-function-1                      ACTIVE  HTTP Trigger  us-central1  2nd gen\n",
      "python-mul2-http                            ACTIVE  HTTP Trigger  us-central1  2nd gen\n",
      "python-multiply-http                        ACTIVE  HTTP Trigger  us-central1  2nd gen\n",
      "python-mysquare-http                        ACTIVE  HTTP Trigger  us-central1  2nd gen\n",
      "python-mysquare2-http                       ACTIVE  HTTP Trigger  us-central1  2nd gen\n",
      "python-nth-prime-http                       ACTIVE  HTTP Trigger  us-central1  2nd gen\n",
      "python-square-http                          ACTIVE  HTTP Trigger  us-central1  2nd gen\n",
      "python-stringify-http                       ACTIVE  HTTP Trigger  us-central1  2nd gen\n",
      "square                                      ACTIVE  HTTP Trigger  us-central1  2nd gen\n"
     ]
    },
    {
     "name": "stderr",
     "output_type": "stream",
     "text": [
      "[INFO][2023-05-16 17:37:08,816][bigframes.remote_function] Creating new cloud function: gcloud functions deploy bigframes-afe029771fe092e5dfde933dcd19b1ea --gen2 --runtime=python310 --project=my-first-project-331618 --region=us-central1 --source=/tmp/tmpneh0kp3u --entry-point=udf_http --trigger-http --no-allow-unauthenticated\n",
      "Preparing function...\n",
      "............done.\n",
      "Deploying function...\n",
      "[Build]......................................................................................................................................................................................................................................................................................................................................................................................................................................done\n",
      "[Service]..................................................................................done\n",
      "Done.\n",
      "You can view your function in the Cloud Console here: https://console.cloud.google.com/functions/details/us-central1/bigframes-afe029771fe092e5dfde933dcd19b1ea?project=my-first-project-331618\n",
      "\n"
     ]
    },
    {
     "name": "stdout",
     "output_type": "stream",
     "text": [
      "buildConfig:\n",
      "  build: projects/371300922916/locations/us-central1/builds/7942886a-6670-4836-bd6a-eceaaedd6dab\n",
      "  entryPoint: udf_http\n",
      "  runtime: python310\n",
      "  source:\n",
      "    storageSource:\n",
      "      bucket: gcf-v2-sources-371300922916-us-central1\n",
      "      object: bigframes-afe029771fe092e5dfde933dcd19b1ea/function-source.zip\n",
      "  sourceProvenance:\n",
      "    resolvedStorageSource:\n",
      "      bucket: gcf-v2-sources-371300922916-us-central1\n",
      "      generation: '1684258631623980'\n",
      "      object: bigframes-afe029771fe092e5dfde933dcd19b1ea/function-source.zip\n",
      "environment: GEN_2\n",
      "labels:\n",
      "  deployment-tool: cli-gcloud\n",
      "name: projects/my-first-project-331618/locations/us-central1/functions/bigframes-afe029771fe092e5dfde933dcd19b1ea\n",
      "serviceConfig:\n",
      "  allTrafficOnLatestRevision: true\n",
      "  availableCpu: '0.1666'\n",
      "  availableMemory: 256M\n",
      "  ingressSettings: ALLOW_ALL\n",
      "  maxInstanceCount: 100\n",
      "  maxInstanceRequestConcurrency: 1\n",
      "  revision: bigframes-afe029771fe092e5dfde933dcd19b1ea-00001-lap\n",
      "  service: projects/my-first-project-331618/locations/us-central1/services/bigframes-afe029771fe092e5dfde933dcd19b1ea\n",
      "  serviceAccountEmail: 371300922916-compute@developer.gserviceaccount.com\n",
      "  timeoutSeconds: 60\n",
      "  uri: https://bigframes-afe029771fe092e5dfde933dcd19b1ea-76sbkhjuiq-uc.a.run.app\n",
      "state: ACTIVE\n",
      "updateTime: '2023-05-16T17:38:03.058812737Z'\n"
     ]
    },
    {
     "name": "stderr",
     "output_type": "stream",
     "text": [
      "[INFO][2023-05-16 17:38:04,897][bigframes.remote_function] Existing cloud functions\n"
     ]
    },
    {
     "name": "stdout",
     "output_type": "stream",
     "text": [
      "NAME                                        STATE   TRIGGER       REGION       ENVIRONMENT\n",
      "batch-add                                   ACTIVE  HTTP Trigger  us-central1  2nd gen\n",
      "bigframes-1fa7febb712b7e7f9f4cb62ac3175d04  ACTIVE  HTTP Trigger  us-central1  2nd gen\n",
      "bigframes-afe029771fe092e5dfde933dcd19b1ea  ACTIVE  HTTP Trigger  us-central1  2nd gen\n",
      "bigframes-find-team-5toiyt1g                ACTIVE  HTTP Trigger  us-central1  2nd gen\n",
      "bigframes-find-team-dbq6wkfr                ACTIVE  HTTP Trigger  us-central1  2nd gen\n",
      "bigframes-nth-prime                         ACTIVE  HTTP Trigger  us-central1  2nd gen\n",
      "python-chicago-map-from-web-http            ACTIVE  HTTP Trigger  us-central1  2nd gen\n",
      "python-chicago-map-hardcoded-http           ACTIVE  HTTP Trigger  us-central1  2nd gen\n",
      "python-example-udf-num-num-http             ACTIVE  HTTP Trigger  us-central1  2nd gen\n",
      "python-http-add-one                         ACTIVE  HTTP Trigger  us-east1     2nd gen\n",
      "python-http-function                        ACTIVE  HTTP Trigger  us-central1  2nd gen\n",
      "python-http-function-1                      ACTIVE  HTTP Trigger  us-central1  2nd gen\n",
      "python-mul2-http                            ACTIVE  HTTP Trigger  us-central1  2nd gen\n",
      "python-multiply-http                        ACTIVE  HTTP Trigger  us-central1  2nd gen\n",
      "python-mysquare-http                        ACTIVE  HTTP Trigger  us-central1  2nd gen\n",
      "python-mysquare2-http                       ACTIVE  HTTP Trigger  us-central1  2nd gen\n",
      "python-nth-prime-http                       ACTIVE  HTTP Trigger  us-central1  2nd gen\n",
      "python-square-http                          ACTIVE  HTTP Trigger  us-central1  2nd gen\n",
      "python-stringify-http                       ACTIVE  HTTP Trigger  us-central1  2nd gen\n",
      "square                                      ACTIVE  HTTP Trigger  us-central1  2nd gen\n"
     ]
    },
    {
     "name": "stderr",
     "output_type": "stream",
     "text": [
      "[INFO][2023-05-16 17:38:08,819][bigframes.remote_function] Successfully created cloud function bigframes-afe029771fe092e5dfde933dcd19b1ea with uri (https://bigframes-afe029771fe092e5dfde933dcd19b1ea-76sbkhjuiq-uc.a.run.app)\n",
      "[INFO][2023-05-16 17:38:08,994][bigframes.remote_function] List of existing connections\n",
      "/usr/lib/google-cloud-sdk/platform/bq/bq.py:42: DeprecationWarning: the imp module is deprecated in favour of importlib; see the module's documentation for alternative uses\n",
      "  import imp\n",
      "I0516 17:38:10.132915 140438353005632 bigquery_client.py:730] There is no apilog flag so non-critical logging is disabled.\n"
     ]
    },
    {
     "name": "stdout",
     "output_type": "stream",
     "text": [
      "                    name                     friendlyName   description    Last modified         type        hasCredential                                            properties                                            \n",
      " ------------------------------------------ -------------- ------------- ----------------- ---------------- --------------- ----------------------------------------------------------------------------------------------- \n",
      "  371300922916.us.batch-add-conn                                          01 Mar 09:50:24   CLOUD_RESOURCE   False           {\"serviceAccountId\": \"bqcx-371300922916-yrnm@gcp-sa-bigquery-condel.iam.gserviceaccount.com\"}  \n",
      "  371300922916.us.bigframes-rf-conn                                       08 Mar 08:28:37   CLOUD_RESOURCE   False           {\"serviceAccountId\": \"bqcx-371300922916-x5q0@gcp-sa-bigquery-condel.iam.gserviceaccount.com\"}  \n",
      "  371300922916.us.python-mul2-http-conn                                   07 Mar 08:11:25   CLOUD_RESOURCE   False           {\"serviceAccountId\": \"bqcx-371300922916-md41@gcp-sa-bigquery-condel.iam.gserviceaccount.com\"}  \n",
      "  371300922916.us.shobs-bigframes-rf-conn1                                20 Mar 01:12:15   CLOUD_RESOURCE   False           {\"serviceAccountId\": \"bqcx-371300922916-ps9d@gcp-sa-bigquery-condel.iam.gserviceaccount.com\"}  \n",
      "/usr/lib/google-cloud-sdk/platform/bq/bq.py:42: DeprecationWarning: the imp module is deprecated in favour of importlib; see the module's documentation for alternative uses\n",
      "  import imp\n",
      "I0516 17:38:11.709936 140260967509056 bigquery_client.py:730] There is no apilog flag so non-critical logging is disabled.\n"
     ]
    },
    {
     "name": "stderr",
     "output_type": "stream",
     "text": [
      "[INFO][2023-05-16 17:38:12,159][bigframes.remote_function] Connector bigframes-rf-conn already exists\n",
      "[INFO][2023-05-16 17:38:12,161][bigframes.remote_function] Creating BQ remote function: bq query --use_legacy_sql=false '\n",
      "    CREATE OR REPLACE FUNCTION `my-first-project-331618.bigframes_dev`.bigframes_afe029771fe092e5dfde933dcd19b1ea(n INT64)\n",
      "    RETURNS INT64\n",
      "    REMOTE WITH CONNECTION `my-first-project-331618.us.bigframes-rf-conn`\n",
      "    OPTIONS (\n",
      "      endpoint = \"https://bigframes-afe029771fe092e5dfde933dcd19b1ea-76sbkhjuiq-uc.a.run.app\"\n",
      "    )'\n",
      "/usr/lib/google-cloud-sdk/platform/bq/bq.py:42: DeprecationWarning: the imp module is deprecated in favour of importlib; see the module's documentation for alternative uses\n",
      "  import imp\n",
      "I0516 17:38:13.306264 140291393309760 bigquery_client.py:730] There is no apilog flag so non-critical logging is disabled.\n",
      "Waiting on bqjob_r17cfbf368ee69a54_0000018825a420be_1 ... (0s) Current status: DONE   \n"
     ]
    },
    {
     "name": "stdout",
     "output_type": "stream",
     "text": [
      "Created my-first-project-331618.bigframes_dev.bigframes_afe029771fe092e5dfde933dcd19b1ea\n"
     ]
    },
    {
     "name": "stderr",
     "output_type": "stream",
     "text": [
      "[INFO][2023-05-16 17:38:15,391][bigframes.remote_function] Created remote function `my-first-project-331618.bigframes_dev`.bigframes_afe029771fe092e5dfde933dcd19b1ea\n"
     ]
    },
    {
     "name": "stdout",
     "output_type": "stream",
     "text": [
      "\n",
      "Wall time: 71.6585 s\n"
     ]
    }
   ],
   "source": [
    "# This time the previously created remote function with the exact same source\n",
    "# code should be found and reused\n",
    "\n",
    "from time import perf_counter\n",
    "start = perf_counter()\n",
    "#-------------------------------------------------------------------------------------\n",
    "\n",
    "# User defined function\n",
    "# https://www.codespeedy.com/find-nth-prime-number-in-python/\n",
    "@remote_function([int], int, session=pd, dataset=dataset_id, bigquery_connection=bq_connector_name)\n",
    "def nth_prime(n):\n",
    "    prime_numbers = [2,3]\n",
    "    i=3\n",
    "    if(0<n<=2):\n",
    "        return prime_numbers[n-1]\n",
    "    elif(n>2):\n",
    "        while (True):\n",
    "            i+=1\n",
    "            status = True\n",
    "            for j in range(2,int(i/2)+1):\n",
    "                if(i%j==0):\n",
    "                    status = False\n",
    "                    break\n",
    "            if(status==True):\n",
    "                prime_numbers.append(i)\n",
    "            if(len(prime_numbers)==n):\n",
    "                break\n",
    "        return prime_numbers[n-1]\n",
    "    else:\n",
    "        return -1\n",
    "\n",
    "#-------------------------------------------------------------------------------------\n",
    "print(f\"\\nWall time: {(perf_counter()-start):.4f} s\")"
   ]
  },
  {
   "cell_type": "code",
   "execution_count": 11,
   "id": "f239d00f",
   "metadata": {},
   "outputs": [
    {
     "name": "stdout",
     "output_type": "stream",
     "text": [
      "               id                                               text  score  \\\n",
      "340      78648826  @richardb: that's because you're using order=7...      0   \n",
      "2002     84989443  I believe that's trying to find the Ruby \"ruby...      0   \n",
      "31800    53115380  Can you confirm that you don't see this issue ...      0   \n",
      "41033    34963916  Not should, must. You can not create managed o...      0   \n",
      "79660   119256298  @AbhishekMane - It's a generic frog -- a super...      1   \n",
      "101604   91852998  ```'branch_name'=>'required|max:255|unique:bra...      0   \n",
      "117199    4483403  I've experimented with things that ended up pr...      0   \n",
      "143485   24460060  @sadmicrowave could you provide how do you cre...      0   \n",
      "159450  104558415  I hate that this solved my problem, because it...      0   \n",
      "174563   90970217  That is right, but he is conditionally adding ...      0   \n",
      "\n",
      "        n_prime  \n",
      "340          -1  \n",
      "2002         -1  \n",
      "31800        -1  \n",
      "41033        -1  \n",
      "79660         2  \n",
      "101604       -1  \n",
      "117199       -1  \n",
      "143485       -1  \n",
      "159450       -1  \n",
      "174563       -1  \n",
      "\n",
      "[10 rows x 4 columns]\n",
      "CPU times: user 58.2 ms, sys: 3.72 ms, total: 61.9 ms\n",
      "Wall time: 7.36 s\n"
     ]
    }
   ],
   "source": [
    "%%time\n",
    "\n",
    "# Usage of the remote function continues to work\n",
    "\n",
    "df = df.assign(n_prime=df['score'].apply(nth_prime))\n",
    "print(df.head(10))"
   ]
  }
 ],
 "metadata": {
  "kernelspec": {
   "display_name": "Python 3 (ipykernel)",
   "language": "python",
   "name": "python3"
  },
  "language_info": {
   "codemirror_mode": {
    "name": "ipython",
    "version": 3
   },
   "file_extension": ".py",
   "mimetype": "text/x-python",
   "name": "python",
   "nbconvert_exporter": "python",
   "pygments_lexer": "ipython3",
   "version": "3.10.9"
  }
 },
 "nbformat": 4,
 "nbformat_minor": 5
}
