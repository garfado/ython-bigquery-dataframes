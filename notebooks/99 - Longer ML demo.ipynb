{
 "cells": [
  {
   "attachments": {},
   "cell_type": "markdown",
   "id": "71fbfc47",
   "metadata": {},
   "source": [
    "**Note: this notebook requires changes not yet checked in**\n",
    "\n",
    "# Introduction\n",
    "\n",
    "This is a prototype for how a minimal SKLearn-like wrapper for BQML might work in BigFrames.\n",
    "\n",
    "Disclaimer - this is not a polished design or a robust implementation, this is a quick prototype to workshop some ideas. Design will be next.\n",
    "\n",
    "What is BigFrames?\n",
    "- Pandas API for BigQuery\n",
    "- Lets data scientists quickly iterate and prepare their data as they do in Pandas, but executed by BigQuery\n",
    "\n",
    "What is meant by SKLearn-like?\n",
    "- Follow the API design practices from the SKLearn project\n",
    "    - [API design for machine learning software: experiences from the scikit-learn project](https://arxiv.org/pdf/1309.0238.pdf)\n",
    "- Not a copy of, or compatible with, SKLearn\n",
    "\n",
    "Briefly, patterns taken from SKLearn are:\n",
    "- Models and transforms are 'Estimators'\n",
    "    - A bundle of parameters with a consistent way to initialize/get/set\n",
    "    - And a .fit(..) method to fit to training data\n",
    "- Models additionally have a .predict(..)\n",
    "- By default, these objects are transient, making them easy to play around with. No need to give them names or decide how to persist them.\n",
    "\n",
    "\n",
    "Design goals:\n",
    "- Zero friction ML capabilities for BigFrames users (no extra auth, configuration, etc)\n",
    "- Offers first class integration with the Pandas-like BigFrames API\n",
    "- Uses SKLearn-like design patterns that feel familiar to data scientists\n",
    "- Also a first class BigQuery experience\n",
    "    - Offers BigQuery's scalability and storage / compute management\n",
    "    - Works naturally with BigQuery's other interfaces, e.g. GUI and SQL\n",
    "    - BQML features"
   ]
  },
  {
   "attachments": {},
   "cell_type": "markdown",
   "id": "345c2163",
   "metadata": {},
   "source": [
    "# Linear regression tutorial\n",
    "\n",
    "Adapted from the \"Penguin weight\" Linear Regression tutorial for BQML: https://cloud.google.com/bigquery-ml/docs/linear-regression-tutorial\n"
   ]
  },
  {
   "attachments": {},
   "cell_type": "markdown",
   "id": "03c9e168",
   "metadata": {},
   "source": [
    "## Setting the scene\n",
    "\n",
    "Our conservationists have sent us some measurements of penguins found in the Antarctic islands. They say that some of the body mass measurements for the Adelie penguins are missing, and ask if we can use some data science magic to estimate them. Sounds like a job for a linear regression!\n",
    "\n",
    "Lets take a look at the data..."
   ]
  },
  {
   "cell_type": "code",
   "execution_count": 1,
   "id": "d7a03de2-c0ef-4f80-9cd5-f96e87cf2d54",
   "metadata": {
    "tags": []
   },
   "outputs": [
    {
     "data": {
      "text/html": [
       "<div>\n",
       "<style scoped>\n",
       "    .dataframe tbody tr th:only-of-type {\n",
       "        vertical-align: middle;\n",
       "    }\n",
       "\n",
       "    .dataframe tbody tr th {\n",
       "        vertical-align: top;\n",
       "    }\n",
       "\n",
       "    .dataframe thead th {\n",
       "        text-align: right;\n",
       "    }\n",
       "</style>\n",
       "<table border=\"1\" class=\"dataframe\">\n",
       "  <thead>\n",
       "    <tr style=\"text-align: right;\">\n",
       "      <th></th>\n",
       "      <th>name</th>\n",
       "      <th>tag_number</th>\n",
       "      <th>species</th>\n",
       "      <th>island</th>\n",
       "      <th>culmen_length_mm</th>\n",
       "      <th>culmen_depth_mm</th>\n",
       "      <th>flipper_length_mm</th>\n",
       "      <th>body_mass_g</th>\n",
       "      <th>sex</th>\n",
       "    </tr>\n",
       "  </thead>\n",
       "  <tbody>\n",
       "    <tr>\n",
       "      <th>0</th>\n",
       "      <td>Genesis</td>\n",
       "      <td>1245</td>\n",
       "      <td>Adelie Penguin (Pygoscelis adeliae)</td>\n",
       "      <td>Dream</td>\n",
       "      <td>37.5</td>\n",
       "      <td>18.9</td>\n",
       "      <td>179.0</td>\n",
       "      <td>2975.0</td>\n",
       "      <td>None</td>\n",
       "    </tr>\n",
       "    <tr>\n",
       "      <th>1</th>\n",
       "      <td>Bella</td>\n",
       "      <td>1162</td>\n",
       "      <td>Adelie Penguin (Pygoscelis adeliae)</td>\n",
       "      <td>Dream</td>\n",
       "      <td>40.7</td>\n",
       "      <td>17.0</td>\n",
       "      <td>190.0</td>\n",
       "      <td>3725.0</td>\n",
       "      <td>MALE</td>\n",
       "    </tr>\n",
       "    <tr>\n",
       "      <th>2</th>\n",
       "      <td>Diego</td>\n",
       "      <td>1175</td>\n",
       "      <td>Adelie Penguin (Pygoscelis adeliae)</td>\n",
       "      <td>Dream</td>\n",
       "      <td>41.1</td>\n",
       "      <td>19.0</td>\n",
       "      <td>182.0</td>\n",
       "      <td>3425.0</td>\n",
       "      <td>MALE</td>\n",
       "    </tr>\n",
       "    <tr>\n",
       "      <th>3</th>\n",
       "      <td>Oliver</td>\n",
       "      <td>1178</td>\n",
       "      <td>Adelie Penguin (Pygoscelis adeliae)</td>\n",
       "      <td>Dream</td>\n",
       "      <td>41.6</td>\n",
       "      <td>20.0</td>\n",
       "      <td>204.0</td>\n",
       "      <td>NaN</td>\n",
       "      <td>MALE</td>\n",
       "    </tr>\n",
       "    <tr>\n",
       "      <th>4</th>\n",
       "      <td>Cole</td>\n",
       "      <td>1180</td>\n",
       "      <td>Adelie Penguin (Pygoscelis adeliae)</td>\n",
       "      <td>Dream</td>\n",
       "      <td>38.8</td>\n",
       "      <td>20.0</td>\n",
       "      <td>190.0</td>\n",
       "      <td>3950.0</td>\n",
       "      <td>MALE</td>\n",
       "    </tr>\n",
       "    <tr>\n",
       "      <th>...</th>\n",
       "      <td>...</td>\n",
       "      <td>...</td>\n",
       "      <td>...</td>\n",
       "      <td>...</td>\n",
       "      <td>...</td>\n",
       "      <td>...</td>\n",
       "      <td>...</td>\n",
       "      <td>...</td>\n",
       "      <td>...</td>\n",
       "    </tr>\n",
       "    <tr>\n",
       "      <th>342</th>\n",
       "      <td>Annabelle</td>\n",
       "      <td>1299</td>\n",
       "      <td>Adelie Penguin (Pygoscelis adeliae)</td>\n",
       "      <td>Torgersen</td>\n",
       "      <td>35.2</td>\n",
       "      <td>15.9</td>\n",
       "      <td>186.0</td>\n",
       "      <td>3050.0</td>\n",
       "      <td>FEMALE</td>\n",
       "    </tr>\n",
       "    <tr>\n",
       "      <th>343</th>\n",
       "      <td>Sadie</td>\n",
       "      <td>1301</td>\n",
       "      <td>Adelie Penguin (Pygoscelis adeliae)</td>\n",
       "      <td>Torgersen</td>\n",
       "      <td>40.9</td>\n",
       "      <td>16.8</td>\n",
       "      <td>191.0</td>\n",
       "      <td>3700.0</td>\n",
       "      <td>FEMALE</td>\n",
       "    </tr>\n",
       "    <tr>\n",
       "      <th>344</th>\n",
       "      <td>Leonardo</td>\n",
       "      <td>1303</td>\n",
       "      <td>Adelie Penguin (Pygoscelis adeliae)</td>\n",
       "      <td>Torgersen</td>\n",
       "      <td>36.6</td>\n",
       "      <td>17.8</td>\n",
       "      <td>185.0</td>\n",
       "      <td>3700.0</td>\n",
       "      <td>FEMALE</td>\n",
       "    </tr>\n",
       "    <tr>\n",
       "      <th>345</th>\n",
       "      <td>Violet</td>\n",
       "      <td>1306</td>\n",
       "      <td>Adelie Penguin (Pygoscelis adeliae)</td>\n",
       "      <td>Torgersen</td>\n",
       "      <td>38.9</td>\n",
       "      <td>17.8</td>\n",
       "      <td>181.0</td>\n",
       "      <td>3625.0</td>\n",
       "      <td>FEMALE</td>\n",
       "    </tr>\n",
       "    <tr>\n",
       "      <th>346</th>\n",
       "      <td>Emmanuel</td>\n",
       "      <td>1310</td>\n",
       "      <td>Adelie Penguin (Pygoscelis adeliae)</td>\n",
       "      <td>Torgersen</td>\n",
       "      <td>36.7</td>\n",
       "      <td>18.8</td>\n",
       "      <td>187.0</td>\n",
       "      <td>3800.0</td>\n",
       "      <td>FEMALE</td>\n",
       "    </tr>\n",
       "  </tbody>\n",
       "</table>\n",
       "<p>347 rows × 9 columns</p>\n",
       "</div>"
      ],
      "text/plain": [
       "      name  tag_number                              species island  \\\n",
       "0  Genesis        1245  Adelie Penguin (Pygoscelis adeliae)  Dream   \n",
       "1    Bella        1162  Adelie Penguin (Pygoscelis adeliae)  Dream   \n",
       "2    Diego        1175  Adelie Penguin (Pygoscelis adeliae)  Dream   \n",
       "3   Oliver        1178  Adelie Penguin (Pygoscelis adeliae)  Dream   \n",
       "4     Cole        1180  Adelie Penguin (Pygoscelis adeliae)  Dream   \n",
       "5   Sydney        1188  Adelie Penguin (Pygoscelis adeliae)  Dream   \n",
       "6    Aidan        1189  Adelie Penguin (Pygoscelis adeliae)  Dream   \n",
       "7   Camila        1190  Adelie Penguin (Pygoscelis adeliae)  Dream   \n",
       "8     Eric        1191  Adelie Penguin (Pygoscelis adeliae)  Dream   \n",
       "9  Bentley        1197  Adelie Penguin (Pygoscelis adeliae)  Dream   \n",
       "\n",
       "   culmen_length_mm  culmen_depth_mm  flipper_length_mm  body_mass_g   sex  \n",
       "0              37.5             18.9              179.0       2975.0  None  \n",
       "1              40.7             17.0              190.0       3725.0  MALE  \n",
       "2              41.1             19.0              182.0       3425.0  MALE  \n",
       "3              41.6             20.0              204.0          NaN  MALE  \n",
       "4              38.8             20.0              190.0       3950.0  MALE  \n",
       "5              41.1             17.5              190.0       3900.0  MALE  \n",
       "6              40.3             18.5              196.0       4350.0  MALE  \n",
       "7              41.5             18.5              201.0       4000.0  MALE  \n",
       "...\n",
       "\n",
       "[347 rows x 9 columns]"
      ]
     },
     "execution_count": 1,
     "metadata": {},
     "output_type": "execute_result"
    }
   ],
   "source": [
    "import bigframes\n",
    "\n",
    "session = bigframes.connect()\n",
    "df = session.read_gbq(\"bigframes-dev.bqml_tutorial.penguins\")\n",
    "df"
   ]
  },
  {
   "attachments": {},
   "cell_type": "markdown",
   "id": "359524c4",
   "metadata": {},
   "source": [
    "First we note that while we have a default numbered index generated by BigQuery, actually the penguins are uniquely identified by their names and tags. Giving birds unique memorable names, in addition to their tags, is a common practice among conservationists!\n",
    "\n",
    "Lets make the data a bit friendlier to work with by setting the name column as the index."
   ]
  },
  {
   "cell_type": "code",
   "execution_count": 2,
   "id": "93d01411",
   "metadata": {},
   "outputs": [
    {
     "data": {
      "text/html": [
       "<div>\n",
       "<style scoped>\n",
       "    .dataframe tbody tr th:only-of-type {\n",
       "        vertical-align: middle;\n",
       "    }\n",
       "\n",
       "    .dataframe tbody tr th {\n",
       "        vertical-align: top;\n",
       "    }\n",
       "\n",
       "    .dataframe thead th {\n",
       "        text-align: right;\n",
       "    }\n",
       "</style>\n",
       "<table border=\"1\" class=\"dataframe\">\n",
       "  <thead>\n",
       "    <tr style=\"text-align: right;\">\n",
       "      <th></th>\n",
       "      <th>tag_number</th>\n",
       "      <th>species</th>\n",
       "      <th>island</th>\n",
       "      <th>culmen_length_mm</th>\n",
       "      <th>culmen_depth_mm</th>\n",
       "      <th>flipper_length_mm</th>\n",
       "      <th>body_mass_g</th>\n",
       "      <th>sex</th>\n",
       "    </tr>\n",
       "    <tr>\n",
       "      <th>name</th>\n",
       "      <th></th>\n",
       "      <th></th>\n",
       "      <th></th>\n",
       "      <th></th>\n",
       "      <th></th>\n",
       "      <th></th>\n",
       "      <th></th>\n",
       "      <th></th>\n",
       "    </tr>\n",
       "  </thead>\n",
       "  <tbody>\n",
       "    <tr>\n",
       "      <th>Aaliyah</th>\n",
       "      <td>1177</td>\n",
       "      <td>Adelie Penguin (Pygoscelis adeliae)</td>\n",
       "      <td>Biscoe</td>\n",
       "      <td>41.0</td>\n",
       "      <td>20.0</td>\n",
       "      <td>203.0</td>\n",
       "      <td>4725.0</td>\n",
       "      <td>MALE</td>\n",
       "    </tr>\n",
       "    <tr>\n",
       "      <th>Aaron</th>\n",
       "      <td>1110</td>\n",
       "      <td>Gentoo penguin (Pygoscelis papua)</td>\n",
       "      <td>Biscoe</td>\n",
       "      <td>49.0</td>\n",
       "      <td>16.1</td>\n",
       "      <td>216.0</td>\n",
       "      <td>5550.0</td>\n",
       "      <td>MALE</td>\n",
       "    </tr>\n",
       "    <tr>\n",
       "      <th>Abigail</th>\n",
       "      <td>1054</td>\n",
       "      <td>Gentoo penguin (Pygoscelis papua)</td>\n",
       "      <td>Biscoe</td>\n",
       "      <td>46.4</td>\n",
       "      <td>15.0</td>\n",
       "      <td>216.0</td>\n",
       "      <td>4700.0</td>\n",
       "      <td>FEMALE</td>\n",
       "    </tr>\n",
       "    <tr>\n",
       "      <th>Adam</th>\n",
       "      <td>1164</td>\n",
       "      <td>Adelie Penguin (Pygoscelis adeliae)</td>\n",
       "      <td>Torgersen</td>\n",
       "      <td>38.6</td>\n",
       "      <td>17.0</td>\n",
       "      <td>188.0</td>\n",
       "      <td>2900.0</td>\n",
       "      <td>FEMALE</td>\n",
       "    </tr>\n",
       "    <tr>\n",
       "      <th>Addison</th>\n",
       "      <td>1077</td>\n",
       "      <td>Gentoo penguin (Pygoscelis papua)</td>\n",
       "      <td>Biscoe</td>\n",
       "      <td>46.4</td>\n",
       "      <td>15.6</td>\n",
       "      <td>221.0</td>\n",
       "      <td>5000.0</td>\n",
       "      <td>MALE</td>\n",
       "    </tr>\n",
       "    <tr>\n",
       "      <th>...</th>\n",
       "      <td>...</td>\n",
       "      <td>...</td>\n",
       "      <td>...</td>\n",
       "      <td>...</td>\n",
       "      <td>...</td>\n",
       "      <td>...</td>\n",
       "      <td>...</td>\n",
       "      <td>...</td>\n",
       "    </tr>\n",
       "    <tr>\n",
       "      <th>Wyatt</th>\n",
       "      <td>1112</td>\n",
       "      <td>Gentoo penguin (Pygoscelis papua)</td>\n",
       "      <td>Biscoe</td>\n",
       "      <td>52.2</td>\n",
       "      <td>17.1</td>\n",
       "      <td>228.0</td>\n",
       "      <td>5400.0</td>\n",
       "      <td>MALE</td>\n",
       "    </tr>\n",
       "    <tr>\n",
       "      <th>Xavier</th>\n",
       "      <td>1145</td>\n",
       "      <td>Gentoo penguin (Pygoscelis papua)</td>\n",
       "      <td>Biscoe</td>\n",
       "      <td>46.5</td>\n",
       "      <td>14.4</td>\n",
       "      <td>217.0</td>\n",
       "      <td>4900.0</td>\n",
       "      <td>FEMALE</td>\n",
       "    </tr>\n",
       "    <tr>\n",
       "      <th>Zachary</th>\n",
       "      <td>1114</td>\n",
       "      <td>Gentoo penguin (Pygoscelis papua)</td>\n",
       "      <td>Biscoe</td>\n",
       "      <td>45.3</td>\n",
       "      <td>13.8</td>\n",
       "      <td>208.0</td>\n",
       "      <td>4200.0</td>\n",
       "      <td>FEMALE</td>\n",
       "    </tr>\n",
       "    <tr>\n",
       "      <th>Zoe</th>\n",
       "      <td>1135</td>\n",
       "      <td>Gentoo penguin (Pygoscelis papua)</td>\n",
       "      <td>Biscoe</td>\n",
       "      <td>51.5</td>\n",
       "      <td>16.3</td>\n",
       "      <td>230.0</td>\n",
       "      <td>5500.0</td>\n",
       "      <td>MALE</td>\n",
       "    </tr>\n",
       "    <tr>\n",
       "      <th>Zoey</th>\n",
       "      <td>1160</td>\n",
       "      <td>Adelie Penguin (Pygoscelis adeliae)</td>\n",
       "      <td>Torgersen</td>\n",
       "      <td>40.2</td>\n",
       "      <td>17.0</td>\n",
       "      <td>176.0</td>\n",
       "      <td>3450.0</td>\n",
       "      <td>FEMALE</td>\n",
       "    </tr>\n",
       "  </tbody>\n",
       "</table>\n",
       "<p>347 rows × 8 columns</p>\n",
       "</div>"
      ],
      "text/plain": [
       "      name  tag_number                                    species     island  \\\n",
       "0  Aaliyah        1177        Adelie Penguin (Pygoscelis adeliae)     Biscoe   \n",
       "1    Aaron        1110          Gentoo penguin (Pygoscelis papua)     Biscoe   \n",
       "2  Abigail        1054          Gentoo penguin (Pygoscelis papua)     Biscoe   \n",
       "3     Adam        1164        Adelie Penguin (Pygoscelis adeliae)  Torgersen   \n",
       "4  Addison        1077          Gentoo penguin (Pygoscelis papua)     Biscoe   \n",
       "5   Adrian        1109          Gentoo penguin (Pygoscelis papua)     Biscoe   \n",
       "6  Adriana        1320  Chinstrap penguin (Pygoscelis antarctica)      Dream   \n",
       "7    Aidan        1189        Adelie Penguin (Pygoscelis adeliae)      Dream   \n",
       "8    Aiden        1045          Gentoo penguin (Pygoscelis papua)     Biscoe   \n",
       "9     Alan        1315  Chinstrap penguin (Pygoscelis antarctica)      Dream   \n",
       "\n",
       "   culmen_length_mm  culmen_depth_mm  flipper_length_mm  body_mass_g     sex  \n",
       "0              41.0             20.0              203.0       4725.0    MALE  \n",
       "1              49.0             16.1              216.0       5550.0    MALE  \n",
       "2              46.4             15.0              216.0       4700.0  FEMALE  \n",
       "3              38.6             17.0              188.0       2900.0  FEMALE  \n",
       "4              46.4             15.6              221.0       5000.0    MALE  \n",
       "5              46.8             16.1              215.0       5500.0    MALE  \n",
       "6              46.8             16.5              189.0       3650.0  FEMALE  \n",
       "7              40.3             18.5              196.0       4350.0    MALE  \n",
       "...\n",
       "\n",
       "[347 rows x 9 columns]"
      ]
     },
     "execution_count": 2,
     "metadata": {},
     "output_type": "execute_result"
    }
   ],
   "source": [
    "df = df.set_index(\"name\")\n",
    "df"
   ]
  },
  {
   "attachments": {},
   "cell_type": "markdown",
   "id": "f95fda6a",
   "metadata": {},
   "source": [
    "We saw in the first view that there were some missing values. We're especially interested in observations that are missing just the body_mass_g, so lets look at those:"
   ]
  },
  {
   "cell_type": "code",
   "execution_count": 3,
   "id": "941cb6c3-8c54-42ce-a945-4fa604176b2e",
   "metadata": {
    "tags": []
   },
   "outputs": [
    {
     "data": {
      "text/html": [
       "<div>\n",
       "<style scoped>\n",
       "    .dataframe tbody tr th:only-of-type {\n",
       "        vertical-align: middle;\n",
       "    }\n",
       "\n",
       "    .dataframe tbody tr th {\n",
       "        vertical-align: top;\n",
       "    }\n",
       "\n",
       "    .dataframe thead th {\n",
       "        text-align: right;\n",
       "    }\n",
       "</style>\n",
       "<table border=\"1\" class=\"dataframe\">\n",
       "  <thead>\n",
       "    <tr style=\"text-align: right;\">\n",
       "      <th></th>\n",
       "      <th>tag_number</th>\n",
       "      <th>species</th>\n",
       "      <th>island</th>\n",
       "      <th>culmen_length_mm</th>\n",
       "      <th>culmen_depth_mm</th>\n",
       "      <th>flipper_length_mm</th>\n",
       "      <th>body_mass_g</th>\n",
       "      <th>sex</th>\n",
       "    </tr>\n",
       "    <tr>\n",
       "      <th>name</th>\n",
       "      <th></th>\n",
       "      <th></th>\n",
       "      <th></th>\n",
       "      <th></th>\n",
       "      <th></th>\n",
       "      <th></th>\n",
       "      <th></th>\n",
       "      <th></th>\n",
       "    </tr>\n",
       "  </thead>\n",
       "  <tbody>\n",
       "    <tr>\n",
       "      <th>Ayden</th>\n",
       "      <td>1157</td>\n",
       "      <td>Adelie Penguin (Pygoscelis adeliae)</td>\n",
       "      <td>Torgersen</td>\n",
       "      <td>NaN</td>\n",
       "      <td>NaN</td>\n",
       "      <td>NaN</td>\n",
       "      <td>NaN</td>\n",
       "      <td>None</td>\n",
       "    </tr>\n",
       "    <tr>\n",
       "      <th>Bentley</th>\n",
       "      <td>1197</td>\n",
       "      <td>Adelie Penguin (Pygoscelis adeliae)</td>\n",
       "      <td>Dream</td>\n",
       "      <td>36.3</td>\n",
       "      <td>18.5</td>\n",
       "      <td>194.0</td>\n",
       "      <td>NaN</td>\n",
       "      <td>MALE</td>\n",
       "    </tr>\n",
       "    <tr>\n",
       "      <th>Isabella</th>\n",
       "      <td>1033</td>\n",
       "      <td>Gentoo penguin (Pygoscelis papua)</td>\n",
       "      <td>Biscoe</td>\n",
       "      <td>NaN</td>\n",
       "      <td>NaN</td>\n",
       "      <td>NaN</td>\n",
       "      <td>NaN</td>\n",
       "      <td>None</td>\n",
       "    </tr>\n",
       "    <tr>\n",
       "      <th>Jesus</th>\n",
       "      <td>1186</td>\n",
       "      <td>Adelie Penguin (Pygoscelis adeliae)</td>\n",
       "      <td>Dream</td>\n",
       "      <td>38.0</td>\n",
       "      <td>17.5</td>\n",
       "      <td>194.0</td>\n",
       "      <td>NaN</td>\n",
       "      <td>FEMALE</td>\n",
       "    </tr>\n",
       "    <tr>\n",
       "      <th>Oliver</th>\n",
       "      <td>1178</td>\n",
       "      <td>Adelie Penguin (Pygoscelis adeliae)</td>\n",
       "      <td>Dream</td>\n",
       "      <td>41.6</td>\n",
       "      <td>20.0</td>\n",
       "      <td>204.0</td>\n",
       "      <td>NaN</td>\n",
       "      <td>MALE</td>\n",
       "    </tr>\n",
       "  </tbody>\n",
       "</table>\n",
       "</div>"
      ],
      "text/plain": [
       "       name  tag_number                              species     island  \\\n",
       "0     Ayden        1157  Adelie Penguin (Pygoscelis adeliae)  Torgersen   \n",
       "1   Bentley        1197  Adelie Penguin (Pygoscelis adeliae)      Dream   \n",
       "2  Isabella        1033    Gentoo penguin (Pygoscelis papua)     Biscoe   \n",
       "3     Jesus        1186  Adelie Penguin (Pygoscelis adeliae)      Dream   \n",
       "4    Oliver        1178  Adelie Penguin (Pygoscelis adeliae)      Dream   \n",
       "\n",
       "   culmen_length_mm  culmen_depth_mm  flipper_length_mm  body_mass_g     sex  \n",
       "0               NaN              NaN                NaN          NaN    None  \n",
       "1              36.3             18.5              194.0          NaN    MALE  \n",
       "2               NaN              NaN                NaN          NaN    None  \n",
       "\n",
       "[5 rows x 9 columns]"
      ]
     },
     "execution_count": 3,
     "metadata": {},
     "output_type": "execute_result"
    }
   ],
   "source": [
    "df[df.body_mass_g.isnull()]"
   ]
  },
  {
   "attachments": {},
   "cell_type": "markdown",
   "id": "a70c2027",
   "metadata": {},
   "source": [
    "Here we see three Adelie penguins \"Bentley\", \"Jesus\", and \"Oliver\" that are missing their weight but have the other measurements. These are the ones we need to guess. We can do this by training a statistical model on the measurements that we do have, and then using it to predict the missing values.\n",
    "\n",
    "Our conservationists warned us that trying to generalize across species is a bad idea, so for now lets just try building a model for Adelie penguins. We can revisit it later and see if including the other observations improves the model performance."
   ]
  },
  {
   "cell_type": "code",
   "execution_count": 4,
   "id": "93ff013a",
   "metadata": {},
   "outputs": [
    {
     "data": {
      "text/html": [
       "<div>\n",
       "<style scoped>\n",
       "    .dataframe tbody tr th:only-of-type {\n",
       "        vertical-align: middle;\n",
       "    }\n",
       "\n",
       "    .dataframe tbody tr th {\n",
       "        vertical-align: top;\n",
       "    }\n",
       "\n",
       "    .dataframe thead th {\n",
       "        text-align: right;\n",
       "    }\n",
       "</style>\n",
       "<table border=\"1\" class=\"dataframe\">\n",
       "  <thead>\n",
       "    <tr style=\"text-align: right;\">\n",
       "      <th></th>\n",
       "      <th>tag_number</th>\n",
       "      <th>species</th>\n",
       "      <th>island</th>\n",
       "      <th>culmen_length_mm</th>\n",
       "      <th>culmen_depth_mm</th>\n",
       "      <th>flipper_length_mm</th>\n",
       "      <th>body_mass_g</th>\n",
       "      <th>sex</th>\n",
       "    </tr>\n",
       "    <tr>\n",
       "      <th>name</th>\n",
       "      <th></th>\n",
       "      <th></th>\n",
       "      <th></th>\n",
       "      <th></th>\n",
       "      <th></th>\n",
       "      <th></th>\n",
       "      <th></th>\n",
       "      <th></th>\n",
       "    </tr>\n",
       "  </thead>\n",
       "  <tbody>\n",
       "    <tr>\n",
       "      <th>Aaliyah</th>\n",
       "      <td>1177</td>\n",
       "      <td>Adelie Penguin (Pygoscelis adeliae)</td>\n",
       "      <td>Biscoe</td>\n",
       "      <td>41.0</td>\n",
       "      <td>20.0</td>\n",
       "      <td>203.0</td>\n",
       "      <td>4725.0</td>\n",
       "      <td>MALE</td>\n",
       "    </tr>\n",
       "    <tr>\n",
       "      <th>Adam</th>\n",
       "      <td>1164</td>\n",
       "      <td>Adelie Penguin (Pygoscelis adeliae)</td>\n",
       "      <td>Torgersen</td>\n",
       "      <td>38.6</td>\n",
       "      <td>17.0</td>\n",
       "      <td>188.0</td>\n",
       "      <td>2900.0</td>\n",
       "      <td>FEMALE</td>\n",
       "    </tr>\n",
       "    <tr>\n",
       "      <th>Aidan</th>\n",
       "      <td>1189</td>\n",
       "      <td>Adelie Penguin (Pygoscelis adeliae)</td>\n",
       "      <td>Dream</td>\n",
       "      <td>40.3</td>\n",
       "      <td>18.5</td>\n",
       "      <td>196.0</td>\n",
       "      <td>4350.0</td>\n",
       "      <td>MALE</td>\n",
       "    </tr>\n",
       "    <tr>\n",
       "      <th>Alejandro</th>\n",
       "      <td>1213</td>\n",
       "      <td>Adelie Penguin (Pygoscelis adeliae)</td>\n",
       "      <td>Biscoe</td>\n",
       "      <td>35.9</td>\n",
       "      <td>19.2</td>\n",
       "      <td>189.0</td>\n",
       "      <td>3800.0</td>\n",
       "      <td>FEMALE</td>\n",
       "    </tr>\n",
       "    <tr>\n",
       "      <th>Alex</th>\n",
       "      <td>1183</td>\n",
       "      <td>Adelie Penguin (Pygoscelis adeliae)</td>\n",
       "      <td>Dream</td>\n",
       "      <td>37.0</td>\n",
       "      <td>16.5</td>\n",
       "      <td>185.0</td>\n",
       "      <td>3400.0</td>\n",
       "      <td>FEMALE</td>\n",
       "    </tr>\n",
       "    <tr>\n",
       "      <th>...</th>\n",
       "      <td>...</td>\n",
       "      <td>...</td>\n",
       "      <td>...</td>\n",
       "      <td>...</td>\n",
       "      <td>...</td>\n",
       "      <td>...</td>\n",
       "      <td>...</td>\n",
       "      <td>...</td>\n",
       "    </tr>\n",
       "    <tr>\n",
       "      <th>Vanessa</th>\n",
       "      <td>1279</td>\n",
       "      <td>Adelie Penguin (Pygoscelis adeliae)</td>\n",
       "      <td>Torgersen</td>\n",
       "      <td>42.9</td>\n",
       "      <td>17.6</td>\n",
       "      <td>196.0</td>\n",
       "      <td>4700.0</td>\n",
       "      <td>MALE</td>\n",
       "    </tr>\n",
       "    <tr>\n",
       "      <th>Victor</th>\n",
       "      <td>1253</td>\n",
       "      <td>Adelie Penguin (Pygoscelis adeliae)</td>\n",
       "      <td>Dream</td>\n",
       "      <td>40.2</td>\n",
       "      <td>17.1</td>\n",
       "      <td>193.0</td>\n",
       "      <td>3400.0</td>\n",
       "      <td>FEMALE</td>\n",
       "    </tr>\n",
       "    <tr>\n",
       "      <th>Vincent</th>\n",
       "      <td>1221</td>\n",
       "      <td>Adelie Penguin (Pygoscelis adeliae)</td>\n",
       "      <td>Biscoe</td>\n",
       "      <td>37.7</td>\n",
       "      <td>18.7</td>\n",
       "      <td>180.0</td>\n",
       "      <td>3600.0</td>\n",
       "      <td>MALE</td>\n",
       "    </tr>\n",
       "    <tr>\n",
       "      <th>Violet</th>\n",
       "      <td>1306</td>\n",
       "      <td>Adelie Penguin (Pygoscelis adeliae)</td>\n",
       "      <td>Torgersen</td>\n",
       "      <td>38.9</td>\n",
       "      <td>17.8</td>\n",
       "      <td>181.0</td>\n",
       "      <td>3625.0</td>\n",
       "      <td>FEMALE</td>\n",
       "    </tr>\n",
       "    <tr>\n",
       "      <th>Zoey</th>\n",
       "      <td>1160</td>\n",
       "      <td>Adelie Penguin (Pygoscelis adeliae)</td>\n",
       "      <td>Torgersen</td>\n",
       "      <td>40.2</td>\n",
       "      <td>17.0</td>\n",
       "      <td>176.0</td>\n",
       "      <td>3450.0</td>\n",
       "      <td>FEMALE</td>\n",
       "    </tr>\n",
       "  </tbody>\n",
       "</table>\n",
       "<p>146 rows × 8 columns</p>\n",
       "</div>"
      ],
      "text/plain": [
       "        name  tag_number                              species     island  \\\n",
       "0    Aaliyah        1177  Adelie Penguin (Pygoscelis adeliae)     Biscoe   \n",
       "1       Adam        1164  Adelie Penguin (Pygoscelis adeliae)  Torgersen   \n",
       "2      Aidan        1189  Adelie Penguin (Pygoscelis adeliae)      Dream   \n",
       "3  Alejandro        1213  Adelie Penguin (Pygoscelis adeliae)     Biscoe   \n",
       "4       Alex        1183  Adelie Penguin (Pygoscelis adeliae)      Dream   \n",
       "5      Alexa        1168  Adelie Penguin (Pygoscelis adeliae)  Torgersen   \n",
       "6  Alexandra        1193  Adelie Penguin (Pygoscelis adeliae)      Dream   \n",
       "7     Andrea        1220  Adelie Penguin (Pygoscelis adeliae)     Biscoe   \n",
       "8   Angelina        1254  Adelie Penguin (Pygoscelis adeliae)      Dream   \n",
       "9  Annabelle        1299  Adelie Penguin (Pygoscelis adeliae)  Torgersen   \n",
       "\n",
       "   culmen_length_mm  culmen_depth_mm  flipper_length_mm  body_mass_g     sex  \n",
       "0              41.0             20.0              203.0       4725.0    MALE  \n",
       "1              38.6             17.0              188.0       2900.0  FEMALE  \n",
       "2              40.3             18.5              196.0       4350.0    MALE  \n",
       "3              35.9             19.2              189.0       3800.0  FEMALE  \n",
       "4              37.0             16.5              185.0       3400.0  FEMALE  \n",
       "5              44.1             18.0              210.0       4000.0    MALE  \n",
       "6              36.0             18.5              186.0       3100.0  FEMALE  \n",
       "7              39.6             17.7              186.0       3500.0  FEMALE  \n",
       "...\n",
       "\n",
       "[146 rows x 9 columns]"
      ]
     },
     "execution_count": 4,
     "metadata": {},
     "output_type": "execute_result"
    }
   ],
   "source": [
    "# get all the rows with adelie penguins\n",
    "adelie_data = df[df.species.str.startswith(\"Adelie\")]\n",
    "\n",
    "# separate out the rows that have a body mass measurement\n",
    "training_data = adelie_data[adelie_data.body_mass_g.notnull()]\n",
    "\n",
    "# we noticed there were also some rows that were missing other values,\n",
    "# lets remove these so they don't affect our results\n",
    "training_data = training_data.dropna()\n",
    "\n",
    "# lets take a quick peek and make sure things look right:\n",
    "training_data"
   ]
  },
  {
   "cell_type": "code",
   "execution_count": 5,
   "id": "d55a39f9",
   "metadata": {},
   "outputs": [
    {
     "data": {
      "text/plain": [
       "tag_number             Int64\n",
       "species               string\n",
       "island                string\n",
       "culmen_length_mm     Float64\n",
       "culmen_depth_mm      Float64\n",
       "flipper_length_mm    Float64\n",
       "body_mass_g          Float64\n",
       "sex                   string\n",
       "dtype: object"
      ]
     },
     "execution_count": 5,
     "metadata": {},
     "output_type": "execute_result"
    }
   ],
   "source": [
    "# we'll look at the schema too:\n",
    "training_data.dtypes"
   ]
  },
  {
   "cell_type": "markdown",
   "id": "59d374b5",
   "metadata": {},
   "source": [
    "Great! Now lets configure a linear regression model to predict body mass from the other columns"
   ]
  },
  {
   "cell_type": "code",
   "execution_count": 6,
   "id": "18c4cecf",
   "metadata": {},
   "outputs": [
    {
     "data": {
      "text/markdown": [
       "BQML linear regression model\n",
       "\n",
       "Not yet fitted"
      ],
      "text/plain": [
       "BQML linear regression model\n",
       "Not yet fitted"
      ]
     },
     "execution_count": 6,
     "metadata": {},
     "output_type": "execute_result"
    }
   ],
   "source": [
    "import bigframes.ml as ml\n",
    "\n",
    "model = ml.LinearRegression()\n",
    "model"
   ]
  },
  {
   "attachments": {},
   "cell_type": "markdown",
   "id": "6e54a1a2",
   "metadata": {},
   "source": [
    "As in SKLearn, an unfitted model object is just a bundle of parameters."
   ]
  },
  {
   "cell_type": "code",
   "execution_count": 7,
   "id": "a2060cf1",
   "metadata": {},
   "outputs": [
    {
     "data": {
      "text/plain": [
       "{'auto_class_weights': None,\n",
       " 'calculate_p_values': None,\n",
       " 'category_encoding_method': None,\n",
       " 'class_weights': None,\n",
       " 'data_split_col': None,\n",
       " 'data_split_eval_fraction': None,\n",
       " 'data_split_method': None,\n",
       " 'early_stop': None,\n",
       " 'enable_global_explain': None,\n",
       " 'fit_intercept': None,\n",
       " 'l1_reg': None,\n",
       " 'l2_reg': None,\n",
       " 'learn_rate': None,\n",
       " 'learn_rate_strategy': None,\n",
       " 'ls_init_learn_rate': None,\n",
       " 'max_iterations': None,\n",
       " 'min_rel_progress': None,\n",
       " 'optimize_strategy': None,\n",
       " 'warm_start': None}"
      ]
     },
     "execution_count": 7,
     "metadata": {},
     "output_type": "execute_result"
    }
   ],
   "source": [
    "# lets view the parameters\n",
    "model.get_params()"
   ]
  },
  {
   "attachments": {},
   "cell_type": "markdown",
   "id": "8e25fe41",
   "metadata": {},
   "source": [
    "For this task, really all the default options are fine. But just so we can see how configuration works, lets specify that we want to use gradient descent to find the solution:"
   ]
  },
  {
   "cell_type": "code",
   "execution_count": 8,
   "id": "327e2232",
   "metadata": {},
   "outputs": [
    {
     "data": {
      "text/markdown": [
       "BQML linear regression model\n",
       "\n",
       "optimize_strategy: BATCH_GRADIENT_DESCENT\n",
       "\n",
       "Not yet fitted"
      ],
      "text/plain": [
       "BQML linear regression model\n",
       "optimize_strategy: BATCH_GRADIENT_DESCENT\n",
       "Not yet fitted"
      ]
     },
     "execution_count": 8,
     "metadata": {},
     "output_type": "execute_result"
    }
   ],
   "source": [
    "model.optimize_strategy = \"BATCH_GRADIENT_DESCENT\"\n",
    "model"
   ]
  },
  {
   "attachments": {},
   "cell_type": "markdown",
   "id": "2c2e0835",
   "metadata": {},
   "source": [
    "BigQuery models provide a couple of extra conveniences:\n",
    "\n",
    "1. By default, they will automatically perform feature engineering on the inputs - encoding our string columns and scaling our numeric columns.\n",
    "2. By default, they will also automatically manage the test/training data split for us.\n",
    "\n",
    "So all we need to do is hook our chosen feature and label columns into the model and call .fit()!"
   ]
  },
  {
   "cell_type": "code",
   "execution_count": 9,
   "id": "085c9a99",
   "metadata": {},
   "outputs": [
    {
     "data": {
      "text/markdown": [
       "BQML linear regression model\n",
       "\n",
       "optimize_strategy: BATCH_GRADIENT_DESCENT\n",
       "\n",
       "Fitted: [_5d43055eacdc4edbad25851a3a083d71._a43deb1c-40db-4965-9d79-85a5e53e7a01](https://console.cloud.google.com/bigquery?project=bigframes-dev)"
      ],
      "text/plain": [
       "BQML linear regression model\n",
       "optimize_strategy: BATCH_GRADIENT_DESCENT\n",
       "Fitted: _5d43055eacdc4edbad25851a3a083d71._a43deb1c-40db-4965-9d79-85a5e53e7a01"
      ]
     },
     "execution_count": 9,
     "metadata": {},
     "output_type": "execute_result"
    }
   ],
   "source": [
    "train_x = training_data[['island', 'culmen_length_mm', 'culmen_depth_mm', 'flipper_length_mm', 'sex']]\n",
    "train_y = training_data[['body_mass_g']]\n",
    "model.fit(train_x, train_y)\n",
    "model"
   ]
  },
  {
   "attachments": {},
   "cell_type": "markdown",
   "id": "9e76e10c",
   "metadata": {},
   "source": [
    "...and there, we've successfully trained a linear regressor model. Lets see how it performs, using the automatic data split:"
   ]
  },
  {
   "cell_type": "code",
   "execution_count": 10,
   "id": "c9458c02",
   "metadata": {},
   "outputs": [
    {
     "data": {
      "text/plain": [
       "mean_absolute_error         222.885846\n",
       "mean_squared_error        79645.032886\n",
       "mean_squared_log_error        0.005656\n",
       "median_absolute_error       169.966814\n",
       "r2_score                      0.618726\n",
       "explained_variance            0.620046\n",
       "dtype: float64"
      ]
     },
     "execution_count": 10,
     "metadata": {},
     "output_type": "execute_result"
    }
   ],
   "source": [
    "model.evaluate()"
   ]
  },
  {
   "attachments": {},
   "cell_type": "markdown",
   "id": "f0b39603",
   "metadata": {},
   "source": [
    "Great! The model seems useful, predicting 62% of the variance.\n",
    "\n",
    "We realize we made a mistake though - we're trying to predict mass using a linear model, mass will increase with the cube of the penguin's size, whereas our inputs are linear with size. Can we improve our model by cubing them?"
   ]
  },
  {
   "cell_type": "code",
   "execution_count": null,
   "id": "b94eddc7",
   "metadata": {},
   "outputs": [],
   "source": [
    "# SKIP THIS STEP (not yet work working in BigFrames)\n",
    "\n",
    "# lets define a preprocessing step that adjust the linear measurements to use the cube\n",
    "'''\n",
    "def cubify(penguin_df):\n",
    "    penguin_df.culmen_length_mm = train_x.culmen_length_mm.pow(3)\n",
    "    penguin_df.culmen_depth_mm = train_x.culmen_depth_mm.pow(3)\n",
    "    penguin_df.flipper_length_mm = train_x.flipper_length_mm.pow(3)\n",
    "\n",
    "cubify(train_x)\n",
    "train_x\n",
    "'''"
   ]
  },
  {
   "cell_type": "code",
   "execution_count": null,
   "id": "1b0e3f02",
   "metadata": {},
   "outputs": [],
   "source": [
    "# AS ABOVE, SKIP FOR NOW\n",
    "'''\n",
    "model.fit(train_x, train_y)\n",
    "model.evaluate()\n",
    "'''"
   ]
  },
  {
   "attachments": {},
   "cell_type": "markdown",
   "id": "45c5e755",
   "metadata": {},
   "source": [
    "Now that we're satisfied with our model, lets see what it predicts for those Adelie penguins with no body mass measurement:"
   ]
  },
  {
   "cell_type": "code",
   "execution_count": 11,
   "id": "f21ebc1f",
   "metadata": {},
   "outputs": [
    {
     "data": {
      "text/html": [
       "<div>\n",
       "<style scoped>\n",
       "    .dataframe tbody tr th:only-of-type {\n",
       "        vertical-align: middle;\n",
       "    }\n",
       "\n",
       "    .dataframe tbody tr th {\n",
       "        vertical-align: top;\n",
       "    }\n",
       "\n",
       "    .dataframe thead th {\n",
       "        text-align: right;\n",
       "    }\n",
       "</style>\n",
       "<table border=\"1\" class=\"dataframe\">\n",
       "  <thead>\n",
       "    <tr style=\"text-align: right;\">\n",
       "      <th></th>\n",
       "      <th>predicted_body_mass_g</th>\n",
       "    </tr>\n",
       "    <tr>\n",
       "      <th>name</th>\n",
       "      <th></th>\n",
       "    </tr>\n",
       "  </thead>\n",
       "  <tbody>\n",
       "    <tr>\n",
       "      <th>Oliver</th>\n",
       "      <td>4305.620607</td>\n",
       "    </tr>\n",
       "    <tr>\n",
       "      <th>Bentley</th>\n",
       "      <td>3877.167499</td>\n",
       "    </tr>\n",
       "    <tr>\n",
       "      <th>Jesus</th>\n",
       "      <td>3477.661804</td>\n",
       "    </tr>\n",
       "    <tr>\n",
       "      <th>Ayden</th>\n",
       "      <td>2430.849117</td>\n",
       "    </tr>\n",
       "  </tbody>\n",
       "</table>\n",
       "</div>"
      ],
      "text/plain": [
       "      name  predicted_body_mass_g\n",
       "0   Oliver            4305.620607\n",
       "1  Bentley            3877.167499\n",
       "\n",
       "[4 rows x 2 columns]"
      ]
     },
     "execution_count": 11,
     "metadata": {},
     "output_type": "execute_result"
    }
   ],
   "source": [
    "# Lets predict the missing observations\n",
    "missing_body_mass = adelie_data[adelie_data.body_mass_g.isnull()]\n",
    "\n",
    "model.predict(missing_body_mass)"
   ]
  },
  {
   "attachments": {},
   "cell_type": "markdown",
   "id": "e66bd0b0",
   "metadata": {},
   "source": [
    "Because we created it without a name, it was just a temporary model that will disappear after 24 hours. \n",
    "\n",
    "We decide that this approach is promising, so lets tell BigQuery to save it."
   ]
  },
  {
   "cell_type": "code",
   "execution_count": 12,
   "id": "c508691b",
   "metadata": {},
   "outputs": [
    {
     "data": {
      "text/markdown": [
       "BQML linear regression model\n",
       "\n",
       "optimize_strategy: BATCH_GRADIENT_DESCENT\n",
       "\n",
       "Fitted: [bqml_tutorial.penguins_model](https://console.cloud.google.com/bigquery?project=bigframes-dev)"
      ],
      "text/plain": [
       "BQML linear regression model\n",
       "optimize_strategy: BATCH_GRADIENT_DESCENT\n",
       "Fitted: bqml_tutorial.penguins_model"
      ]
     },
     "execution_count": 12,
     "metadata": {},
     "output_type": "execute_result"
    }
   ],
   "source": [
    "model.to_gbq(\"bqml_tutorial.penguins_model\", replace=True)\n",
    "model"
   ]
  },
  {
   "attachments": {},
   "cell_type": "markdown",
   "id": "46abef08",
   "metadata": {},
   "source": [
    "We can now use this model anywhere in BigQuery with this name. We can also load it again in our BigFrames session and evaluate or inference it without needing to retrain it:"
   ]
  },
  {
   "cell_type": "code",
   "execution_count": 13,
   "id": "0c87e972",
   "metadata": {},
   "outputs": [
    {
     "data": {
      "text/markdown": [
       "BQML linear regression model\n",
       "\n",
       "optimize_strategy: BATCH_GRADIENT_DESCENT\n",
       "\n",
       "Fitted: [bigframes-dev.bqml_tutorial.penguins_model](https://console.cloud.google.com/bigquery?project=bigframes-dev)"
      ],
      "text/plain": [
       "BQML linear regression model\n",
       "optimize_strategy: BATCH_GRADIENT_DESCENT\n",
       "Fitted: bigframes-dev.bqml_tutorial.penguins_model"
      ]
     },
     "execution_count": 13,
     "metadata": {},
     "output_type": "execute_result"
    }
   ],
   "source": [
    "model = session.read_gbq(\"bqml_tutorial.penguins_model\")\n",
    "model"
   ]
  },
  {
   "attachments": {},
   "cell_type": "markdown",
   "id": "d6ab8def",
   "metadata": {},
   "source": [
    "And of course we can retrain it if we like. Lets make another version that is based on all the penguins, so we can test that assumption we made at the beginning that it would be best to separate them:"
   ]
  },
  {
   "cell_type": "code",
   "execution_count": 14,
   "id": "f4960452",
   "metadata": {},
   "outputs": [
    {
     "data": {
      "text/plain": [
       "mean_absolute_error         244.218173\n",
       "mean_squared_error        92113.963273\n",
       "mean_squared_log_error        0.006737\n",
       "median_absolute_error       206.081168\n",
       "r2_score                      0.559035\n",
       "explained_variance            0.559944\n",
       "dtype: float64"
      ]
     },
     "execution_count": 14,
     "metadata": {},
     "output_type": "execute_result"
    }
   ],
   "source": [
    "# This time we'll take all the training data, for all species\n",
    "training_data = df[df.body_mass_g.notnull()]\n",
    "training_data = training_data.dropna()\n",
    "\n",
    "# And we'll include species in our features\n",
    "train_x = training_data[['species', 'island', 'culmen_length_mm', 'culmen_depth_mm', 'flipper_length_mm', 'sex']]\n",
    "train_y = training_data[['body_mass_g']]\n",
    "model.fit(train_x, train_y)\n",
    "\n",
    "# And we'll evaluate it on the Adelie penguins only\n",
    "adelie_data = training_data[training_data.species.str.startswith(\"Adelie\")]\n",
    "test_x = adelie_data[['species', 'island', 'culmen_length_mm', 'culmen_depth_mm', 'flipper_length_mm', 'sex']]\n",
    "test_y = adelie_data[['body_mass_g']]\n",
    "model.evaluate(test_x, test_y)"
   ]
  },
  {
   "attachments": {},
   "cell_type": "markdown",
   "id": "7d101140",
   "metadata": {},
   "source": [
    "It looks like the conservationists were right! Including other species, even though it gave us more training data, worsened prediction on the Adelie penguins."
   ]
  },
  {
   "attachments": {},
   "cell_type": "markdown",
   "id": "7f3fe50d",
   "metadata": {},
   "source": [
    "===============================================\n",
    "\n",
    "**Everything below this line not yet implemented**"
   ]
  },
  {
   "attachments": {},
   "cell_type": "markdown",
   "id": "62577c72",
   "metadata": {},
   "source": [
    "We want to productionalize this model, so lets start publishing it to the vertex model registry ([prerequisites](https://cloud.google.com/bigquery-ml/docs/managing-models-vertex#prerequisites))"
   ]
  },
  {
   "cell_type": "code",
   "execution_count": null,
   "id": "b82e79ee",
   "metadata": {},
   "outputs": [],
   "source": [
    "model.publish(\n",
    "    registry=\"vertex_ai\",\n",
    "    vertex_ai_model_version_aliases=[\"experimental\"])"
   ]
  },
  {
   "cell_type": "markdown",
   "id": "69d2482c",
   "metadata": {},
   "source": [
    "Now when we fit the model, we can see it published here: https://console.cloud.google.com/vertex-ai/models"
   ]
  },
  {
   "attachments": {},
   "cell_type": "markdown",
   "id": "b97d9b64",
   "metadata": {},
   "source": [
    "# Custom feature engineering"
   ]
  },
  {
   "attachments": {},
   "cell_type": "markdown",
   "id": "c837ace9",
   "metadata": {},
   "source": [
    "So far, we've relied on BigQuery to do our feature engineering for us. What if we want to do it manually?\n",
    "\n",
    "BigFrames provides a way to do this using Pipelines."
   ]
  },
  {
   "cell_type": "code",
   "execution_count": null,
   "id": "480cb12f",
   "metadata": {},
   "outputs": [],
   "source": [
    "from bigframes.ml.pipeline import Pipeline\n",
    "from bigframes.ml.preprocessing import StandardScaler\n",
    "\n",
    "pipe = Pipeline([\n",
    "    ('scaler', StandardScaler()),\n",
    "    ('linreg', LinearRegression())\n",
    "])\n",
    "\n",
    "pipe.fit(train_x, train_y)\n",
    "pipe.evaluate()"
   ]
  },
  {
   "attachments": {},
   "cell_type": "markdown",
   "id": "9a0e7d19",
   "metadata": {},
   "source": [
    "We then can then save the entire pipeline to BigQuery, BigQuery will save this as a single model, with the pre-processing steps embedded in the TRANSFORM property:"
   ]
  },
  {
   "cell_type": "code",
   "execution_count": null,
   "id": "0d1831ed",
   "metadata": {},
   "outputs": [],
   "source": [
    "pipe.to_gbq(\"bqml_tutorial.penguins_pipeline\")"
   ]
  },
  {
   "attachments": {},
   "cell_type": "markdown",
   "id": "f6b60898",
   "metadata": {},
   "source": [
    "# Custom data split"
   ]
  },
  {
   "attachments": {},
   "cell_type": "markdown",
   "id": "60ac0174",
   "metadata": {},
   "source": [
    "BigQuery has also managed splitting out our training data. What if we want to do this manually?\n",
    "\n",
    "*TODO: Write this section*"
   ]
  }
 ],
 "metadata": {
  "kernelspec": {
   "display_name": "venv",
   "language": "python",
   "name": "python3"
  },
  "language_info": {
   "codemirror_mode": {
    "name": "ipython",
    "version": 3
   },
   "file_extension": ".py",
   "mimetype": "text/x-python",
   "name": "python",
   "nbconvert_exporter": "python",
   "pygments_lexer": "ipython3",
   "version": "3.10.9"
  },
  "vscode": {
   "interpreter": {
    "hash": "a850322d07d9bdc9ec5f301d307e048bcab2390ae395e1cbce9335f4e081e5e2"
   }
  }
 },
 "nbformat": 4,
 "nbformat_minor": 5
}
