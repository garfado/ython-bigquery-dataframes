{
 "cells": [
  {
   "attachments": {},
   "cell_type": "markdown",
   "metadata": {},
   "source": [
    "# Using ML - Easy linear regression\n",
    "\n",
    "This demo shows BigFrame's ML API providing an SKLearn-like experience for training a linear regression model.\n",
    "\n",
    "In this \"easy\" version of linear regression, we use a couple of BQML features to simplify our code:\n",
    "\n",
    "- We rely on automatic preprocessing to encode string values and scale numeric values\n",
    "- We rely on automatic data split & evaluation to test the model\n",
    "\n",
    "This example is adapted from the [BQML linear regression tutorial](https://cloud.google.com/bigquery-ml/docs/linear-regression-tutorial)."
   ]
  },
  {
   "attachments": {},
   "cell_type": "markdown",
   "metadata": {},
   "source": [
    "## 1. Init & load data"
   ]
  },
  {
   "cell_type": "code",
   "execution_count": 1,
   "metadata": {},
   "outputs": [
    {
     "data": {
      "text/plain": [
       "     tag_number                                    species     island  \\\n",
       "136        1228        Adelie Penguin (Pygoscelis adeliae)     Biscoe   \n",
       "144        1295        Adelie Penguin (Pygoscelis adeliae)     Biscoe   \n",
       "167        1200        Adelie Penguin (Pygoscelis adeliae)      Dream   \n",
       "199        1398        Adelie Penguin (Pygoscelis adeliae)  Torgersen   \n",
       "227        1137        Adelie Penguin (Pygoscelis adeliae)      Dream   \n",
       "251        1304        Adelie Penguin (Pygoscelis adeliae)     Biscoe   \n",
       "264        1374        Adelie Penguin (Pygoscelis adeliae)     Biscoe   \n",
       "316        1167  Chinstrap penguin (Pygoscelis antarctica)      Dream   \n",
       "42         1360          Gentoo penguin (Pygoscelis papua)     Biscoe   \n",
       "78         1339          Gentoo penguin (Pygoscelis papua)     Biscoe   \n",
       "\n",
       "     culmen_length_mm  culmen_depth_mm  flipper_length_mm  body_mass_g     sex  \n",
       "136              41.6             18.0              192.0       3950.0    MALE  \n",
       "144              41.0             20.0              203.0       4725.0    MALE  \n",
       "167              36.3             19.5              190.0       3800.0    MALE  \n",
       "199              35.1             19.4              193.0       4200.0    MALE  \n",
       "227              39.6             18.1              186.0       4450.0    MALE  \n",
       "251              37.9             18.6              172.0       3150.0  FEMALE  \n",
       "264              45.6             20.3              191.0       4600.0    MALE  \n",
       "316              49.3             19.9              203.0       4050.0    MALE  \n",
       "42               48.7             15.1              222.0       5350.0    MALE  \n",
       "78               49.9             16.1              213.0       5400.0    MALE  \n",
       "...\n",
       "\n",
       "[347 rows x 8 columns]"
      ]
     },
     "execution_count": 1,
     "metadata": {},
     "output_type": "execute_result"
    }
   ],
   "source": [
    "# initialize BigFrames\n",
    "import bigframes\n",
    "session = bigframes.connect()\n",
    "\n",
    "# read a BigQuery table to a BigFrames dataframe\n",
    "df = session.read_gbq(\"bigframes-dev.bqml_tutorial.penguins\")\n",
    "\n",
    "# take a peek at the dataframe\n",
    "df"
   ]
  },
  {
   "attachments": {},
   "cell_type": "markdown",
   "metadata": {},
   "source": [
    "## 2. Data cleaning / prep"
   ]
  },
  {
   "cell_type": "code",
   "execution_count": 2,
   "metadata": {},
   "outputs": [
    {
     "data": {
      "text/plain": [
       "           island  culmen_length_mm  culmen_depth_mm  flipper_length_mm  \\\n",
       "tag_number                                                                \n",
       "1101        Dream              36.6             18.4              184.0   \n",
       "1102        Dream              39.8             19.1              184.0   \n",
       "1103        Dream              40.9             18.9              184.0   \n",
       "1105        Dream              37.3             16.8              192.0   \n",
       "1106        Dream              43.2             18.5              192.0   \n",
       "1110        Dream              40.2             20.1              200.0   \n",
       "1111        Dream              40.8             18.9              208.0   \n",
       "1112        Dream              39.0             18.7              185.0   \n",
       "1113        Dream              37.0             16.9              185.0   \n",
       "1115        Dream              34.0             17.1              185.0   \n",
       "\n",
       "            body_mass_g     sex  \n",
       "tag_number                       \n",
       "1101             3475.0  FEMALE  \n",
       "1102             4650.0    MALE  \n",
       "1103             3900.0    MALE  \n",
       "1105             3000.0  FEMALE  \n",
       "1106             4100.0    MALE  \n",
       "1110             3975.0    MALE  \n",
       "1111             4300.0    MALE  \n",
       "1112             3650.0    MALE  \n",
       "1113             3000.0  FEMALE  \n",
       "1115             3400.0  FEMALE  \n",
       "...\n",
       "\n",
       "[146 rows x 6 columns]"
      ]
     },
     "execution_count": 2,
     "metadata": {},
     "output_type": "execute_result"
    }
   ],
   "source": [
    "# set a friendlier index to uniquely identify the rows\n",
    "df = df.set_index(\"tag_number\")\n",
    "\n",
    "# filter down to the data we want to analyze\n",
    "adelie_data = df[df.species == \"Adelie Penguin (Pygoscelis adeliae)\"]\n",
    "\n",
    "# drop the columns we don't care about\n",
    "adelie_data = adelie_data.drop(columns=[\"species\"])\n",
    "\n",
    "# drop rows with nulls to get our training data\n",
    "training_data = adelie_data.dropna()\n",
    "\n",
    "# take a peek at the training data\n",
    "training_data"
   ]
  },
  {
   "cell_type": "code",
   "execution_count": 3,
   "metadata": {},
   "outputs": [],
   "source": [
    "# pick feature columns and label column\n",
    "feature_columns = training_data[['island', 'culmen_length_mm', 'culmen_depth_mm', 'flipper_length_mm', 'sex']]\n",
    "label_columns = training_data[['body_mass_g']]                               \n",
    "\n",
    "# also get the rows that we want to make predictions for (i.e. where the feature column is null)\n",
    "missing_body_mass = adelie_data[adelie_data.body_mass_g.isnull()]"
   ]
  },
  {
   "attachments": {},
   "cell_type": "markdown",
   "metadata": {},
   "source": [
    "## 3. Create, score, fit, predict"
   ]
  },
  {
   "cell_type": "code",
   "execution_count": 4,
   "metadata": {},
   "outputs": [],
   "source": [
    "from bigframes.ml.linear_model import LinearRegression\n",
    "\n",
    "# as in scikit-learn, a newly created model is just a bundle of parameters\n",
    "# default parameters are fine here\n",
    "model = LinearRegression(data_split_method=\"AUTO_SPLIT\")\n",
    "\n",
    "# this will train a temporary model in BQML\n",
    "model.fit(feature_columns, label_columns)"
   ]
  },
  {
   "cell_type": "code",
   "execution_count": 5,
   "metadata": {},
   "outputs": [
    {
     "data": {
      "text/plain": [
       "   mean_absolute_error  mean_squared_error  mean_squared_log_error  \\\n",
       "0           223.878763        78553.601634                0.005614   \n",
       "\n",
       "   median_absolute_error  r2_score  explained_variance  \n",
       "0             181.330911  0.623951            0.623951  \n",
       "\n",
       "[1 rows x 6 columns]"
      ]
     },
     "execution_count": 5,
     "metadata": {},
     "output_type": "execute_result"
    }
   ],
   "source": [
    "# check how the model performed, using the automatic test/training data split chosen by BQML\n",
    "model.score()"
   ]
  },
  {
   "cell_type": "code",
   "execution_count": 6,
   "metadata": {},
   "outputs": [
    {
     "data": {
      "text/plain": [
       "                predicted_body_mass_g\n",
       "tag_number_z_z                       \n",
       "1393                      3459.735118\n",
       "1524                      4304.175638\n",
       "1523                      3471.668379\n",
       "1525                      3947.881639\n",
       "\n",
       "[4 rows x 1 columns]"
      ]
     },
     "execution_count": 6,
     "metadata": {},
     "output_type": "execute_result"
    }
   ],
   "source": [
    "# use the model to predict the missing labels\n",
    "model.predict(missing_body_mass)"
   ]
  },
  {
   "attachments": {},
   "cell_type": "markdown",
   "metadata": {},
   "source": [
    "## 4. Save in BigQuery"
   ]
  },
  {
   "cell_type": "code",
   "execution_count": 7,
   "metadata": {},
   "outputs": [
    {
     "data": {
      "text/plain": [
       "I can't beleive it's not SKLearn!"
      ]
     },
     "execution_count": 7,
     "metadata": {},
     "output_type": "execute_result"
    }
   ],
   "source": [
    "# save the model to a permanent location in BigQuery, so we can use it in future sessions (and elsewhere in BQ)\n",
    "model.to_gbq(\"bqml_tutorial.penguins_model\", replace=True)"
   ]
  }
 ],
 "metadata": {
  "kernelspec": {
   "display_name": "venv",
   "language": "python",
   "name": "python3"
  },
  "language_info": {
   "codemirror_mode": {
    "name": "ipython",
    "version": 3
   },
   "file_extension": ".py",
   "mimetype": "text/x-python",
   "name": "python",
   "nbconvert_exporter": "python",
   "pygments_lexer": "ipython3",
   "version": "3.10.9"
  },
  "orig_nbformat": 4,
  "vscode": {
   "interpreter": {
    "hash": "a850322d07d9bdc9ec5f301d307e048bcab2390ae395e1cbce9335f4e081e5e2"
   }
  }
 },
 "nbformat": 4,
 "nbformat_minor": 2
}
