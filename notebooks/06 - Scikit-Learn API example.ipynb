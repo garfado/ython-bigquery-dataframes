{
 "cells": [
  {
   "attachments": {},
   "cell_type": "markdown",
   "metadata": {},
   "source": [
    "# Scikit-Learn API example\n",
    "\n",
    "This demo shows how we can implement the same Linear Regression demo as in `03 - Linear Regression.ipynb` using exactly compatible Scikit-Learn API."
   ]
  },
  {
   "attachments": {},
   "cell_type": "markdown",
   "metadata": {},
   "source": [
    "## 1. Init & load data"
   ]
  },
  {
   "cell_type": "code",
   "execution_count": 4,
   "metadata": {},
   "outputs": [
    {
     "data": {
      "text/plain": [
       "     tag_number                                    species     island  \\\n",
       "41         1256          Gentoo penguin (Pygoscelis papua)     Biscoe   \n",
       "73         1289          Gentoo penguin (Pygoscelis papua)     Biscoe   \n",
       "75         1382          Gentoo penguin (Pygoscelis papua)     Biscoe   \n",
       "93         1318          Gentoo penguin (Pygoscelis papua)     Biscoe   \n",
       "125        1172        Adelie Penguin (Pygoscelis adeliae)      Dream   \n",
       "236        1411        Adelie Penguin (Pygoscelis adeliae)  Torgersen   \n",
       "294        1189  Chinstrap penguin (Pygoscelis antarctica)      Dream   \n",
       "299        1151  Chinstrap penguin (Pygoscelis antarctica)      Dream   \n",
       "312        1161  Chinstrap penguin (Pygoscelis antarctica)      Dream   \n",
       "37         1297          Gentoo penguin (Pygoscelis papua)     Biscoe   \n",
       "\n",
       "     culmen_length_mm  culmen_depth_mm  flipper_length_mm  body_mass_g     sex  \n",
       "41               48.1             15.1              209.0       5500.0    MALE  \n",
       "73               50.8             15.7              226.0       5200.0    MALE  \n",
       "75               46.8             16.1              215.0       5500.0    MALE  \n",
       "93               50.0             15.3              220.0       5550.0    MALE  \n",
       "125              32.1             15.5              188.0       3050.0  FEMALE  \n",
       "236              42.1             19.1              195.0       4000.0    MALE  \n",
       "294              51.3             18.2              197.0       3750.0    MALE  \n",
       "299              42.5             16.7              187.0       3350.0  FEMALE  \n",
       "312              46.7             17.9              195.0       3300.0  FEMALE  \n",
       "37               45.4             14.6              211.0       4800.0  FEMALE  \n",
       "...\n",
       "\n",
       "[347 rows x 8 columns]"
      ]
     },
     "execution_count": 4,
     "metadata": {},
     "output_type": "execute_result"
    }
   ],
   "source": [
    "# initialize BigFrames\n",
    "import bigframes\n",
    "session = bigframes.connect()\n",
    "\n",
    "# read a BigQuery table to a BigFrames dataframe\n",
    "df = session.read_gbq(\"bigframes-dev.bqml_tutorial.penguins\")\n",
    "\n",
    "# take a peek at the dataframe\n",
    "df"
   ]
  },
  {
   "attachments": {},
   "cell_type": "markdown",
   "metadata": {},
   "source": [
    "## 2. Data cleaning / prep"
   ]
  },
  {
   "cell_type": "code",
   "execution_count": 5,
   "metadata": {},
   "outputs": [
    {
     "data": {
      "text/plain": [
       "           island  culmen_length_mm  culmen_depth_mm  flipper_length_mm  \\\n",
       "tag_number                                                                \n",
       "1101        Dream              36.6             18.4              184.0   \n",
       "1102        Dream              39.8             19.1              184.0   \n",
       "1103        Dream              40.9             18.9              184.0   \n",
       "1105        Dream              37.3             16.8              192.0   \n",
       "1106        Dream              43.2             18.5              192.0   \n",
       "1110        Dream              40.2             20.1              200.0   \n",
       "1111        Dream              40.8             18.9              208.0   \n",
       "1112        Dream              39.0             18.7              185.0   \n",
       "1113        Dream              37.0             16.9              185.0   \n",
       "1115        Dream              34.0             17.1              185.0   \n",
       "\n",
       "            body_mass_g     sex  \n",
       "tag_number                       \n",
       "1101             3475.0  FEMALE  \n",
       "1102             4650.0    MALE  \n",
       "1103             3900.0    MALE  \n",
       "1105             3000.0  FEMALE  \n",
       "1106             4100.0    MALE  \n",
       "1110             3975.0    MALE  \n",
       "1111             4300.0    MALE  \n",
       "1112             3650.0    MALE  \n",
       "1113             3000.0  FEMALE  \n",
       "1115             3400.0  FEMALE  \n",
       "...\n",
       "\n",
       "[146 rows x 6 columns]"
      ]
     },
     "execution_count": 5,
     "metadata": {},
     "output_type": "execute_result"
    }
   ],
   "source": [
    "# set a friendlier index to uniquely identify the rows\n",
    "df = df.set_index(\"tag_number\")\n",
    "\n",
    "# filter down to the data we want to analyze\n",
    "adelie_data = df[df.species == \"Adelie Penguin (Pygoscelis adeliae)\"]\n",
    "\n",
    "# drop the columns we don't care about\n",
    "adelie_data = adelie_data.drop([\"species\"])\n",
    "\n",
    "# drop rows with nulls to get our training data\n",
    "training_data = adelie_data.dropna()\n",
    "\n",
    "# take a peek at the training data\n",
    "training_data"
   ]
  },
  {
   "cell_type": "code",
   "execution_count": 6,
   "metadata": {},
   "outputs": [],
   "source": [
    "# pick feature columns and label column\n",
    "feature_columns = training_data[['island', 'culmen_length_mm', 'culmen_depth_mm', 'flipper_length_mm', 'sex']]\n",
    "label_columns = training_data[['body_mass_g']]                               \n",
    "\n",
    "# also get the rows that we want to make predictions for (i.e. where the feature column is null)\n",
    "missing_body_mass = adelie_data[adelie_data.body_mass_g.isnull()]"
   ]
  },
  {
   "attachments": {},
   "cell_type": "markdown",
   "metadata": {},
   "source": [
    "## 3. Create, fit, score and inference the model - this time with manual preprocessing and data split\n",
    "\n",
    "In the original version of this demo, we used BQML's automatic preprocessing and automatic test/train data split.\n",
    "\n",
    "Here, we instead specify these steps manually, as is the norm in Scikit-Learn."
   ]
  },
  {
   "cell_type": "code",
   "execution_count": 9,
   "metadata": {},
   "outputs": [
    {
     "data": {
      "text/plain": [
       "                predicted_body_mass_g\n",
       "tag_number_z_z                       \n",
       "1525                      3853.343683\n",
       "1393                      2435.813817\n",
       "1524                      4310.513425\n",
       "1523                      3480.749595\n",
       "\n",
       "[4 rows x 1 columns]"
      ]
     },
     "execution_count": 9,
     "metadata": {},
     "output_type": "execute_result"
    }
   ],
   "source": [
    "from bigframes.ml.linear_model import LinearRegression\n",
    "from bigframes.ml.pipeline import Pipeline\n",
    "from bigframes.ml.compose import ColumnTransformer\n",
    "from bigframes.ml.model_selection import train_test_split\n",
    "from bigframes.ml.preprocessing import StandardScaler, OneHotEncoder\n",
    "# from bigframes.ml.metrics import r2_score\n",
    "\n",
    "preprocessing = ColumnTransformer([\n",
    "  (\"onehot\", OneHotEncoder(), [\"island\", \"species\", \"sex\"]),\n",
    "  (\"scaler\", StandardScaler(), [\"culmen_depth_mm\", \"culmen_length_mm\", \"flipper_length_mm\"]),\n",
    "])\n",
    "\n",
    "# TODO(bmil): need to disable auto preproc and auto test split by default\n",
    "model = LinearRegression()\n",
    "\n",
    "pipeline = Pipeline([\n",
    "  ('preproc', preprocessing),\n",
    "  ('linreg', model)\n",
    "])\n",
    "\n",
    "train_X, test_X, train_y, test_y = train_test_split(\n",
    "  feature_columns, label_columns, test_size=0.2)\n",
    "\n",
    "# this will train a temporary model in BQML\n",
    "pipeline.fit(train_X, train_y)\n",
    "\n",
    "# score test data\n",
    "# TODO(bmil): Implement r2_score\n",
    "# pred_y = model.predict(test_X)\n",
    "# r2_score(test_y, pred_y)\n",
    "\n",
    "# use the model to make predictions\n",
    "pipeline.predict(missing_body_mass)\n"
   ]
  },
  {
   "attachments": {},
   "cell_type": "markdown",
   "metadata": {},
   "source": [
    "## 4. Save in BigQuery"
   ]
  },
  {
   "cell_type": "code",
   "execution_count": null,
   "metadata": {},
   "outputs": [],
   "source": [
    "# TODO(bmil): implement Pipeline.to_gbq"
   ]
  }
 ],
 "metadata": {
  "kernelspec": {
   "display_name": "venv",
   "language": "python",
   "name": "python3"
  },
  "language_info": {
   "codemirror_mode": {
    "name": "ipython",
    "version": 3
   },
   "file_extension": ".py",
   "mimetype": "text/x-python",
   "name": "python",
   "nbconvert_exporter": "python",
   "pygments_lexer": "ipython3",
   "version": "3.10.9"
  },
  "orig_nbformat": 4,
  "vscode": {
   "interpreter": {
    "hash": "a850322d07d9bdc9ec5f301d307e048bcab2390ae395e1cbce9335f4e081e5e2"
   }
  }
 },
 "nbformat": 4,
 "nbformat_minor": 2
}
