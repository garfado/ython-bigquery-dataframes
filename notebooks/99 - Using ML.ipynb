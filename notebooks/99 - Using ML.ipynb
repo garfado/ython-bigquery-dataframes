{
 "cells": [
  {
   "cell_type": "markdown",
   "id": "71fbfc47",
   "metadata": {},
   "source": [
    "# Linear regression tutorial\n",
    "\n",
    "WIP: adapt the BQML penguin weight tutorial to BigFrames https://cloud.google.com/bigquery-ml/docs/linear-regression-tutorial\n",
    "\n",
    "This is an exploration for how a minimal combination of BQML and SKLearn style might work."
   ]
  },
  {
   "cell_type": "code",
   "execution_count": 1,
   "id": "d7a03de2-c0ef-4f80-9cd5-f96e87cf2d54",
   "metadata": {
    "tags": []
   },
   "outputs": [],
   "source": [
    "import bigframes\n",
    "\n",
    "session = bigframes.connect()"
   ]
  },
  {
   "cell_type": "markdown",
   "id": "f95fda6a",
   "metadata": {},
   "source": [
    "Lets load the table containing our source data"
   ]
  },
  {
   "cell_type": "code",
   "execution_count": 2,
   "id": "941cb6c3-8c54-42ce-a945-4fa604176b2e",
   "metadata": {
    "tags": []
   },
   "outputs": [],
   "source": [
    "df = session.read_gbq(\"bigquery-public-data.ml_datasets.penguins\")\n",
    "df.head()"
   ]
  },
  {
   "cell_type": "markdown",
   "id": "a70c2027",
   "metadata": {},
   "source": [
    "We want to predict body_mass_g, but there are some missing measurements. Lets remove those"
   ]
  },
  {
   "cell_type": "code",
   "execution_count": null,
   "id": "93ff013a",
   "metadata": {},
   "outputs": [],
   "source": [
    "df = df[df['body_mass_g'].notNull()]\n",
    "df.head()"
   ]
  },
  {
   "cell_type": "markdown",
   "id": "59d374b5",
   "metadata": {},
   "source": [
    "Great! Now lets configure a linear regression model to predict body mass from the other columns"
   ]
  },
  {
   "cell_type": "code",
   "execution_count": null,
   "id": "18c4cecf",
   "metadata": {},
   "outputs": [],
   "source": [
    "import bigframes.ml as ml\n",
    "\n",
    "model = ml.LinearRegression()\n",
    "model"
   ]
  },
  {
   "cell_type": "markdown",
   "id": "2c2e0835",
   "metadata": {},
   "source": [
    "The model is just an empty configuration at the moment, it won't create anything in BigQuery until we fit it to some training data"
   ]
  },
  {
   "cell_type": "code",
   "execution_count": null,
   "id": "085c9a99",
   "metadata": {},
   "outputs": [],
   "source": [
    "train_x = df['species', 'island', 'culmen_length_mm', 'culmen_depth_mm', 'flipper_length_mm', 'sex']\n",
    "train_y = df['body_mass_g']\n",
    "model.fit(train_x, train_y)\n",
    "model"
   ]
  },
  {
   "cell_type": "markdown",
   "id": "9e76e10c",
   "metadata": {},
   "source": [
    "BigQuery automatically managed our training data split and model evaluation for us - lets see how well the model performed"
   ]
  },
  {
   "cell_type": "code",
   "execution_count": null,
   "id": "c9458c02",
   "metadata": {},
   "outputs": [],
   "source": [
    "model.evaluate()"
   ]
  },
  {
   "cell_type": "markdown",
   "id": "f0b39603",
   "metadata": {},
   "source": [
    "Great! The model works well. Because we created it without a name, it was just a temporary model that will disappear after 24 hours. \n",
    "\n",
    "We decide that this approach is promising, so lets fit it again, but this time we'll specify a name so that the fitted model is saved."
   ]
  },
  {
   "cell_type": "code",
   "execution_count": null,
   "id": "c508691b",
   "metadata": {},
   "outputs": [],
   "source": [
    "model.set_params(name=\"projectid.datasetid.modelname\")\n",
    "model.fit(train_x, train_y)\n",
    "\n",
    "model"
   ]
  },
  {
   "cell_type": "markdown",
   "id": "46abef08",
   "metadata": {},
   "source": [
    "We can now use this model anywhere in BigQuery with this name. We can also load it again in our BigFrames session and evaluate or inference it without needing to retrain it:"
   ]
  },
  {
   "cell_type": "code",
   "execution_count": null,
   "id": "0c87e972",
   "metadata": {},
   "outputs": [],
   "source": [
    "model = session.read_gbq(\"projectid.datasetid.modelname\")\n",
    "\n",
    "model"
   ]
  },
  {
   "cell_type": "markdown",
   "id": "d6ab8def",
   "metadata": {},
   "source": [
    "And of course we can retrain it:"
   ]
  },
  {
   "cell_type": "code",
   "execution_count": null,
   "id": "f4960452",
   "metadata": {},
   "outputs": [],
   "source": [
    "model.fit(train_x, train_y)"
   ]
  },
  {
   "cell_type": "markdown",
   "id": "62577c72",
   "metadata": {},
   "source": [
    "We want to productionalize this model, so lets start publishing it to the vertex model registry ([prerequisites](https://cloud.google.com/bigquery-ml/docs/managing-models-vertex#prerequisites))\n",
    "\n",
    "Note that while we can load models from BigQuery and change the parameters, things are only ever persisted when we run .fit()"
   ]
  },
  {
   "cell_type": "code",
   "execution_count": null,
   "id": "b82e79ee",
   "metadata": {},
   "outputs": [],
   "source": [
    "model.set_params(\n",
    "    registry=\"vertex_ai\",\n",
    "    vertex_ai_model_version_aliases=[\"experimental\"])\n",
    "model.fit(train_x, train_y)"
   ]
  },
  {
   "cell_type": "markdown",
   "id": "69d2482c",
   "metadata": {},
   "source": [
    "Now when we fit the model, we can see it published here: https://pantheon.corp.google.com/vertex-ai/models"
   ]
  }
 ],
 "metadata": {
  "kernelspec": {
   "display_name": "Python 3 (ipykernel)",
   "language": "python",
   "name": "python3"
  },
  "language_info": {
   "codemirror_mode": {
    "name": "ipython",
    "version": 3
   },
   "file_extension": ".py",
   "mimetype": "text/x-python",
   "name": "python",
   "nbconvert_exporter": "python",
   "pygments_lexer": "ipython3",
   "version": "3.10.9"
  }
 },
 "nbformat": 4,
 "nbformat_minor": 5
}
