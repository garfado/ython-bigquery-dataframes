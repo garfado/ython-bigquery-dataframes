{
 "cells": [
  {
   "cell_type": "markdown",
   "id": "71fbfc47",
   "metadata": {},
   "source": [
    "# Linear regression tutorial\n",
    "\n",
    "WIP: adapt the BQML penguin weight tutorial to BigFrames https://cloud.google.com/bigquery-ml/docs/linear-regression-tutorial\n",
    "\n",
    "This is an exploration for how a minimal combination of BQML and SKLearn style might work."
   ]
  },
  {
   "cell_type": "code",
   "execution_count": 1,
   "id": "d7a03de2-c0ef-4f80-9cd5-f96e87cf2d54",
   "metadata": {
    "tags": []
   },
   "outputs": [],
   "source": [
    "import bigframes\n",
    "\n",
    "session = bigframes.connect()"
   ]
  },
  {
   "cell_type": "markdown",
   "id": "f95fda6a",
   "metadata": {},
   "source": [
    "Lets load the table containing our source data"
   ]
  },
  {
   "cell_type": "code",
   "execution_count": 7,
   "id": "941cb6c3-8c54-42ce-a945-4fa604176b2e",
   "metadata": {
    "tags": []
   },
   "outputs": [
    {
     "name": "stdout",
     "output_type": "stream",
     "text": [
      "\n",
      "                                       species     island  ...  body_mass_g     sex\n",
      "0          Adelie Penguin (Pygoscelis adeliae)      Dream  ...       3475.0  FEMALE\n",
      "1          Adelie Penguin (Pygoscelis adeliae)      Dream  ...       4650.0    MALE\n",
      "2          Adelie Penguin (Pygoscelis adeliae)      Dream  ...       3900.0    MALE\n",
      "3    Chinstrap penguin (Pygoscelis antarctica)      Dream  ...       3500.0  FEMALE\n",
      "4          Adelie Penguin (Pygoscelis adeliae)      Dream  ...       3000.0  FEMALE\n",
      "..                                         ...        ...  ...          ...     ...\n",
      "339        Adelie Penguin (Pygoscelis adeliae)  Torgersen  ...       3275.0  FEMALE\n",
      "340        Adelie Penguin (Pygoscelis adeliae)  Torgersen  ...       3700.0  FEMALE\n",
      "341        Adelie Penguin (Pygoscelis adeliae)  Torgersen  ...       3050.0  FEMALE\n",
      "342        Adelie Penguin (Pygoscelis adeliae)  Torgersen  ...       4000.0    MALE\n",
      "343        Adelie Penguin (Pygoscelis adeliae)  Torgersen  ...       3775.0    MALE\n",
      "\n",
      "[334 rows x 7 columns]\n"
     ]
    }
   ],
   "source": [
    "df = session.read_gbq(\"bigquery-public-data.ml_datasets.penguins\")\n",
    "df.head()"
   ]
  },
  {
   "cell_type": "markdown",
   "id": "a70c2027",
   "metadata": {},
   "source": [
    "We want to predict body_mass_g, but only of the female penguins. Lets remove the males from the data"
   ]
  },
  {
   "cell_type": "code",
   "execution_count": 6,
   "id": "93ff013a",
   "metadata": {},
   "outputs": [
    {
     "name": "stdout",
     "output_type": "stream",
     "text": [
      "\n",
      "                                       species     island  ...  body_mass_g     sex\n",
      "0          Adelie Penguin (Pygoscelis adeliae)      Dream  ...       3475.0  FEMALE\n",
      "3    Chinstrap penguin (Pygoscelis antarctica)      Dream  ...       3500.0  FEMALE\n",
      "4          Adelie Penguin (Pygoscelis adeliae)      Dream  ...       3000.0  FEMALE\n",
      "6    Chinstrap penguin (Pygoscelis antarctica)      Dream  ...       2700.0  FEMALE\n",
      "7    Chinstrap penguin (Pygoscelis antarctica)      Dream  ...       3400.0  FEMALE\n",
      "..                                         ...        ...  ...          ...     ...\n",
      "331        Adelie Penguin (Pygoscelis adeliae)  Torgersen  ...       3700.0  FEMALE\n",
      "334        Adelie Penguin (Pygoscelis adeliae)  Torgersen  ...       3325.0  FEMALE\n",
      "339        Adelie Penguin (Pygoscelis adeliae)  Torgersen  ...       3275.0  FEMALE\n",
      "340        Adelie Penguin (Pygoscelis adeliae)  Torgersen  ...       3700.0  FEMALE\n",
      "341        Adelie Penguin (Pygoscelis adeliae)  Torgersen  ...       3050.0  FEMALE\n",
      "\n",
      "[165 rows x 7 columns]\n"
     ]
    }
   ],
   "source": [
    "df = df[df['sex'] == 'FEMALE']\n",
    "df.head()"
   ]
  },
  {
   "cell_type": "markdown",
   "id": "59d374b5",
   "metadata": {},
   "source": [
    "Great! Now lets configure a linear regression model to predict body mass from the other columns"
   ]
  },
  {
   "cell_type": "code",
   "execution_count": 8,
   "id": "18c4cecf",
   "metadata": {},
   "outputs": [
    {
     "data": {
      "text/plain": [
       "{'auto_class_weights': None,\n",
       " 'calculate_p_values': None,\n",
       " 'category_encoding_method': None,\n",
       " 'class_weights': None,\n",
       " 'data_split_col': None,\n",
       " 'data_split_eval_fraction': None,\n",
       " 'data_split_method': None,\n",
       " 'early_stop': None,\n",
       " 'enable_global_explain': None,\n",
       " 'fit_intercept': None,\n",
       " 'l1_reg': None,\n",
       " 'l2_reg': None,\n",
       " 'learn_rate': None,\n",
       " 'learn_rate_strategy': None,\n",
       " 'ls_init_learn_rate': None,\n",
       " 'max_iterations': None,\n",
       " 'min_rel_progress': None,\n",
       " 'optimize_strategy': None,\n",
       " 'warm_start': None}"
      ]
     },
     "execution_count": 8,
     "metadata": {},
     "output_type": "execute_result"
    }
   ],
   "source": [
    "import bigframes.ml as ml\n",
    "\n",
    "model = ml.LinearRegression()\n",
    "model.get_params()"
   ]
  },
  {
   "cell_type": "markdown",
   "id": "2c2e0835",
   "metadata": {},
   "source": [
    "The model is just an empty configuration at the moment, it won't create anything in BigQuery until we fit it to some training data"
   ]
  },
  {
   "cell_type": "code",
   "execution_count": 10,
   "id": "085c9a99",
   "metadata": {},
   "outputs": [
    {
     "name": "stdout",
     "output_type": "stream",
     "text": [
      "LinearRegression()\n"
     ]
    }
   ],
   "source": [
    "train_x = df[['species', 'island', 'culmen_length_mm', 'culmen_depth_mm', 'flipper_length_mm', 'sex']]\n",
    "train_y = df['body_mass_g']\n",
    "model.fit(train_x, train_y)"
   ]
  },
  {
   "cell_type": "markdown",
   "id": "9e76e10c",
   "metadata": {},
   "source": [
    "BigQuery automatically managed our training data split and model evaluation for us - lets see how well the model performed"
   ]
  },
  {
   "cell_type": "code",
   "execution_count": 9,
   "id": "c9458c02",
   "metadata": {},
   "outputs": [
    {
     "name": "stdout",
     "output_type": "stream",
     "text": [
      "\n",
      "Mean absolute error:      227.0122\n",
      "Mean squared error:     81838.1599\n",
      "Mean squared log error:     0.0051\n",
      "Mean absolute error:      173.0808\n",
      "R squared:                  0.8724\n"
     ]
    }
   ],
   "source": [
    "model.evaluate()"
   ]
  },
  {
   "cell_type": "markdown",
   "id": "f0b39603",
   "metadata": {},
   "source": [
    "Great! The model works well. Because we created it without a name, it was just a temporary model that will disappear after 24 hours. \n",
    "\n",
    "We decide that this approach is promising, so lets fit it again, but this time we'll specify a name so that the fitted model is saved."
   ]
  },
  {
   "cell_type": "code",
   "execution_count": 11,
   "id": "c508691b",
   "metadata": {},
   "outputs": [
    {
     "name": "stdout",
     "output_type": "stream",
     "text": [
      "\n",
      "LinearRegression()\n",
      "Persistence:\n",
      "   BigQuery model: bqml_tutorial.penguins_model\n"
     ]
    }
   ],
   "source": [
    "model.set_persistence(name=\"bqml_tutorial.penguins_model\")\n",
    "model.fit(train_x, train_y)"
   ]
  },
  {
   "attachments": {},
   "cell_type": "markdown",
   "id": "46abef08",
   "metadata": {},
   "source": [
    "We can now use this model anywhere in BigQuery with this name, we can view it in Pantheon [here](https://pantheon.corp.google.com/bigquery?project=bigframes-dev&cloudshell=true&mods=pan_ng2&ws=!1m10!1m4!1m3!1sbigframes-dev!2sbquxjob_294496a9_18657567655!3sUS!1m4!5m3!1sbigframes-dev!2sbqml_tutorial!3spenguins_model). We can also load it again in our BigFrames session and evaluate or inference it without needing to retrain it:"
   ]
  },
  {
   "cell_type": "code",
   "execution_count": 12,
   "id": "0c87e972",
   "metadata": {},
   "outputs": [
    {
     "name": "stdout",
     "output_type": "stream",
     "text": [
      "\n",
      "LinearRegression()\n",
      "Persistence:\n",
      "   BigQuery model: bqml_tutorial.penguins_model\n"
     ]
    }
   ],
   "source": [
    "model = session.read_gbq(\"bqml_tutorial.penguins_model\")\n",
    "\n",
    "model"
   ]
  },
  {
   "cell_type": "markdown",
   "id": "d6ab8def",
   "metadata": {},
   "source": [
    "And of course we can retrain it:"
   ]
  },
  {
   "cell_type": "code",
   "execution_count": 13,
   "id": "f4960452",
   "metadata": {},
   "outputs": [
    {
     "name": "stdout",
     "output_type": "stream",
     "text": [
      "\n",
      "LinearRegression()\n",
      "Persistence:\n",
      "   BigQuery model: bqml_tutorial.penguins_model\n"
     ]
    }
   ],
   "source": [
    "model.fit(train_x, train_y)"
   ]
  },
  {
   "cell_type": "markdown",
   "id": "62577c72",
   "metadata": {},
   "source": [
    "We want to productionalize this model, so lets start publishing it to the vertex model registry ([prerequisites](https://cloud.google.com/bigquery-ml/docs/managing-models-vertex#prerequisites))\n",
    "\n",
    "Note that while we can load models from BigQuery and change the parameters, things are only ever persisted when we run .fit()"
   ]
  },
  {
   "cell_type": "code",
   "execution_count": 14,
   "id": "b82e79ee",
   "metadata": {},
   "outputs": [
    {
     "name": "stdout",
     "output_type": "stream",
     "text": [
      "\n",
      "LinearRegression()\n",
      "Persistence:\n",
      "   BigQuery model: bqml_tutorial.penguins_model\n",
      "   Model registry: Vertex AI\n",
      "   Vertex AI model version aliases: [ experimental ]\n"
     ]
    }
   ],
   "source": [
    "model.set_persistence(\n",
    "    registry=\"vertex_ai\",\n",
    "    vertex_ai_model_version_aliases=[\"experimental\"])\n",
    "model.fit(train_x, train_y)"
   ]
  },
  {
   "cell_type": "markdown",
   "id": "69d2482c",
   "metadata": {},
   "source": [
    "Now when we fit the model, we can see it published here: https://pantheon.corp.google.com/vertex-ai/models"
   ]
  }
 ],
 "metadata": {
  "kernelspec": {
   "display_name": "venv",
   "language": "python",
   "name": "python3"
  },
  "language_info": {
   "codemirror_mode": {
    "name": "ipython",
    "version": 3
   },
   "file_extension": ".py",
   "mimetype": "text/x-python",
   "name": "python",
   "nbconvert_exporter": "python",
   "pygments_lexer": "ipython3",
   "version": "3.10.9"
  },
  "vscode": {
   "interpreter": {
    "hash": "a850322d07d9bdc9ec5f301d307e048bcab2390ae395e1cbce9335f4e081e5e2"
   }
  }
 },
 "nbformat": 4,
 "nbformat_minor": 5
}
