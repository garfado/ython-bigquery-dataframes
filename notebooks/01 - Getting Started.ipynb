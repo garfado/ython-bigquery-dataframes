{
 "cells": [
  {
   "cell_type": "code",
   "execution_count": 1,
   "id": "d7a03de2-c0ef-4f80-9cd5-f96e87cf2d54",
   "metadata": {
    "tags": []
   },
   "outputs": [],
   "source": [
    "import bigframes\n",
    "\n",
    "# On the instance where you are running jupyter,\n",
    "# authenticate with gcloud first:\n",
    "#\n",
    "#     gcloud auth application-default login\n",
    "\n",
    "# TODO(swast): How should folks connect when using colab\n",
    "# when the runtime isn't running locally with access to\n",
    "# credentials from the command line?\n",
    "engine = bigframes.connect()"
   ]
  },
  {
   "cell_type": "code",
   "execution_count": 2,
   "id": "941cb6c3-8c54-42ce-a945-4fa604176b2e",
   "metadata": {
    "tags": []
   },
   "outputs": [],
   "source": [
    "df = engine.read_gbq(\"bigquery-public-data.chicago_taxi_trips.taxi_trips\")[[\n",
    "    \"trip_end_timestamp\",\n",
    "    \"pickup_location\",\n",
    "    \"trip_miles\",\n",
    "    \"trip_total\",\n",
    "]]"
   ]
  },
  {
   "cell_type": "code",
   "execution_count": 3,
   "id": "9be88689-9370-4e8d-8b4a-e99e7b7d1900",
   "metadata": {
    "tags": []
   },
   "outputs": [
    {
     "data": {
      "text/html": [
       "<pre style=\"white-space:pre;overflow-x:auto;line-height:normal;font-family:Menlo,'DejaVu Sans Mono',consolas,'Courier New',monospace\">r0 := BigQueryTable: bigquery-public-data.chicago_taxi_trips.taxi_trips\n",
       "  unique_key             string\n",
       "  taxi_id                string\n",
       "  trip_start_timestamp   timestamp\n",
       "  trip_end_timestamp     timestamp\n",
       "  trip_seconds           int64\n",
       "  trip_miles             float64\n",
       "  pickup_census_tract    int64\n",
       "  dropoff_census_tract   int64\n",
       "  pickup_community_area  int64\n",
       "  dropoff_community_area int64\n",
       "  fare                   float64\n",
       "  tips                   float64\n",
       "  tolls                  float64\n",
       "  extras                 float64\n",
       "  trip_total             float64\n",
       "  payment_type           string\n",
       "  company                string\n",
       "  pickup_latitude        float64\n",
       "  pickup_longitude       float64\n",
       "  pickup_location        string\n",
       "  dropoff_latitude       float64\n",
       "  dropoff_longitude      float64\n",
       "  dropoff_location       string\n",
       "\n",
       "Selection[r0]\n",
       "  selections:\n",
       "    trip_miles: Round(r0.trip_miles, digits=2)\n",
       "</pre>\n"
      ],
      "text/plain": [
       "r0 := BigQueryTable: bigquery-public-data.chicago_taxi_trips.taxi_trips\n",
       "  unique_key             string\n",
       "  taxi_id                string\n",
       "  trip_start_timestamp   timestamp\n",
       "  trip_end_timestamp     timestamp\n",
       "  trip_seconds           int64\n",
       "  trip_miles             float64\n",
       "  pickup_census_tract    int64\n",
       "  dropoff_census_tract   int64\n",
       "  pickup_community_area  int64\n",
       "  dropoff_community_area int64\n",
       "  fare                   float64\n",
       "  tips                   float64\n",
       "  tolls                  float64\n",
       "  extras                 float64\n",
       "  trip_total             float64\n",
       "  payment_type           string\n",
       "  company                string\n",
       "  pickup_latitude        float64\n",
       "  pickup_longitude       float64\n",
       "  pickup_location        string\n",
       "  dropoff_latitude       float64\n",
       "  dropoff_longitude      float64\n",
       "  dropoff_location       string\n",
       "\n",
       "Selection[r0]\n",
       "  selections:\n",
       "    trip_miles: Round(r0.trip_miles, digits=2)"
      ]
     },
     "execution_count": 3,
     "metadata": {},
     "output_type": "execute_result"
    }
   ],
   "source": [
    "df[\"trip_miles\"].round(decimals=2)._value"
   ]
  },
  {
   "cell_type": "code",
   "execution_count": 3,
   "id": "586da7b2-8825-4b1e-87cd-512df60775e1",
   "metadata": {
    "tags": []
   },
   "outputs": [
    {
     "data": {
      "text/html": [
       "<div>\n",
       "<style scoped>\n",
       "    .dataframe tbody tr th:only-of-type {\n",
       "        vertical-align: middle;\n",
       "    }\n",
       "\n",
       "    .dataframe tbody tr th {\n",
       "        vertical-align: top;\n",
       "    }\n",
       "\n",
       "    .dataframe thead th {\n",
       "        text-align: right;\n",
       "    }\n",
       "</style>\n",
       "<table border=\"1\" class=\"dataframe\">\n",
       "  <thead>\n",
       "    <tr style=\"text-align: right;\">\n",
       "      <th></th>\n",
       "      <th>trip_end_timestamp</th>\n",
       "      <th>pickup_location</th>\n",
       "      <th>trip_miles</th>\n",
       "      <th>trip_total</th>\n",
       "    </tr>\n",
       "  </thead>\n",
       "  <tbody>\n",
       "    <tr>\n",
       "      <th>0</th>\n",
       "      <td>2013-01-03 06:15:00</td>\n",
       "      <td>None</td>\n",
       "      <td>0.7</td>\n",
       "      <td>4.65</td>\n",
       "    </tr>\n",
       "    <tr>\n",
       "      <th>1</th>\n",
       "      <td>2013-01-03 06:45:00</td>\n",
       "      <td>None</td>\n",
       "      <td>0.2</td>\n",
       "      <td>4.05</td>\n",
       "    </tr>\n",
       "    <tr>\n",
       "      <th>2</th>\n",
       "      <td>2013-01-03 06:45:00</td>\n",
       "      <td>None</td>\n",
       "      <td>0.5</td>\n",
       "      <td>4.65</td>\n",
       "    </tr>\n",
       "    <tr>\n",
       "      <th>3</th>\n",
       "      <td>2013-01-02 12:45:00</td>\n",
       "      <td>None</td>\n",
       "      <td>0.9</td>\n",
       "      <td>5.45</td>\n",
       "    </tr>\n",
       "    <tr>\n",
       "      <th>4</th>\n",
       "      <td>2013-01-02 13:00:00</td>\n",
       "      <td>None</td>\n",
       "      <td>1.1</td>\n",
       "      <td>6.05</td>\n",
       "    </tr>\n",
       "    <tr>\n",
       "      <th>5</th>\n",
       "      <td>2013-01-02 12:15:00</td>\n",
       "      <td>None</td>\n",
       "      <td>0.8</td>\n",
       "      <td>5.65</td>\n",
       "    </tr>\n",
       "    <tr>\n",
       "      <th>6</th>\n",
       "      <td>2013-01-02 12:15:00</td>\n",
       "      <td>None</td>\n",
       "      <td>1.2</td>\n",
       "      <td>6.25</td>\n",
       "    </tr>\n",
       "    <tr>\n",
       "      <th>7</th>\n",
       "      <td>2013-01-02 11:45:00</td>\n",
       "      <td>None</td>\n",
       "      <td>1.2</td>\n",
       "      <td>5.85</td>\n",
       "    </tr>\n",
       "    <tr>\n",
       "      <th>8</th>\n",
       "      <td>2013-01-02 13:15:00</td>\n",
       "      <td>None</td>\n",
       "      <td>1.4</td>\n",
       "      <td>7.25</td>\n",
       "    </tr>\n",
       "    <tr>\n",
       "      <th>9</th>\n",
       "      <td>2013-03-17 10:15:00</td>\n",
       "      <td>None</td>\n",
       "      <td>2.2</td>\n",
       "      <td>10.44</td>\n",
       "    </tr>\n",
       "    <tr>\n",
       "      <th>10</th>\n",
       "      <td>2013-03-17 10:30:00</td>\n",
       "      <td>None</td>\n",
       "      <td>0.6</td>\n",
       "      <td>4.65</td>\n",
       "    </tr>\n",
       "    <tr>\n",
       "      <th>11</th>\n",
       "      <td>2013-03-17 10:15:00</td>\n",
       "      <td>None</td>\n",
       "      <td>2.0</td>\n",
       "      <td>10.25</td>\n",
       "    </tr>\n",
       "    <tr>\n",
       "      <th>12</th>\n",
       "      <td>2013-03-17 11:45:00</td>\n",
       "      <td>None</td>\n",
       "      <td>18.5</td>\n",
       "      <td>47.58</td>\n",
       "    </tr>\n",
       "    <tr>\n",
       "      <th>13</th>\n",
       "      <td>2013-03-17 11:00:00</td>\n",
       "      <td>None</td>\n",
       "      <td>2.3</td>\n",
       "      <td>9.44</td>\n",
       "    </tr>\n",
       "    <tr>\n",
       "      <th>14</th>\n",
       "      <td>2013-03-17 01:45:00</td>\n",
       "      <td>None</td>\n",
       "      <td>10.7</td>\n",
       "      <td>25.05</td>\n",
       "    </tr>\n",
       "    <tr>\n",
       "      <th>15</th>\n",
       "      <td>2013-03-17 01:45:00</td>\n",
       "      <td>None</td>\n",
       "      <td>0.8</td>\n",
       "      <td>6.15</td>\n",
       "    </tr>\n",
       "    <tr>\n",
       "      <th>16</th>\n",
       "      <td>2013-03-17 02:15:00</td>\n",
       "      <td>None</td>\n",
       "      <td>4.6</td>\n",
       "      <td>13.25</td>\n",
       "    </tr>\n",
       "    <tr>\n",
       "      <th>17</th>\n",
       "      <td>2013-03-17 02:30:00</td>\n",
       "      <td>None</td>\n",
       "      <td>0.1</td>\n",
       "      <td>4.95</td>\n",
       "    </tr>\n",
       "    <tr>\n",
       "      <th>18</th>\n",
       "      <td>2013-03-17 02:45:00</td>\n",
       "      <td>None</td>\n",
       "      <td>2.5</td>\n",
       "      <td>10.55</td>\n",
       "    </tr>\n",
       "    <tr>\n",
       "      <th>19</th>\n",
       "      <td>2013-03-17 09:45:00</td>\n",
       "      <td>None</td>\n",
       "      <td>0.9</td>\n",
       "      <td>6.25</td>\n",
       "    </tr>\n",
       "  </tbody>\n",
       "</table>\n",
       "</div>"
      ],
      "text/plain": [
       "    trip_end_timestamp pickup_location  trip_miles  trip_total\n",
       "0  2013-01-03 06:15:00            None         0.7        4.65\n",
       "1  2013-01-03 06:45:00            None         0.2        4.05\n",
       "2  2013-01-03 06:45:00            None         0.5        4.65\n",
       "3  2013-01-02 12:45:00            None         0.9        5.45\n",
       "4  2013-01-02 13:00:00            None         1.1        6.05\n",
       "5  2013-01-02 12:15:00            None         0.8        5.65\n",
       "6  2013-01-02 12:15:00            None         1.2        6.25\n",
       "7  2013-01-02 11:45:00            None         1.2        5.85\n",
       "8  2013-01-02 13:15:00            None         1.4        7.25\n",
       "9  2013-03-17 10:15:00            None         2.2       10.44\n",
       "10 2013-03-17 10:30:00            None         0.6        4.65\n",
       "11 2013-03-17 10:15:00            None         2.0       10.25\n",
       "12 2013-03-17 11:45:00            None        18.5       47.58\n",
       "13 2013-03-17 11:00:00            None         2.3        9.44\n",
       "14 2013-03-17 01:45:00            None        10.7       25.05\n",
       "15 2013-03-17 01:45:00            None         0.8        6.15\n",
       "16 2013-03-17 02:15:00            None         4.6       13.25\n",
       "17 2013-03-17 02:30:00            None         0.1        4.95\n",
       "18 2013-03-17 02:45:00            None         2.5       10.55\n",
       "19 2013-03-17 09:45:00            None         0.9        6.25"
      ]
     },
     "execution_count": 3,
     "metadata": {},
     "output_type": "execute_result"
    }
   ],
   "source": [
    "df.head(20)"
   ]
  },
  {
   "cell_type": "code",
   "execution_count": 4,
   "id": "b6fdc30d-3ee3-4e00-9cf4-c571d79d509c",
   "metadata": {
    "tags": []
   },
   "outputs": [
    {
     "data": {
      "text/plain": [
       "<bigframes.series.Series at 0x7fb50dad20e0>"
      ]
     },
     "execution_count": 4,
     "metadata": {},
     "output_type": "execute_result"
    }
   ],
   "source": [
    "df['trip_total']"
   ]
  },
  {
   "cell_type": "code",
   "execution_count": 5,
   "id": "e51b687e-0282-459c-8fd0-0ca22cfb153d",
   "metadata": {
    "tags": []
   },
   "outputs": [
    {
     "data": {
      "text/plain": [
       "0    4.65\n",
       "1    4.05\n",
       "2    4.65\n",
       "3    5.45\n",
       "4    6.05\n",
       "Name: trip_total, dtype: float64"
      ]
     },
     "execution_count": 5,
     "metadata": {},
     "output_type": "execute_result"
    }
   ],
   "source": [
    "df.head()['trip_total']"
   ]
  },
  {
   "cell_type": "code",
   "execution_count": 6,
   "id": "eb800cbb-d7d9-4562-8c23-4dd6c06759cc",
   "metadata": {},
   "outputs": [
    {
     "ename": "AttributeError",
     "evalue": "'Series' object has no attribute 'head'",
     "output_type": "error",
     "traceback": [
      "\u001b[0;31m---------------------------------------------------------------------------\u001b[0m",
      "\u001b[0;31mAttributeError\u001b[0m                            Traceback (most recent call last)",
      "Cell \u001b[0;32mIn[6], line 1\u001b[0m\n\u001b[0;32m----> 1\u001b[0m \u001b[43mdf\u001b[49m\u001b[43m[\u001b[49m\u001b[38;5;124;43m'\u001b[39;49m\u001b[38;5;124;43mtrip_total\u001b[39;49m\u001b[38;5;124;43m'\u001b[39;49m\u001b[43m]\u001b[49m\u001b[38;5;241;43m.\u001b[39;49m\u001b[43mhead\u001b[49m()\n",
      "\u001b[0;31mAttributeError\u001b[0m: 'Series' object has no attribute 'head'"
     ]
    }
   ],
   "source": [
    "df['trip_total'].head()"
   ]
  },
  {
   "cell_type": "code",
   "execution_count": null,
   "id": "470d1b55-368a-4d46-a844-baa1ecb27325",
   "metadata": {},
   "outputs": [],
   "source": []
  }
 ],
 "metadata": {
  "kernelspec": {
   "display_name": "Python 3 (ipykernel)",
   "language": "python",
   "name": "python3"
  },
  "language_info": {
   "codemirror_mode": {
    "name": "ipython",
    "version": 3
   },
   "file_extension": ".py",
   "mimetype": "text/x-python",
   "name": "python",
   "nbconvert_exporter": "python",
   "pygments_lexer": "ipython3",
   "version": "3.10.9"
  }
 },
 "nbformat": 4,
 "nbformat_minor": 5
}
