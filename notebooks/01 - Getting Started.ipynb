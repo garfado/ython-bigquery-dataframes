{
 "cells": [
  {
   "cell_type": "code",
   "execution_count": 1,
   "id": "d7a03de2-c0ef-4f80-9cd5-f96e87cf2d54",
   "metadata": {
    "tags": []
   },
   "outputs": [],
   "source": [
    "# On the instance where you are running jupyter,\n",
    "# authenticate with gcloud first:\n",
    "#\n",
    "#     gcloud auth application-default login\n",
    "\n",
    "import bigframes\n",
    "\n",
    "pd = bigframes.connect()"
   ]
  },
  {
   "cell_type": "code",
   "execution_count": 2,
   "id": "6606c5c4-c367-44b9-89ba-c85b41057d60",
   "metadata": {},
   "outputs": [
    {
     "data": {
      "text/plain": [
       "<bigframes.session.Session at 0x7f93888a8940>"
      ]
     },
     "execution_count": 2,
     "metadata": {},
     "output_type": "execute_result"
    }
   ],
   "source": [
    "pd"
   ]
  },
  {
   "cell_type": "code",
   "execution_count": 3,
   "id": "941cb6c3-8c54-42ce-a945-4fa604176b2e",
   "metadata": {
    "tags": []
   },
   "outputs": [],
   "source": [
    "df = pd.read_gbq(\"bigquery-public-data.chicago_taxi_trips.taxi_trips\")"
   ]
  },
  {
   "cell_type": "code",
   "execution_count": 4,
   "id": "4c3686d1-8b12-4c6b-8b19-6ef40a3b8ef5",
   "metadata": {
    "tags": []
   },
   "outputs": [
    {
     "data": {
      "text/plain": [
       "bigframes.dataframe.DataFrame"
      ]
     },
     "execution_count": 4,
     "metadata": {},
     "output_type": "execute_result"
    }
   ],
   "source": [
    "type(df)"
   ]
  },
  {
   "cell_type": "code",
   "execution_count": 5,
   "id": "586da7b2-8825-4b1e-87cd-512df60775e1",
   "metadata": {
    "tags": []
   },
   "outputs": [
    {
     "data": {
      "text/plain": [
       "                                 unique_key  \\\n",
       "0  48b9324bea3f71b6ac1b8fc7c3005de0c044d441   \n",
       "\n",
       "                                             taxi_id  \\\n",
       "0  2bbfe2af3f1b25128384590d49c415677e747671d8ea12...   \n",
       "\n",
       "       trip_start_timestamp        trip_end_timestamp  trip_seconds  \\\n",
       "0 2018-02-28 10:30:00+00:00 2018-02-28 10:30:00+00:00           360   \n",
       "\n",
       "   trip_miles  pickup_census_tract  dropoff_census_tract  \\\n",
       "0         0.8                 <NA>                  <NA>   \n",
       "\n",
       "   pickup_community_area  dropoff_community_area  ...  extras  trip_total  \\\n",
       "0                   <NA>                    <NA>  ...     0.0         7.0   \n",
       "\n",
       "   payment_type                    company  pickup_latitude pickup_longitude  \\\n",
       "0   Credit Card  Star North Management LLC              NaN              NaN   \n",
       "\n",
       "  pickup_location  dropoff_latitude  dropoff_longitude dropoff_location  \n",
       "0            None               NaN                NaN             None  \n",
       "\n",
       "[1 rows x 23 columns]"
      ]
     },
     "execution_count": 5,
     "metadata": {},
     "output_type": "execute_result"
    }
   ],
   "source": [
    "df.head(n=1)"
   ]
  },
  {
   "cell_type": "code",
   "execution_count": 6,
   "id": "f1eee1c6-7214-440e-bc17-6839d53a6718",
   "metadata": {},
   "outputs": [],
   "source": [
    "df = df[[\n",
    "    \"company\",\n",
    "    \"trip_miles\",\n",
    "    \"fare\",\n",
    "    \"tips\",\n",
    "]]"
   ]
  },
  {
   "cell_type": "code",
   "execution_count": 7,
   "id": "66071984-e371-4161-8d7e-00d810b5cfab",
   "metadata": {},
   "outputs": [
    {
     "data": {
      "text/plain": [
       "                        company  trip_miles   fare   tips\n",
       "0                  Norshore Cab        19.0   0.01   0.00\n",
       "1                  Norshore Cab        26.5   0.01   0.00\n",
       "2                  Norshore Cab        14.3  40.80  10.20\n",
       "3                  Norshore Cab         2.0   8.40   0.00\n",
       "4                    Setare Inc         2.0   9.75   0.00\n",
       "5       Chicago Elite Cab Corp.         0.0  11.65   1.00\n",
       "6       Chicago Elite Cab Corp.         0.0   8.25   1.65\n",
       "7       Chicago Elite Cab Corp.         0.0   6.65   1.33\n",
       "...\n",
       "\n",
       "[205574533 rows x 4 columns]"
      ]
     },
     "execution_count": 7,
     "metadata": {},
     "output_type": "execute_result"
    }
   ],
   "source": [
    "df"
   ]
  },
  {
   "cell_type": "code",
   "execution_count": 8,
   "id": "e51b687e-0282-459c-8fd0-0ca22cfb153d",
   "metadata": {
    "tags": []
   },
   "outputs": [
    {
     "data": {
      "text/plain": [
       "0    10.00\n",
       "1     5.75\n",
       "2     7.50\n",
       "3    46.00\n",
       "4     8.00\n",
       "5    22.17\n",
       "6    34.00\n",
       "7    45.00\n",
       "8     6.25\n",
       "9     3.25\n",
       "Name: fare, dtype: float64"
      ]
     },
     "execution_count": 8,
     "metadata": {},
     "output_type": "execute_result"
    }
   ],
   "source": [
    "df['fare'].head(n=10)"
   ]
  },
  {
   "cell_type": "code",
   "execution_count": 9,
   "id": "ef9d466e-1138-41a7-ad4a-51e09c05870c",
   "metadata": {},
   "outputs": [
    {
     "data": {
      "text/plain": [
       "13.553347907200132"
      ]
     },
     "execution_count": 9,
     "metadata": {},
     "output_type": "execute_result"
    }
   ],
   "source": [
    "df['fare'].mean()"
   ]
  },
  {
   "cell_type": "code",
   "execution_count": 10,
   "id": "2aa1d13d-aec6-4498-9a3d-a0d8ce8040c6",
   "metadata": {},
   "outputs": [
    {
     "name": "stdout",
     "output_type": "stream",
     "text": [
      "SELECT avg(t0.`fare`) AS `tmp`\n",
      "FROM (\n",
      "  SELECT t1.`fare`\n",
      "  FROM `bigquery-public-data.chicago_taxi_trips.taxi_trips` t1\n",
      ") t0\n"
     ]
    }
   ],
   "source": [
    "# Peek at the SQL.\n",
    "print(df['fare'].mean()._value.compile())"
   ]
  },
  {
   "cell_type": "code",
   "execution_count": 11,
   "id": "eb800cbb-d7d9-4562-8c23-4dd6c06759cc",
   "metadata": {},
   "outputs": [
    {
     "data": {
      "text/plain": [
       "0    10.00\n",
       "1     8.75\n",
       "2     7.50\n",
       "3    66.00\n",
       "4     8.00\n",
       "Name: fare, dtype: float64"
      ]
     },
     "execution_count": 11,
     "metadata": {},
     "output_type": "execute_result"
    }
   ],
   "source": [
    "subtotal = df['fare'] + df['tips']\n",
    "subtotal.head()"
   ]
  },
  {
   "cell_type": "code",
   "execution_count": 12,
   "id": "d2ffa53f-e158-4b0b-898e-825e3bd99881",
   "metadata": {},
   "outputs": [
    {
     "data": {
      "text/plain": [
       "2844629.760000093"
      ]
     },
     "execution_count": 12,
     "metadata": {},
     "output_type": "execute_result"
    }
   ],
   "source": [
    "subtotal[df['company'] == 'Norshore Cab'].sum()"
   ]
  },
  {
   "cell_type": "code",
   "execution_count": 13,
   "id": "4b2b28a3-8200-4cfa-a958-66b081614fb2",
   "metadata": {},
   "outputs": [
    {
     "name": "stdout",
     "output_type": "stream",
     "text": [
      "SELECT sum(t0.`fare`) AS `tmp`\n",
      "FROM (\n",
      "  SELECT CASE WHEN TRUE THEN t1.`fare` ELSE NULL END + CASE WHEN TRUE THEN t1.`tips` ELSE NULL END AS `fare`\n",
      "  FROM `bigquery-public-data.chicago_taxi_trips.taxi_trips` t1\n",
      "  WHERE IFNULL(t1.`company` = 'Norshore Cab', FALSE)\n",
      ") t0\n"
     ]
    }
   ],
   "source": [
    "# Peek at the SQL.\n",
    "print(subtotal[df['company'] == 'Norshore Cab'].sum()._value.compile())"
   ]
  },
  {
   "cell_type": "code",
   "execution_count": null,
   "id": "5a8b18c1-4785-4dd5-a923-1a9cc5278d7c",
   "metadata": {},
   "outputs": [],
   "source": []
  }
 ],
 "metadata": {
  "kernelspec": {
   "display_name": "Python 3 (ipykernel)",
   "language": "python",
   "name": "python3"
  },
  "language_info": {
   "codemirror_mode": {
    "name": "ipython",
    "version": 3
   },
   "file_extension": ".py",
   "mimetype": "text/x-python",
   "name": "python",
   "nbconvert_exporter": "python",
   "pygments_lexer": "ipython3",
   "version": "3.10.9"
  }
 },
 "nbformat": 4,
 "nbformat_minor": 5
}
