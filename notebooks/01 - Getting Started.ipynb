{
 "cells": [
  {
   "cell_type": "code",
   "execution_count": 1,
   "id": "d7a03de2-c0ef-4f80-9cd5-f96e87cf2d54",
   "metadata": {
    "tags": []
   },
   "outputs": [],
   "source": [
    "# On the instance where you are running jupyter,\n",
    "# authenticate with gcloud first:\n",
    "#\n",
    "#     gcloud auth application-default login\n",
    "\n",
    "import bigframes\n",
    "\n",
    "pd = bigframes.connect()"
   ]
  },
  {
   "cell_type": "code",
   "execution_count": 2,
   "id": "6606c5c4-c367-44b9-89ba-c85b41057d60",
   "metadata": {},
   "outputs": [
    {
     "data": {
      "text/plain": [
       "<bigframes.session.Session at 0x7fdfb0fa9780>"
      ]
     },
     "execution_count": 2,
     "metadata": {},
     "output_type": "execute_result"
    }
   ],
   "source": [
    "pd"
   ]
  },
  {
   "cell_type": "code",
   "execution_count": 3,
   "id": "941cb6c3-8c54-42ce-a945-4fa604176b2e",
   "metadata": {
    "tags": []
   },
   "outputs": [],
   "source": [
    "df = pd.read_gbq(\"bigquery-public-data.chicago_taxi_trips.taxi_trips\")"
   ]
  },
  {
   "cell_type": "code",
   "execution_count": 4,
   "id": "4c3686d1-8b12-4c6b-8b19-6ef40a3b8ef5",
   "metadata": {
    "tags": []
   },
   "outputs": [
    {
     "data": {
      "text/plain": [
       "bigframes.dataframe.DataFrame"
      ]
     },
     "execution_count": 4,
     "metadata": {},
     "output_type": "execute_result"
    }
   ],
   "source": [
    "type(df)"
   ]
  },
  {
   "cell_type": "code",
   "execution_count": 5,
   "id": "586da7b2-8825-4b1e-87cd-512df60775e1",
   "metadata": {
    "tags": []
   },
   "outputs": [
    {
     "data": {
      "text/html": [
       "<div>\n",
       "<style scoped>\n",
       "    .dataframe tbody tr th:only-of-type {\n",
       "        vertical-align: middle;\n",
       "    }\n",
       "\n",
       "    .dataframe tbody tr th {\n",
       "        vertical-align: top;\n",
       "    }\n",
       "\n",
       "    .dataframe thead th {\n",
       "        text-align: right;\n",
       "    }\n",
       "</style>\n",
       "<table border=\"1\" class=\"dataframe\">\n",
       "  <thead>\n",
       "    <tr style=\"text-align: right;\">\n",
       "      <th></th>\n",
       "      <th>unique_key</th>\n",
       "      <th>taxi_id</th>\n",
       "      <th>trip_start_timestamp</th>\n",
       "      <th>trip_end_timestamp</th>\n",
       "      <th>trip_seconds</th>\n",
       "      <th>trip_miles</th>\n",
       "      <th>pickup_census_tract</th>\n",
       "      <th>dropoff_census_tract</th>\n",
       "      <th>pickup_community_area</th>\n",
       "      <th>dropoff_community_area</th>\n",
       "      <th>...</th>\n",
       "      <th>extras</th>\n",
       "      <th>trip_total</th>\n",
       "      <th>payment_type</th>\n",
       "      <th>company</th>\n",
       "      <th>pickup_latitude</th>\n",
       "      <th>pickup_longitude</th>\n",
       "      <th>pickup_location</th>\n",
       "      <th>dropoff_latitude</th>\n",
       "      <th>dropoff_longitude</th>\n",
       "      <th>dropoff_location</th>\n",
       "    </tr>\n",
       "  </thead>\n",
       "  <tbody>\n",
       "    <tr>\n",
       "      <th>0</th>\n",
       "      <td>c2de2d07e3278640666bc6b57d3ba9d8db40033c</td>\n",
       "      <td>e4d2b51afd55e194c2dad3e89367bf6c6efb502bc7f2aa...</td>\n",
       "      <td>2017-06-04 20:00:00+00:00</td>\n",
       "      <td>2017-06-04 20:15:00+00:00</td>\n",
       "      <td>840</td>\n",
       "      <td>0.0</td>\n",
       "      <td>17031841000</td>\n",
       "      <td>17031839100</td>\n",
       "      <td>33</td>\n",
       "      <td>32</td>\n",
       "      <td>...</td>\n",
       "      <td>0.0</td>\n",
       "      <td>14.05</td>\n",
       "      <td>Credit Card</td>\n",
       "      <td>Taxi Affiliation Services</td>\n",
       "      <td>41.849247</td>\n",
       "      <td>-87.624135</td>\n",
       "      <td>POINT (-87.6241352979 41.84924675450001)</td>\n",
       "      <td>41.880994</td>\n",
       "      <td>-87.632746</td>\n",
       "      <td>POINT (-87.6327464887 41.8809944707)</td>\n",
       "    </tr>\n",
       "  </tbody>\n",
       "</table>\n",
       "<p>1 rows × 23 columns</p>\n",
       "</div>[1 rows x 23 columns in total]"
      ],
      "text/plain": [
       "                                 unique_key   \n",
       "0  c2de2d07e3278640666bc6b57d3ba9d8db40033c  \\\n",
       "\n",
       "                                             taxi_id   \n",
       "0  e4d2b51afd55e194c2dad3e89367bf6c6efb502bc7f2aa...  \\\n",
       "\n",
       "        trip_start_timestamp         trip_end_timestamp  trip_seconds   \n",
       "0  2017-06-04 20:00:00+00:00  2017-06-04 20:15:00+00:00           840  \\\n",
       "\n",
       "   trip_miles  pickup_census_tract  dropoff_census_tract   \n",
       "0         0.0          17031841000           17031839100  \\\n",
       "\n",
       "   pickup_community_area  dropoff_community_area  ...  extras  trip_total   \n",
       "0                     33                      32  ...     0.0       14.05  \\\n",
       "\n",
       "   payment_type                    company  pickup_latitude pickup_longitude   \n",
       "0   Credit Card  Taxi Affiliation Services        41.849247       -87.624135  \\\n",
       "\n",
       "                            pickup_location  dropoff_latitude   \n",
       "0  POINT (-87.6241352979 41.84924675450001)         41.880994  \\\n",
       "\n",
       "   dropoff_longitude                      dropoff_location  \n",
       "0         -87.632746  POINT (-87.6327464887 41.8809944707)  \n",
       "\n",
       "[1 rows x 23 columns]"
      ]
     },
     "execution_count": 5,
     "metadata": {},
     "output_type": "execute_result"
    }
   ],
   "source": [
    "df.head(n=1)"
   ]
  },
  {
   "cell_type": "code",
   "execution_count": 6,
   "id": "f1eee1c6-7214-440e-bc17-6839d53a6718",
   "metadata": {},
   "outputs": [],
   "source": [
    "df = df[[\n",
    "    \"company\",\n",
    "    \"trip_miles\",\n",
    "    \"fare\",\n",
    "    \"tips\",\n",
    "]]"
   ]
  },
  {
   "cell_type": "code",
   "execution_count": 7,
   "id": "66071984-e371-4161-8d7e-00d810b5cfab",
   "metadata": {},
   "outputs": [
    {
     "data": {
      "text/html": [
       "<div>\n",
       "<style scoped>\n",
       "    .dataframe tbody tr th:only-of-type {\n",
       "        vertical-align: middle;\n",
       "    }\n",
       "\n",
       "    .dataframe tbody tr th {\n",
       "        vertical-align: top;\n",
       "    }\n",
       "\n",
       "    .dataframe thead th {\n",
       "        text-align: right;\n",
       "    }\n",
       "</style>\n",
       "<table border=\"1\" class=\"dataframe\">\n",
       "  <thead>\n",
       "    <tr style=\"text-align: right;\">\n",
       "      <th></th>\n",
       "      <th>company</th>\n",
       "      <th>trip_miles</th>\n",
       "      <th>fare</th>\n",
       "      <th>tips</th>\n",
       "    </tr>\n",
       "  </thead>\n",
       "  <tbody>\n",
       "    <tr>\n",
       "      <th>0</th>\n",
       "      <td>Taxi Affiliation Services</td>\n",
       "      <td>0.0</td>\n",
       "      <td>11.25</td>\n",
       "      <td>2.8</td>\n",
       "    </tr>\n",
       "    <tr>\n",
       "      <th>1</th>\n",
       "      <td>Yellow Cab</td>\n",
       "      <td>3.4</td>\n",
       "      <td>9.65</td>\n",
       "      <td>2.0</td>\n",
       "    </tr>\n",
       "    <tr>\n",
       "      <th>2</th>\n",
       "      <td>Choice Taxi Association</td>\n",
       "      <td>0.0</td>\n",
       "      <td>31.0</td>\n",
       "      <td>7.2</td>\n",
       "    </tr>\n",
       "    <tr>\n",
       "      <th>3</th>\n",
       "      <td>&lt;NA&gt;</td>\n",
       "      <td>11.3</td>\n",
       "      <td>6.45</td>\n",
       "      <td>0.0</td>\n",
       "    </tr>\n",
       "    <tr>\n",
       "      <th>4</th>\n",
       "      <td>City Service</td>\n",
       "      <td>1.3</td>\n",
       "      <td>7.0</td>\n",
       "      <td>1.5</td>\n",
       "    </tr>\n",
       "    <tr>\n",
       "      <th>5</th>\n",
       "      <td>Taxi Affiliation Services</td>\n",
       "      <td>0.0</td>\n",
       "      <td>21.25</td>\n",
       "      <td>0.0</td>\n",
       "    </tr>\n",
       "    <tr>\n",
       "      <th>6</th>\n",
       "      <td>Taxi Affiliation Services</td>\n",
       "      <td>0.0</td>\n",
       "      <td>7.85</td>\n",
       "      <td>0.0</td>\n",
       "    </tr>\n",
       "    <tr>\n",
       "      <th>7</th>\n",
       "      <td>Taxi Affiliation Services</td>\n",
       "      <td>0.8</td>\n",
       "      <td>5.05</td>\n",
       "      <td>0.0</td>\n",
       "    </tr>\n",
       "    <tr>\n",
       "      <th>8</th>\n",
       "      <td>Taxi Affiliation Services</td>\n",
       "      <td>3.9</td>\n",
       "      <td>14.25</td>\n",
       "      <td>0.0</td>\n",
       "    </tr>\n",
       "    <tr>\n",
       "      <th>9</th>\n",
       "      <td>Chicago Medallion Management</td>\n",
       "      <td>3.8</td>\n",
       "      <td>14.0</td>\n",
       "      <td>2.0</td>\n",
       "    </tr>\n",
       "    <tr>\n",
       "      <th>10</th>\n",
       "      <td>Choice Taxi Association</td>\n",
       "      <td>22.9</td>\n",
       "      <td>57.5</td>\n",
       "      <td>5.0</td>\n",
       "    </tr>\n",
       "    <tr>\n",
       "      <th>11</th>\n",
       "      <td>Taxi Affiliation Services</td>\n",
       "      <td>0.9</td>\n",
       "      <td>6.75</td>\n",
       "      <td>2.0</td>\n",
       "    </tr>\n",
       "    <tr>\n",
       "      <th>12</th>\n",
       "      <td>Star North Management LLC</td>\n",
       "      <td>1.3</td>\n",
       "      <td>8.25</td>\n",
       "      <td>0.15</td>\n",
       "    </tr>\n",
       "    <tr>\n",
       "      <th>13</th>\n",
       "      <td>City Service</td>\n",
       "      <td>1.0</td>\n",
       "      <td>6.25</td>\n",
       "      <td>0.0</td>\n",
       "    </tr>\n",
       "    <tr>\n",
       "      <th>14</th>\n",
       "      <td>Taxi Affiliation Services</td>\n",
       "      <td>0.0</td>\n",
       "      <td>3.75</td>\n",
       "      <td>0.0</td>\n",
       "    </tr>\n",
       "    <tr>\n",
       "      <th>15</th>\n",
       "      <td>Choice Taxi Association</td>\n",
       "      <td>2.2</td>\n",
       "      <td>6.75</td>\n",
       "      <td>2.0</td>\n",
       "    </tr>\n",
       "    <tr>\n",
       "      <th>16</th>\n",
       "      <td>Dispatch Taxi Affiliation</td>\n",
       "      <td>1.1</td>\n",
       "      <td>6.5</td>\n",
       "      <td>0.0</td>\n",
       "    </tr>\n",
       "    <tr>\n",
       "      <th>17</th>\n",
       "      <td>&lt;NA&gt;</td>\n",
       "      <td>6.6</td>\n",
       "      <td>18.25</td>\n",
       "      <td>0.0</td>\n",
       "    </tr>\n",
       "    <tr>\n",
       "      <th>18</th>\n",
       "      <td>&lt;NA&gt;</td>\n",
       "      <td>1.06</td>\n",
       "      <td>23.45</td>\n",
       "      <td>5.09</td>\n",
       "    </tr>\n",
       "    <tr>\n",
       "      <th>19</th>\n",
       "      <td>Yellow Cab</td>\n",
       "      <td>1.1</td>\n",
       "      <td>7.0</td>\n",
       "      <td>0.0</td>\n",
       "    </tr>\n",
       "  </tbody>\n",
       "</table>\n",
       "</div>[207176656 rows x 4 columns in total]"
      ],
      "text/plain": [
       "                              company  trip_miles   fare  tips\n",
       "0           Taxi Affiliation Services         0.0  11.25   2.8\n",
       "1                          Yellow Cab         3.4   9.65   2.0\n",
       "2             Choice Taxi Association         0.0   31.0   7.2\n",
       "3                                <NA>        11.3   6.45   0.0\n",
       "4                        City Service         1.3    7.0   1.5\n",
       "5           Taxi Affiliation Services         0.0  21.25   0.0\n",
       "6           Taxi Affiliation Services         0.0   7.85   0.0\n",
       "7           Taxi Affiliation Services         0.8   5.05   0.0\n",
       "8           Taxi Affiliation Services         3.9  14.25   0.0\n",
       "9        Chicago Medallion Management         3.8   14.0   2.0\n",
       "10            Choice Taxi Association        22.9   57.5   5.0\n",
       "11          Taxi Affiliation Services         0.9   6.75   2.0\n",
       "12          Star North Management LLC         1.3   8.25  0.15\n",
       "13                       City Service         1.0   6.25   0.0\n",
       "14          Taxi Affiliation Services         0.0   3.75   0.0\n",
       "15            Choice Taxi Association         2.2   6.75   2.0\n",
       "16          Dispatch Taxi Affiliation         1.1    6.5   0.0\n",
       "17                               <NA>         6.6  18.25   0.0\n",
       "18                               <NA>        1.06  23.45  5.09\n",
       "19                         Yellow Cab         1.1    7.0   0.0\n",
       "20                         Yellow Cab         1.6   8.25   3.0\n",
       "21          Taxi Affiliation Services         0.3   4.75   0.0\n",
       "22  Blue Ribbon Taxi Association Inc.         0.0   9.25   0.0\n",
       "23           Northwest Management LLC         0.6   5.25   0.0\n",
       "24            Choice Taxi Association         0.7   6.25   2.0\n",
       "...\n",
       "\n",
       "[207176656 rows x 4 columns]"
      ]
     },
     "execution_count": 7,
     "metadata": {},
     "output_type": "execute_result"
    }
   ],
   "source": [
    "df"
   ]
  },
  {
   "cell_type": "code",
   "execution_count": 8,
   "id": "e51b687e-0282-459c-8fd0-0ca22cfb153d",
   "metadata": {
    "tags": []
   },
   "outputs": [
    {
     "data": {
      "text/plain": [
       "0    11.25\n",
       "1     9.65\n",
       "2     31.0\n",
       "3     6.45\n",
       "4      7.0\n",
       "5    21.25\n",
       "6     7.85\n",
       "7     5.05\n",
       "8    14.25\n",
       "9     14.0\n",
       "Name: fare, dtype: Float64"
      ]
     },
     "execution_count": 8,
     "metadata": {},
     "output_type": "execute_result"
    }
   ],
   "source": [
    "df['fare'].head(n=10)"
   ]
  },
  {
   "cell_type": "code",
   "execution_count": 9,
   "id": "ef9d466e-1138-41a7-ad4a-51e09c05870c",
   "metadata": {},
   "outputs": [
    {
     "data": {
      "text/plain": [
       "13.614226043904155"
      ]
     },
     "execution_count": 9,
     "metadata": {},
     "output_type": "execute_result"
    }
   ],
   "source": [
    "df['fare'].mean()"
   ]
  },
  {
   "cell_type": "code",
   "execution_count": 13,
   "id": "eb800cbb-d7d9-4562-8c23-4dd6c06759cc",
   "metadata": {},
   "outputs": [
    {
     "data": {
      "text/plain": [
       "0    14.05\n",
       "1    11.65\n",
       "2     38.2\n",
       "3     6.45\n",
       "4      8.5\n",
       "dtype: Float64"
      ]
     },
     "execution_count": 13,
     "metadata": {},
     "output_type": "execute_result"
    }
   ],
   "source": [
    "subtotal = df['fare'] + df['tips']\n",
    "subtotal.head()"
   ]
  },
  {
   "cell_type": "code",
   "execution_count": 12,
   "id": "d2ffa53f-e158-4b0b-898e-825e3bd99881",
   "metadata": {},
   "outputs": [
    {
     "data": {
      "text/plain": [
       "2844629.760000093"
      ]
     },
     "execution_count": 12,
     "metadata": {},
     "output_type": "execute_result"
    }
   ],
   "source": [
    "subtotal[df['company'] == 'Norshore Cab'].sum()"
   ]
  }
 ],
 "metadata": {
  "kernelspec": {
   "display_name": "Python 3 (ipykernel)",
   "language": "python",
   "name": "python3"
  },
  "language_info": {
   "codemirror_mode": {
    "name": "ipython",
    "version": 3
   },
   "file_extension": ".py",
   "mimetype": "text/x-python",
   "name": "python",
   "nbconvert_exporter": "python",
   "pygments_lexer": "ipython3",
   "version": "3.10.9"
  }
 },
 "nbformat": 4,
 "nbformat_minor": 5
}
