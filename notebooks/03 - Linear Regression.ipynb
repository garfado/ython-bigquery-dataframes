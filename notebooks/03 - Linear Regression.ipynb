{
 "cells": [
  {
   "attachments": {},
   "cell_type": "markdown",
   "metadata": {},
   "source": [
    "# Linear Regression - Penguin weight\n",
    "\n",
    "![weighing a penguin - Parti](penguinweigh.png)\n",
    "\n",
    "This demo shows BigFrame's ML API providing an SKLearn-like experience for training a linear regression model.\n",
    "\n",
    "This example is adapted from the [BQML linear regression tutorial](https://cloud.google.com/bigquery-ml/docs/linear-regression-tutorial)."
   ]
  },
  {
   "attachments": {},
   "cell_type": "markdown",
   "metadata": {},
   "source": [
    "## 1. Init & load data"
   ]
  },
  {
   "cell_type": "code",
   "execution_count": 1,
   "metadata": {},
   "outputs": [
    {
     "data": {
      "text/plain": [
       "   tag_number                            species  island  culmen_length_mm  \\\n",
       "0        1225  Gentoo penguin (Pygoscelis papua)  Biscoe               NaN   \n",
       "1        1278  Gentoo penguin (Pygoscelis papua)  Biscoe              42.0   \n",
       "2        1275  Gentoo penguin (Pygoscelis papua)  Biscoe              46.5   \n",
       "3        1233  Gentoo penguin (Pygoscelis papua)  Biscoe              43.3   \n",
       "4        1311  Gentoo penguin (Pygoscelis papua)  Biscoe              47.5   \n",
       "5        1316  Gentoo penguin (Pygoscelis papua)  Biscoe              49.1   \n",
       "6        1313  Gentoo penguin (Pygoscelis papua)  Biscoe              45.5   \n",
       "7        1381  Gentoo penguin (Pygoscelis papua)  Biscoe              47.6   \n",
       "8        1377  Gentoo penguin (Pygoscelis papua)  Biscoe              45.1   \n",
       "9        1380  Gentoo penguin (Pygoscelis papua)  Biscoe              45.1   \n",
       "\n",
       "   culmen_depth_mm  flipper_length_mm  body_mass_g     sex  \n",
       "0              NaN                NaN          NaN    None  \n",
       "1             13.5              210.0       4150.0  FEMALE  \n",
       "2             13.5              210.0       4550.0  FEMALE  \n",
       "3             14.0              208.0       4575.0  FEMALE  \n",
       "4             14.0              212.0       4875.0  FEMALE  \n",
       "5             14.5              212.0       4625.0  FEMALE  \n",
       "6             14.5              212.0       4750.0  FEMALE  \n",
       "7             14.5              215.0       5400.0    MALE  \n",
       "8             14.5              207.0       5050.0  FEMALE  \n",
       "9             14.5              215.0       5000.0  FEMALE  \n",
       "...\n",
       "\n",
       "[347 rows x 8 columns]"
      ]
     },
     "execution_count": 1,
     "metadata": {},
     "output_type": "execute_result"
    }
   ],
   "source": [
    "# initialize BigFrames\n",
    "import bigframes\n",
    "session = bigframes.connect()\n",
    "\n",
    "# read a BigQuery table to a BigFrames dataframe\n",
    "df = session.read_gbq(\"bigframes-dev.bqml_tutorial.penguins\")\n",
    "\n",
    "# take a peek at the dataframe\n",
    "df"
   ]
  },
  {
   "attachments": {},
   "cell_type": "markdown",
   "metadata": {},
   "source": [
    "## 2. Data cleaning / prep"
   ]
  },
  {
   "cell_type": "code",
   "execution_count": 2,
   "metadata": {},
   "outputs": [
    {
     "data": {
      "text/plain": [
       "   tag_number island  culmen_length_mm  culmen_depth_mm  flipper_length_mm  \\\n",
       "0        1101  Dream              36.6             18.4              184.0   \n",
       "1        1102  Dream              39.8             19.1              184.0   \n",
       "2        1103  Dream              40.9             18.9              184.0   \n",
       "3        1105  Dream              37.3             16.8              192.0   \n",
       "4        1106  Dream              43.2             18.5              192.0   \n",
       "5        1110  Dream              40.2             20.1              200.0   \n",
       "6        1111  Dream              40.8             18.9              208.0   \n",
       "7        1112  Dream              39.0             18.7              185.0   \n",
       "8        1113  Dream              37.0             16.9              185.0   \n",
       "9        1115  Dream              34.0             17.1              185.0   \n",
       "\n",
       "   body_mass_g     sex  \n",
       "0       3475.0  FEMALE  \n",
       "1       4650.0    MALE  \n",
       "2       3900.0    MALE  \n",
       "3       3000.0  FEMALE  \n",
       "4       4100.0    MALE  \n",
       "5       3975.0    MALE  \n",
       "6       4300.0    MALE  \n",
       "7       3650.0    MALE  \n",
       "8       3000.0  FEMALE  \n",
       "9       3400.0  FEMALE  \n",
       "...\n",
       "\n",
       "[146 rows x 7 columns]"
      ]
     },
     "execution_count": 2,
     "metadata": {},
     "output_type": "execute_result"
    }
   ],
   "source": [
    "# set a friendlier index to uniquely identify the rows\n",
    "df = df.set_index(\"tag_number\")\n",
    "\n",
    "# filter down to the data we want to analyze\n",
    "adelie_data = df[df.species == \"Adelie Penguin (Pygoscelis adeliae)\"]\n",
    "\n",
    "# drop the columns we don't care about\n",
    "adelie_data = adelie_data.drop([\"name\", \"species\"])\n",
    "\n",
    "# drop rows with nulls to get our training data\n",
    "training_data = adelie_data.dropna()\n",
    "\n",
    "# take a peek at the training data\n",
    "training_data"
   ]
  },
  {
   "cell_type": "code",
   "execution_count": 3,
   "metadata": {},
   "outputs": [],
   "source": [
    "# pick feature columns and label column\n",
    "feature_columns = training_data[['island', 'culmen_length_mm', 'culmen_depth_mm', 'flipper_length_mm', 'sex']]\n",
    "label_columns = training_data[['body_mass_g']]                               \n",
    "\n",
    "# also get the rows that we want to make predictions for (i.e. where the feature column is null)\n",
    "missing_body_mass = adelie_data[adelie_data.body_mass_g.isnull()]"
   ]
  },
  {
   "attachments": {},
   "cell_type": "markdown",
   "metadata": {},
   "source": [
    "## 3. Create, score, fit, predict"
   ]
  },
  {
   "cell_type": "code",
   "execution_count": 5,
   "metadata": {},
   "outputs": [],
   "source": [
    "from bigframes.ml.linear_model import LinearRegression\n",
    "\n",
    "# as in scikit-learn, a newly created model is just a bundle of parameters\n",
    "# default parameters are fine here\n",
    "model = LinearRegression()\n",
    "\n",
    "# this will train a temporary model in BQML\n",
    "model.fit(feature_columns, label_columns)"
   ]
  },
  {
   "cell_type": "code",
   "execution_count": 6,
   "metadata": {},
   "outputs": [
    {
     "data": {
      "text/plain": [
       "   mean_absolute_error  mean_squared_error  mean_squared_log_error  \\\n",
       "0           223.867573        78092.919595                0.005589   \n",
       "\n",
       "   median_absolute_error  r2_score  explained_variance  \n",
       "0              182.67685  0.626156            0.626156  \n",
       "\n",
       "[1 rows x 6 columns]"
      ]
     },
     "execution_count": 6,
     "metadata": {},
     "output_type": "execute_result"
    }
   ],
   "source": [
    "# check how the model performed, using the automatic test/training data split chosen by BQML\n",
    "model.score()"
   ]
  },
  {
   "cell_type": "code",
   "execution_count": 7,
   "metadata": {},
   "outputs": [
    {
     "data": {
      "text/plain": [
       "   tag_number  predicted_body_mass_g\n",
       "0        1393            3441.163571\n",
       "1        1524            4522.356778\n",
       "2        1523            3695.111770\n",
       "3        1525            4175.124071\n",
       "\n",
       "[4 rows x 2 columns]"
      ]
     },
     "execution_count": 7,
     "metadata": {},
     "output_type": "execute_result"
    }
   ],
   "source": [
    "# use the model to predict the missing labels\n",
    "model.predict(missing_body_mass)"
   ]
  },
  {
   "attachments": {},
   "cell_type": "markdown",
   "metadata": {},
   "source": [
    "## 4. Save in BigQuery"
   ]
  },
  {
   "cell_type": "code",
   "execution_count": 8,
   "metadata": {},
   "outputs": [
    {
     "data": {
      "text/plain": [
       "I can't beleive it's not SKLearn!"
      ]
     },
     "execution_count": 8,
     "metadata": {},
     "output_type": "execute_result"
    }
   ],
   "source": [
    "# save the model to a permanent location in BigQuery, so we can use it in future sessions (and elsewhere in BQ)\n",
    "model.to_gbq(\"bqml_tutorial.penguins_model\", replace=True)"
   ]
  }
 ],
 "metadata": {
  "kernelspec": {
   "display_name": "venv",
   "language": "python",
   "name": "python3"
  },
  "language_info": {
   "codemirror_mode": {
    "name": "ipython",
    "version": 3
   },
   "file_extension": ".py",
   "mimetype": "text/x-python",
   "name": "python",
   "nbconvert_exporter": "python",
   "pygments_lexer": "ipython3",
   "version": "3.10.9"
  },
  "orig_nbformat": 4,
  "vscode": {
   "interpreter": {
    "hash": "a850322d07d9bdc9ec5f301d307e048bcab2390ae395e1cbce9335f4e081e5e2"
   }
  }
 },
 "nbformat": 4,
 "nbformat_minor": 2
}
